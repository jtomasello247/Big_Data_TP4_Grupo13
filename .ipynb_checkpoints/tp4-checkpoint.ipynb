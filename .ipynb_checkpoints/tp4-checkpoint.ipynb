{
 "cells": [
  {
   "cell_type": "code",
   "execution_count": 1,
   "id": "398fba56-3692-4b56-8d6c-b8251426c167",
   "metadata": {},
   "outputs": [],
   "source": [
    "import pandas as pd\n",
    "from sklearn.model_selection import train_test_split\n"
   ]
  },
  {
   "cell_type": "markdown",
   "id": "017a4780-93d2-4984-9118-904116534427",
   "metadata": {},
   "source": [
    "# Punto 1"
   ]
  },
  {
   "cell_type": "code",
   "execution_count": 3,
   "id": "d743b677-48fe-49a9-a3b9-1a6546c28b28",
   "metadata": {},
   "outputs": [],
   "source": [
    "respondieron = pd.read_csv('respondieron.csv')"
   ]
  },
  {
   "cell_type": "code",
   "execution_count": 4,
   "id": "ec45f4f7-bde5-4bd9-a952-b3bbfd72cc65",
   "metadata": {},
   "outputs": [
    {
     "data": {
      "text/plain": [
       "(14647, 2)"
      ]
     },
     "execution_count": 4,
     "metadata": {},
     "output_type": "execute_result"
    }
   ],
   "source": [
    "respondieron.shape"
   ]
  },
  {
   "cell_type": "code",
   "execution_count": 5,
   "id": "2e34cd03-f8ab-4c67-816d-33d009acb92d",
   "metadata": {},
   "outputs": [],
   "source": [
    "norespondieron = pd.read_csv('norespondieron.csv')"
   ]
  },
  {
   "cell_type": "code",
   "execution_count": 6,
   "id": "c4210bef-787e-41f1-965f-b3c5cace225f",
   "metadata": {},
   "outputs": [],
   "source": [
    "respondieronconaños = pd.read_csv('respondieron_con_años.csv')"
   ]
  },
  {
   "cell_type": "code",
   "execution_count": 7,
   "id": "360adbcd-0812-4d3b-96c0-cf997e81c01a",
   "metadata": {},
   "outputs": [
    {
     "data": {
      "text/html": [
       "<div>\n",
       "<style scoped>\n",
       "    .dataframe tbody tr th:only-of-type {\n",
       "        vertical-align: middle;\n",
       "    }\n",
       "\n",
       "    .dataframe tbody tr th {\n",
       "        vertical-align: top;\n",
       "    }\n",
       "\n",
       "    .dataframe thead th {\n",
       "        text-align: right;\n",
       "    }\n",
       "</style>\n",
       "<table border=\"1\" class=\"dataframe\">\n",
       "  <thead>\n",
       "    <tr style=\"text-align: right;\">\n",
       "      <th></th>\n",
       "      <th>cond. de actividad</th>\n",
       "      <th>PEA</th>\n",
       "      <th>ano4</th>\n",
       "    </tr>\n",
       "  </thead>\n",
       "  <tbody>\n",
       "    <tr>\n",
       "      <th>0</th>\n",
       "      <td>3.0</td>\n",
       "      <td>2.0</td>\n",
       "      <td>2004.0</td>\n",
       "    </tr>\n",
       "    <tr>\n",
       "      <th>1</th>\n",
       "      <td>1.0</td>\n",
       "      <td>1.0</td>\n",
       "      <td>2004.0</td>\n",
       "    </tr>\n",
       "    <tr>\n",
       "      <th>2</th>\n",
       "      <td>3.0</td>\n",
       "      <td>2.0</td>\n",
       "      <td>2004.0</td>\n",
       "    </tr>\n",
       "    <tr>\n",
       "      <th>3</th>\n",
       "      <td>1.0</td>\n",
       "      <td>1.0</td>\n",
       "      <td>2004.0</td>\n",
       "    </tr>\n",
       "    <tr>\n",
       "      <th>4</th>\n",
       "      <td>3.0</td>\n",
       "      <td>2.0</td>\n",
       "      <td>2004.0</td>\n",
       "    </tr>\n",
       "    <tr>\n",
       "      <th>...</th>\n",
       "      <td>...</td>\n",
       "      <td>...</td>\n",
       "      <td>...</td>\n",
       "    </tr>\n",
       "    <tr>\n",
       "      <th>14642</th>\n",
       "      <td>3.0</td>\n",
       "      <td>2.0</td>\n",
       "      <td>2024.0</td>\n",
       "    </tr>\n",
       "    <tr>\n",
       "      <th>14643</th>\n",
       "      <td>2.0</td>\n",
       "      <td>1.0</td>\n",
       "      <td>2024.0</td>\n",
       "    </tr>\n",
       "    <tr>\n",
       "      <th>14644</th>\n",
       "      <td>1.0</td>\n",
       "      <td>1.0</td>\n",
       "      <td>2024.0</td>\n",
       "    </tr>\n",
       "    <tr>\n",
       "      <th>14645</th>\n",
       "      <td>1.0</td>\n",
       "      <td>1.0</td>\n",
       "      <td>2024.0</td>\n",
       "    </tr>\n",
       "    <tr>\n",
       "      <th>14646</th>\n",
       "      <td>1.0</td>\n",
       "      <td>1.0</td>\n",
       "      <td>2024.0</td>\n",
       "    </tr>\n",
       "  </tbody>\n",
       "</table>\n",
       "<p>14647 rows × 3 columns</p>\n",
       "</div>"
      ],
      "text/plain": [
       "       cond. de actividad  PEA    ano4\n",
       "0                     3.0  2.0  2004.0\n",
       "1                     1.0  1.0  2004.0\n",
       "2                     3.0  2.0  2004.0\n",
       "3                     1.0  1.0  2004.0\n",
       "4                     3.0  2.0  2004.0\n",
       "...                   ...  ...     ...\n",
       "14642                 3.0  2.0  2024.0\n",
       "14643                 2.0  1.0  2024.0\n",
       "14644                 1.0  1.0  2024.0\n",
       "14645                 1.0  1.0  2024.0\n",
       "14646                 1.0  1.0  2024.0\n",
       "\n",
       "[14647 rows x 3 columns]"
      ]
     },
     "execution_count": 7,
     "metadata": {},
     "output_type": "execute_result"
    }
   ],
   "source": [
    "respondieronconaños"
   ]
  },
  {
   "cell_type": "code",
   "execution_count": 8,
   "id": "e5e6bf3a-ec70-49db-914a-95d9efcddbe4",
   "metadata": {},
   "outputs": [],
   "source": [
    "import pandas as pd\n",
    "import numpy as np\n",
    "from sklearn.model_selection import train_test_split\n"
   ]
  },
  {
   "cell_type": "code",
   "execution_count": 9,
   "id": "9cfc39c8-4e0b-40b6-8b18-a8b75ea55b3b",
   "metadata": {},
   "outputs": [],
   "source": [
    "respondieron[\"desocupado\"] = (respondieronconaños[\"PEA\"] == 1).astype(int)"
   ]
  },
  {
   "cell_type": "code",
   "execution_count": 10,
   "id": "d83b7778-cd14-4441-8f53-75fdba1d6973",
   "metadata": {},
   "outputs": [
    {
     "name": "stdout",
     "output_type": "stream",
     "text": [
      "[2004. 2024.]\n"
     ]
    }
   ],
   "source": [
    "print(respondieronconaños[\"ano4\"].unique()) #estan bien cargados los dos años (2004) y (2024)"
   ]
  },
  {
   "cell_type": "code",
   "execution_count": 11,
   "id": "4ab503a4-1d85-4dd1-bfad-f2f90fd8bfc1",
   "metadata": {},
   "outputs": [],
   "source": [
    "respondieronconaños[\"desocupado\"] = (respondieronconaños[\"PEA\"] == 1).astype(int) \n",
    "#Para cada valor 1 de PEA, la tabla de desocupado devuelve 1, para otro valor devuelve 0. Es un booleano."
   ]
  },
  {
   "cell_type": "code",
   "execution_count": 12,
   "id": "ccbe6706-4b84-4aca-8cda-fca347e6e493",
   "metadata": {},
   "outputs": [
    {
     "name": "stdout",
     "output_type": "stream",
     "text": [
      "\n",
      "Procesando año: 2004.0\n",
      "Año 2004.0:\n",
      "Train shape: (5352, 2), Test shape: (2295, 2)\n",
      "\n",
      "Procesando año: 2024.0\n",
      "Año 2024.0:\n",
      "Train shape: (4900, 2), Test shape: (2100, 2)\n"
     ]
    }
   ],
   "source": [
    "for año in respondieronconaños[\"ano4\"].unique():\n",
    "    print(f\"\\nProcesando año: {año}\")\n",
    "    \n",
    "    df_anual = respondieronconaños[respondieronconaños[\"ano4\"] == año]\n",
    "    \n",
    "    y = df_anual[\"desocupado\"] #Esta será nuestra variable independiente\n",
    "    \n",
    "    X = pd.get_dummies(df_anual[\"PEA\"], prefix=\"PEA\", drop_first=True) #Usamos solo PEA, con valores booleanos como predictor\n",
    "    X = X.astype(int) #Consideramos más comodo trabajar con unos y ceros\n",
    "    X = X.copy() #Esto para evitar warnings y errores\n",
    "    X[\"intercept\"] = 1 #La columna de unos es útil para la ordenada al origen, Beta sub 0\n",
    "    \n",
    "    X_train, X_test, y_train, y_test = train_test_split(X, y, train_size=0.7, random_state=444) #Requerimientos de la consigna\n",
    "    print(f\"Año {año}:\")\n",
    "    print(f\"Train shape: {X_train.shape}, Test shape: {X_test.shape}\")\n",
    "    #Podemos ver ahora la cantidad de filas y columnas que tienen nuestras muestras en cada año."
   ]
  },
  {
   "cell_type": "markdown",
   "id": "5f5e0f63-4d47-48ae-972d-2a8210a05e8d",
   "metadata": {},
   "source": [
    "## Evitamos Multicolinealidad\n",
    "Decidimos eliminar una columna PEA de las dos que generan las dummies, porque ya sabemos que si una es verdadera, la otra es falsa, entonces podemos evitarnos esta relación excluyente que tienen. Tampoco es útil la multicolinealidad para interpretar los coeficientes, por lo que para evitar confusiones es mejor no tenerlo en nuestro modelo. Así que solo tendremos en cuenta PEA 2, que adopta 1 si es Población inactiva, y adopta 0 si es Población economicamente activa (donde se encuentran los desocupados)\n",
    "Por otro lado, por si no se notó, decidimos eliminar Cond. de actividad, debido a que lo consideramos algo ilógico desde lo predictivo, porque estariamos prediciendo nuestra variable objetivo con una columna que incluye directamente la variable objetivo (Multicolinealidad muy alta)"
   ]
  },
  {
   "cell_type": "code",
   "execution_count": 14,
   "id": "cbc97da5-ab6b-47e9-9b0e-c0243f7a4619",
   "metadata": {},
   "outputs": [
    {
     "data": {
      "text/html": [
       "<div>\n",
       "<style scoped>\n",
       "    .dataframe tbody tr th:only-of-type {\n",
       "        vertical-align: middle;\n",
       "    }\n",
       "\n",
       "    .dataframe tbody tr th {\n",
       "        vertical-align: top;\n",
       "    }\n",
       "\n",
       "    .dataframe thead th {\n",
       "        text-align: right;\n",
       "    }\n",
       "</style>\n",
       "<table border=\"1\" class=\"dataframe\">\n",
       "  <thead>\n",
       "    <tr style=\"text-align: right;\">\n",
       "      <th></th>\n",
       "      <th>PEA_2.0</th>\n",
       "      <th>intercept</th>\n",
       "    </tr>\n",
       "  </thead>\n",
       "  <tbody>\n",
       "    <tr>\n",
       "      <th>7647</th>\n",
       "      <td>0</td>\n",
       "      <td>1</td>\n",
       "    </tr>\n",
       "    <tr>\n",
       "      <th>7648</th>\n",
       "      <td>1</td>\n",
       "      <td>1</td>\n",
       "    </tr>\n",
       "    <tr>\n",
       "      <th>7649</th>\n",
       "      <td>1</td>\n",
       "      <td>1</td>\n",
       "    </tr>\n",
       "    <tr>\n",
       "      <th>7650</th>\n",
       "      <td>0</td>\n",
       "      <td>1</td>\n",
       "    </tr>\n",
       "    <tr>\n",
       "      <th>7651</th>\n",
       "      <td>0</td>\n",
       "      <td>1</td>\n",
       "    </tr>\n",
       "    <tr>\n",
       "      <th>...</th>\n",
       "      <td>...</td>\n",
       "      <td>...</td>\n",
       "    </tr>\n",
       "    <tr>\n",
       "      <th>14642</th>\n",
       "      <td>1</td>\n",
       "      <td>1</td>\n",
       "    </tr>\n",
       "    <tr>\n",
       "      <th>14643</th>\n",
       "      <td>0</td>\n",
       "      <td>1</td>\n",
       "    </tr>\n",
       "    <tr>\n",
       "      <th>14644</th>\n",
       "      <td>0</td>\n",
       "      <td>1</td>\n",
       "    </tr>\n",
       "    <tr>\n",
       "      <th>14645</th>\n",
       "      <td>0</td>\n",
       "      <td>1</td>\n",
       "    </tr>\n",
       "    <tr>\n",
       "      <th>14646</th>\n",
       "      <td>0</td>\n",
       "      <td>1</td>\n",
       "    </tr>\n",
       "  </tbody>\n",
       "</table>\n",
       "<p>7000 rows × 2 columns</p>\n",
       "</div>"
      ],
      "text/plain": [
       "       PEA_2.0  intercept\n",
       "7647         0          1\n",
       "7648         1          1\n",
       "7649         1          1\n",
       "7650         0          1\n",
       "7651         0          1\n",
       "...        ...        ...\n",
       "14642        1          1\n",
       "14643        0          1\n",
       "14644        0          1\n",
       "14645        0          1\n",
       "14646        0          1\n",
       "\n",
       "[7000 rows x 2 columns]"
      ]
     },
     "execution_count": 14,
     "metadata": {},
     "output_type": "execute_result"
    }
   ],
   "source": [
    "X"
   ]
  },
  {
   "cell_type": "code",
   "execution_count": 15,
   "id": "e7e10a3a-2c45-49ba-808a-d2f1689bbb0a",
   "metadata": {},
   "outputs": [],
   "source": [
    "common_cols = X_train.columns.intersection(X_test.columns)\n"
   ]
  },
  {
   "cell_type": "code",
   "execution_count": 16,
   "id": "1abca4b5-cb6e-40aa-b8c3-3e3ac4e72408",
   "metadata": {},
   "outputs": [],
   "source": [
    "mean_train = X_train[common_cols].mean()\n",
    "mean_test = X_test[common_cols].mean()"
   ]
  },
  {
   "cell_type": "code",
   "execution_count": 17,
   "id": "9155a7d6-33d3-4f98-a464-f3ca58fdaad8",
   "metadata": {},
   "outputs": [
    {
     "name": "stdout",
     "output_type": "stream",
     "text": [
      "           Media Entrenamiento  Media Testeo  Diferencia Absoluta\n",
      "PEA_2.0               0.487347      0.517143             0.029796\n",
      "intercept             1.000000      1.000000             0.000000\n"
     ]
    }
   ],
   "source": [
    "diff_table = pd.DataFrame({\n",
    "    \"Media Entrenamiento\": mean_train,\n",
    "    \"Media Testeo\": mean_test,\n",
    "    \"Diferencia Absoluta\": (mean_train - mean_test).abs()\n",
    "})\n",
    "diff_table = diff_table.sort_values(\"Diferencia Absoluta\", ascending=False)\n",
    "print(diff_table)"
   ]
  },
  {
   "cell_type": "markdown",
   "id": "22cc21b9-e6db-43fb-ab14-5a52a21f1855",
   "metadata": {},
   "source": [
    "### Conclusión\n",
    "La tabla de diferencia de medias muestra que las medias de las variables explicativas en los conjuntos de entrenamiento y testeo son muy similares. La variable PEA presenta una diferencia absoluta pequeña de aproximadamente 0.03, lo que sugiere una distribución equilibrada."
   ]
  },
  {
   "cell_type": "markdown",
   "id": "61b00b03-15fc-4e96-a0e1-949c31873f17",
   "metadata": {},
   "source": [
    "# Punto 2"
   ]
  },
  {
   "cell_type": "code",
   "execution_count": 20,
   "id": "36966b41-3742-4eee-8703-6185b7ad85eb",
   "metadata": {},
   "outputs": [],
   "source": [
    "import numpy as np\n",
    "from sklearn.linear_model import LinearRegression\n",
    "from sklearn.preprocessing import PolynomialFeatures\n",
    "from sklearn.metrics import r2_score, mean_squared_error, mean_absolute_error\n",
    "import statsmodels.api as sm\n",
    "import matplotlib.pyplot as plt"
   ]
  },
  {
   "cell_type": "code",
   "execution_count": 21,
   "id": "c15f99f3-7622-48bd-bec4-c48eec639b74",
   "metadata": {},
   "outputs": [],
   "source": [
    "edad = pd.read_csv(\"edad.csv\")"
   ]
  },
  {
   "cell_type": "code",
   "execution_count": 22,
   "id": "6dede3a2-d38b-476c-9c06-46232ac14447",
   "metadata": {},
   "outputs": [],
   "source": [
    "edad2 = pd.read_csv(\"edad2.csv\")"
   ]
  },
  {
   "cell_type": "code",
   "execution_count": 23,
   "id": "4d131eda-3190-445b-90bc-5724b4eaa82a",
   "metadata": {},
   "outputs": [],
   "source": [
    "horastrab = pd.read_csv(\"horastrab.csv\")"
   ]
  },
  {
   "cell_type": "code",
   "execution_count": 24,
   "id": "867fed90-d6f2-479d-b7d9-f51facd7b0b2",
   "metadata": {},
   "outputs": [],
   "source": [
    "pd.set_option('display.float_format', '{:,.2f}'.format)\n"
   ]
  },
  {
   "cell_type": "code",
   "execution_count": 25,
   "id": "ba0823f5-d952-4669-8242-d1ef5204c873",
   "metadata": {},
   "outputs": [],
   "source": [
    "salario_semanal = pd.read_csv(\"salario semanal.csv\")\n"
   ]
  },
  {
   "cell_type": "code",
   "execution_count": 26,
   "id": "646d1642-4c95-4614-8a57-7c62afbe173e",
   "metadata": {},
   "outputs": [
    {
     "data": {
      "text/html": [
       "<div>\n",
       "<style scoped>\n",
       "    .dataframe tbody tr th:only-of-type {\n",
       "        vertical-align: middle;\n",
       "    }\n",
       "\n",
       "    .dataframe tbody tr th {\n",
       "        vertical-align: top;\n",
       "    }\n",
       "\n",
       "    .dataframe thead th {\n",
       "        text-align: right;\n",
       "    }\n",
       "</style>\n",
       "<table border=\"1\" class=\"dataframe\">\n",
       "  <thead>\n",
       "    <tr style=\"text-align: right;\">\n",
       "      <th></th>\n",
       "      <th>año</th>\n",
       "      <th>salario semanal</th>\n",
       "    </tr>\n",
       "  </thead>\n",
       "  <tbody>\n",
       "    <tr>\n",
       "      <th>count</th>\n",
       "      <td>5,014.00</td>\n",
       "      <td>5,014.00</td>\n",
       "    </tr>\n",
       "    <tr>\n",
       "      <th>mean</th>\n",
       "      <td>2,012.74</td>\n",
       "      <td>181,379.51</td>\n",
       "    </tr>\n",
       "    <tr>\n",
       "      <th>std</th>\n",
       "      <td>9.92</td>\n",
       "      <td>351,329.81</td>\n",
       "    </tr>\n",
       "    <tr>\n",
       "      <th>min</th>\n",
       "      <td>2,004.00</td>\n",
       "      <td>150.00</td>\n",
       "    </tr>\n",
       "    <tr>\n",
       "      <th>25%</th>\n",
       "      <td>2,004.00</td>\n",
       "      <td>14,100.00</td>\n",
       "    </tr>\n",
       "    <tr>\n",
       "      <th>50%</th>\n",
       "      <td>2,004.00</td>\n",
       "      <td>36,000.00</td>\n",
       "    </tr>\n",
       "    <tr>\n",
       "      <th>75%</th>\n",
       "      <td>2,024.00</td>\n",
       "      <td>250,000.00</td>\n",
       "    </tr>\n",
       "    <tr>\n",
       "      <th>max</th>\n",
       "      <td>2,024.00</td>\n",
       "      <td>8,000,000.00</td>\n",
       "    </tr>\n",
       "  </tbody>\n",
       "</table>\n",
       "</div>"
      ],
      "text/plain": [
       "           año  salario semanal\n",
       "count 5,014.00         5,014.00\n",
       "mean  2,012.74       181,379.51\n",
       "std       9.92       351,329.81\n",
       "min   2,004.00           150.00\n",
       "25%   2,004.00        14,100.00\n",
       "50%   2,004.00        36,000.00\n",
       "75%   2,024.00       250,000.00\n",
       "max   2,024.00     8,000,000.00"
      ]
     },
     "execution_count": 26,
     "metadata": {},
     "output_type": "execute_result"
    }
   ],
   "source": [
    "salario_semanal=salario_semanal[salario_semanal[\"salario semanal\"]>0] #Consideramos irrelevantes los salarios que son 0\n",
    "salario_semanal.describe()"
   ]
  },
  {
   "cell_type": "code",
   "execution_count": 27,
   "id": "f9728079-c7ba-4bc9-a97c-3fa37c35092b",
   "metadata": {},
   "outputs": [],
   "source": [
    "educ = pd.read_csv(\"educ.csv\")"
   ]
  },
  {
   "cell_type": "code",
   "execution_count": 28,
   "id": "cfa1d39b-3934-4b57-b1e6-2a555fe9bdff",
   "metadata": {
    "scrolled": true
   },
   "outputs": [],
   "source": [
    "Ocupados=pd.read_csv(\"Ocupados.csv\")"
   ]
  },
  {
   "cell_type": "code",
   "execution_count": 29,
   "id": "34033b42-ece1-4550-9e41-5cca91d597ca",
   "metadata": {},
   "outputs": [
    {
     "data": {
      "text/html": [
       "<div>\n",
       "<style scoped>\n",
       "    .dataframe tbody tr th:only-of-type {\n",
       "        vertical-align: middle;\n",
       "    }\n",
       "\n",
       "    .dataframe tbody tr th {\n",
       "        vertical-align: top;\n",
       "    }\n",
       "\n",
       "    .dataframe thead th {\n",
       "        text-align: right;\n",
       "    }\n",
       "</style>\n",
       "<table border=\"1\" class=\"dataframe\">\n",
       "  <thead>\n",
       "    <tr style=\"text-align: right;\">\n",
       "      <th></th>\n",
       "      <th>año</th>\n",
       "      <th>estado</th>\n",
       "    </tr>\n",
       "  </thead>\n",
       "  <tbody>\n",
       "    <tr>\n",
       "      <th>0</th>\n",
       "      <td>2,004.00</td>\n",
       "      <td>1.00</td>\n",
       "    </tr>\n",
       "    <tr>\n",
       "      <th>1</th>\n",
       "      <td>2,004.00</td>\n",
       "      <td>1.00</td>\n",
       "    </tr>\n",
       "    <tr>\n",
       "      <th>2</th>\n",
       "      <td>2,004.00</td>\n",
       "      <td>1.00</td>\n",
       "    </tr>\n",
       "    <tr>\n",
       "      <th>3</th>\n",
       "      <td>2,004.00</td>\n",
       "      <td>1.00</td>\n",
       "    </tr>\n",
       "    <tr>\n",
       "      <th>4</th>\n",
       "      <td>2,004.00</td>\n",
       "      <td>1.00</td>\n",
       "    </tr>\n",
       "    <tr>\n",
       "      <th>...</th>\n",
       "      <td>...</td>\n",
       "      <td>...</td>\n",
       "    </tr>\n",
       "    <tr>\n",
       "      <th>23399</th>\n",
       "      <td>2,024.00</td>\n",
       "      <td>1.00</td>\n",
       "    </tr>\n",
       "    <tr>\n",
       "      <th>23400</th>\n",
       "      <td>2,024.00</td>\n",
       "      <td>1.00</td>\n",
       "    </tr>\n",
       "    <tr>\n",
       "      <th>23401</th>\n",
       "      <td>2,024.00</td>\n",
       "      <td>1.00</td>\n",
       "    </tr>\n",
       "    <tr>\n",
       "      <th>23402</th>\n",
       "      <td>2,024.00</td>\n",
       "      <td>1.00</td>\n",
       "    </tr>\n",
       "    <tr>\n",
       "      <th>23403</th>\n",
       "      <td>2,024.00</td>\n",
       "      <td>1.00</td>\n",
       "    </tr>\n",
       "  </tbody>\n",
       "</table>\n",
       "<p>23404 rows × 2 columns</p>\n",
       "</div>"
      ],
      "text/plain": [
       "           año  estado\n",
       "0     2,004.00    1.00\n",
       "1     2,004.00    1.00\n",
       "2     2,004.00    1.00\n",
       "3     2,004.00    1.00\n",
       "4     2,004.00    1.00\n",
       "...        ...     ...\n",
       "23399 2,024.00    1.00\n",
       "23400 2,024.00    1.00\n",
       "23401 2,024.00    1.00\n",
       "23402 2,024.00    1.00\n",
       "23403 2,024.00    1.00\n",
       "\n",
       "[23404 rows x 2 columns]"
      ]
     },
     "execution_count": 29,
     "metadata": {},
     "output_type": "execute_result"
    }
   ],
   "source": [
    "Ocupados"
   ]
  },
  {
   "cell_type": "code",
   "execution_count": 30,
   "id": "f029c261-da06-407d-a42b-7c65fc2c28d4",
   "metadata": {},
   "outputs": [],
   "source": [
    "OcupadosEPH = Ocupados.combine_first(edad).dropna()\n"
   ]
  },
  {
   "cell_type": "code",
   "execution_count": 31,
   "id": "e3f70ff6-689a-4d5b-a941-814147ceb9b2",
   "metadata": {},
   "outputs": [],
   "source": [
    "OcupadosEPH=OcupadosEPH.combine_first(edad2).dropna()"
   ]
  },
  {
   "cell_type": "code",
   "execution_count": 32,
   "id": "f9b0cad4-b897-4b90-914d-13e30a79f8a3",
   "metadata": {},
   "outputs": [],
   "source": [
    "OcupadosEPH = OcupadosEPH.combine_first(educ).dropna()"
   ]
  },
  {
   "cell_type": "code",
   "execution_count": 33,
   "id": "d3297e1e-d533-489f-aeac-fa00c78f727a",
   "metadata": {},
   "outputs": [],
   "source": [
    "OcupadosEPH = OcupadosEPH.combine_first(horastrab).dropna()"
   ]
  },
  {
   "cell_type": "code",
   "execution_count": 34,
   "id": "767a8b35-ec74-425c-a94b-e07dc1d9fcc9",
   "metadata": {},
   "outputs": [
    {
     "data": {
      "text/html": [
       "<div>\n",
       "<style scoped>\n",
       "    .dataframe tbody tr th:only-of-type {\n",
       "        vertical-align: middle;\n",
       "    }\n",
       "\n",
       "    .dataframe tbody tr th {\n",
       "        vertical-align: top;\n",
       "    }\n",
       "\n",
       "    .dataframe thead th {\n",
       "        text-align: right;\n",
       "    }\n",
       "</style>\n",
       "<table border=\"1\" class=\"dataframe\">\n",
       "  <thead>\n",
       "    <tr style=\"text-align: right;\">\n",
       "      <th></th>\n",
       "      <th>año</th>\n",
       "      <th>edad</th>\n",
       "      <th>edad2</th>\n",
       "      <th>educ</th>\n",
       "      <th>estado</th>\n",
       "      <th>horastrab</th>\n",
       "      <th>salario semanal</th>\n",
       "    </tr>\n",
       "  </thead>\n",
       "  <tbody>\n",
       "    <tr>\n",
       "      <th>3</th>\n",
       "      <td>2004</td>\n",
       "      <td>54</td>\n",
       "      <td>2916</td>\n",
       "      <td>10</td>\n",
       "      <td>1</td>\n",
       "      <td>59</td>\n",
       "      <td>60000</td>\n",
       "    </tr>\n",
       "    <tr>\n",
       "      <th>5</th>\n",
       "      <td>2004</td>\n",
       "      <td>25</td>\n",
       "      <td>625</td>\n",
       "      <td>16</td>\n",
       "      <td>1</td>\n",
       "      <td>2</td>\n",
       "      <td>900</td>\n",
       "    </tr>\n",
       "    <tr>\n",
       "      <th>6</th>\n",
       "      <td>2004</td>\n",
       "      <td>20</td>\n",
       "      <td>400</td>\n",
       "      <td>11</td>\n",
       "      <td>1</td>\n",
       "      <td>6</td>\n",
       "      <td>3000</td>\n",
       "    </tr>\n",
       "    <tr>\n",
       "      <th>7</th>\n",
       "      <td>2004</td>\n",
       "      <td>55</td>\n",
       "      <td>3025</td>\n",
       "      <td>9</td>\n",
       "      <td>1</td>\n",
       "      <td>55</td>\n",
       "      <td>24000</td>\n",
       "    </tr>\n",
       "    <tr>\n",
       "      <th>12</th>\n",
       "      <td>2004</td>\n",
       "      <td>50</td>\n",
       "      <td>2500</td>\n",
       "      <td>11</td>\n",
       "      <td>1</td>\n",
       "      <td>40</td>\n",
       "      <td>22500</td>\n",
       "    </tr>\n",
       "    <tr>\n",
       "      <th>...</th>\n",
       "      <td>...</td>\n",
       "      <td>...</td>\n",
       "      <td>...</td>\n",
       "      <td>...</td>\n",
       "      <td>...</td>\n",
       "      <td>...</td>\n",
       "      <td>...</td>\n",
       "    </tr>\n",
       "    <tr>\n",
       "      <th>7176</th>\n",
       "      <td>2024</td>\n",
       "      <td>52</td>\n",
       "      <td>2704</td>\n",
       "      <td>3</td>\n",
       "      <td>1</td>\n",
       "      <td>0</td>\n",
       "      <td>18000</td>\n",
       "    </tr>\n",
       "    <tr>\n",
       "      <th>7178</th>\n",
       "      <td>2024</td>\n",
       "      <td>56</td>\n",
       "      <td>3136</td>\n",
       "      <td>4</td>\n",
       "      <td>1</td>\n",
       "      <td>0</td>\n",
       "      <td>3000</td>\n",
       "    </tr>\n",
       "    <tr>\n",
       "      <th>7182</th>\n",
       "      <td>2024</td>\n",
       "      <td>48</td>\n",
       "      <td>2304</td>\n",
       "      <td>0</td>\n",
       "      <td>1</td>\n",
       "      <td>0</td>\n",
       "      <td>8400</td>\n",
       "    </tr>\n",
       "    <tr>\n",
       "      <th>7194</th>\n",
       "      <td>2024</td>\n",
       "      <td>52</td>\n",
       "      <td>2704</td>\n",
       "      <td>16</td>\n",
       "      <td>1</td>\n",
       "      <td>0</td>\n",
       "      <td>30000</td>\n",
       "    </tr>\n",
       "    <tr>\n",
       "      <th>7199</th>\n",
       "      <td>2024</td>\n",
       "      <td>38</td>\n",
       "      <td>1444</td>\n",
       "      <td>14</td>\n",
       "      <td>1</td>\n",
       "      <td>0</td>\n",
       "      <td>4500</td>\n",
       "    </tr>\n",
       "  </tbody>\n",
       "</table>\n",
       "<p>2584 rows × 7 columns</p>\n",
       "</div>"
      ],
      "text/plain": [
       "       año  edad  edad2  educ  estado  horastrab  salario semanal\n",
       "3     2004    54   2916    10       1         59            60000\n",
       "5     2004    25    625    16       1          2              900\n",
       "6     2004    20    400    11       1          6             3000\n",
       "7     2004    55   3025     9       1         55            24000\n",
       "12    2004    50   2500    11       1         40            22500\n",
       "...    ...   ...    ...   ...     ...        ...              ...\n",
       "7176  2024    52   2704     3       1          0            18000\n",
       "7178  2024    56   3136     4       1          0             3000\n",
       "7182  2024    48   2304     0       1          0             8400\n",
       "7194  2024    52   2704    16       1          0            30000\n",
       "7199  2024    38   1444    14       1          0             4500\n",
       "\n",
       "[2584 rows x 7 columns]"
      ]
     },
     "execution_count": 34,
     "metadata": {},
     "output_type": "execute_result"
    }
   ],
   "source": [
    "OcupadosEPH = OcupadosEPH.combine_first(salario_semanal).dropna()\n",
    "OcupadosEPH.astype(int)"
   ]
  },
  {
   "cell_type": "code",
   "execution_count": 35,
   "id": "85969077-9b48-465d-9232-d227160fd979",
   "metadata": {},
   "outputs": [
    {
     "data": {
      "text/html": [
       "<div>\n",
       "<style scoped>\n",
       "    .dataframe tbody tr th:only-of-type {\n",
       "        vertical-align: middle;\n",
       "    }\n",
       "\n",
       "    .dataframe tbody tr th {\n",
       "        vertical-align: top;\n",
       "    }\n",
       "\n",
       "    .dataframe thead th {\n",
       "        text-align: right;\n",
       "    }\n",
       "</style>\n",
       "<table border=\"1\" class=\"dataframe\">\n",
       "  <thead>\n",
       "    <tr style=\"text-align: right;\">\n",
       "      <th></th>\n",
       "      <th>año</th>\n",
       "      <th>edad</th>\n",
       "      <th>edad2</th>\n",
       "      <th>educ</th>\n",
       "      <th>estado</th>\n",
       "      <th>horastrab</th>\n",
       "      <th>salario semanal</th>\n",
       "    </tr>\n",
       "  </thead>\n",
       "  <tbody>\n",
       "    <tr>\n",
       "      <th>3</th>\n",
       "      <td>2,004.00</td>\n",
       "      <td>54.00</td>\n",
       "      <td>2,916.00</td>\n",
       "      <td>10.00</td>\n",
       "      <td>1.00</td>\n",
       "      <td>59.00</td>\n",
       "      <td>60,000.00</td>\n",
       "    </tr>\n",
       "    <tr>\n",
       "      <th>5</th>\n",
       "      <td>2,004.00</td>\n",
       "      <td>25.00</td>\n",
       "      <td>625.00</td>\n",
       "      <td>16.00</td>\n",
       "      <td>1.00</td>\n",
       "      <td>2.00</td>\n",
       "      <td>900.00</td>\n",
       "    </tr>\n",
       "    <tr>\n",
       "      <th>6</th>\n",
       "      <td>2,004.00</td>\n",
       "      <td>20.00</td>\n",
       "      <td>400.00</td>\n",
       "      <td>11.00</td>\n",
       "      <td>1.00</td>\n",
       "      <td>6.00</td>\n",
       "      <td>3,000.00</td>\n",
       "    </tr>\n",
       "    <tr>\n",
       "      <th>7</th>\n",
       "      <td>2,004.00</td>\n",
       "      <td>55.00</td>\n",
       "      <td>3,025.00</td>\n",
       "      <td>9.00</td>\n",
       "      <td>1.00</td>\n",
       "      <td>55.00</td>\n",
       "      <td>24,000.00</td>\n",
       "    </tr>\n",
       "    <tr>\n",
       "      <th>12</th>\n",
       "      <td>2,004.00</td>\n",
       "      <td>50.00</td>\n",
       "      <td>2,500.00</td>\n",
       "      <td>11.00</td>\n",
       "      <td>1.00</td>\n",
       "      <td>40.00</td>\n",
       "      <td>22,500.00</td>\n",
       "    </tr>\n",
       "    <tr>\n",
       "      <th>...</th>\n",
       "      <td>...</td>\n",
       "      <td>...</td>\n",
       "      <td>...</td>\n",
       "      <td>...</td>\n",
       "      <td>...</td>\n",
       "      <td>...</td>\n",
       "      <td>...</td>\n",
       "    </tr>\n",
       "    <tr>\n",
       "      <th>7176</th>\n",
       "      <td>2,024.00</td>\n",
       "      <td>52.00</td>\n",
       "      <td>2,704.00</td>\n",
       "      <td>3.00</td>\n",
       "      <td>1.00</td>\n",
       "      <td>0.00</td>\n",
       "      <td>18,000.00</td>\n",
       "    </tr>\n",
       "    <tr>\n",
       "      <th>7178</th>\n",
       "      <td>2,024.00</td>\n",
       "      <td>56.00</td>\n",
       "      <td>3,136.00</td>\n",
       "      <td>4.00</td>\n",
       "      <td>1.00</td>\n",
       "      <td>0.00</td>\n",
       "      <td>3,000.00</td>\n",
       "    </tr>\n",
       "    <tr>\n",
       "      <th>7182</th>\n",
       "      <td>2,024.00</td>\n",
       "      <td>48.00</td>\n",
       "      <td>2,304.00</td>\n",
       "      <td>0.00</td>\n",
       "      <td>1.00</td>\n",
       "      <td>0.00</td>\n",
       "      <td>8,400.00</td>\n",
       "    </tr>\n",
       "    <tr>\n",
       "      <th>7194</th>\n",
       "      <td>2,024.00</td>\n",
       "      <td>52.00</td>\n",
       "      <td>2,704.00</td>\n",
       "      <td>16.00</td>\n",
       "      <td>1.00</td>\n",
       "      <td>0.00</td>\n",
       "      <td>30,000.00</td>\n",
       "    </tr>\n",
       "    <tr>\n",
       "      <th>7199</th>\n",
       "      <td>2,024.00</td>\n",
       "      <td>38.00</td>\n",
       "      <td>1,444.00</td>\n",
       "      <td>14.00</td>\n",
       "      <td>1.00</td>\n",
       "      <td>0.00</td>\n",
       "      <td>4,500.00</td>\n",
       "    </tr>\n",
       "  </tbody>\n",
       "</table>\n",
       "<p>2584 rows × 7 columns</p>\n",
       "</div>"
      ],
      "text/plain": [
       "          año  edad    edad2  educ  estado  horastrab  salario semanal\n",
       "3    2,004.00 54.00 2,916.00 10.00    1.00      59.00        60,000.00\n",
       "5    2,004.00 25.00   625.00 16.00    1.00       2.00           900.00\n",
       "6    2,004.00 20.00   400.00 11.00    1.00       6.00         3,000.00\n",
       "7    2,004.00 55.00 3,025.00  9.00    1.00      55.00        24,000.00\n",
       "12   2,004.00 50.00 2,500.00 11.00    1.00      40.00        22,500.00\n",
       "...       ...   ...      ...   ...     ...        ...              ...\n",
       "7176 2,024.00 52.00 2,704.00  3.00    1.00       0.00        18,000.00\n",
       "7178 2,024.00 56.00 3,136.00  4.00    1.00       0.00         3,000.00\n",
       "7182 2,024.00 48.00 2,304.00  0.00    1.00       0.00         8,400.00\n",
       "7194 2,024.00 52.00 2,704.00 16.00    1.00       0.00        30,000.00\n",
       "7199 2,024.00 38.00 1,444.00 14.00    1.00       0.00         4,500.00\n",
       "\n",
       "[2584 rows x 7 columns]"
      ]
     },
     "execution_count": 35,
     "metadata": {},
     "output_type": "execute_result"
    }
   ],
   "source": [
    "OcupadosEPH"
   ]
  },
  {
   "cell_type": "markdown",
   "id": "0cb7620a-bc01-49c1-8c49-dfb5d086e172",
   "metadata": {},
   "source": [
    "### i)"
   ]
  },
  {
   "cell_type": "code",
   "execution_count": 37,
   "id": "b7dfa6b9-3329-4ae6-86b7-7cac93dfbf20",
   "metadata": {},
   "outputs": [],
   "source": [
    "y=OcupadosEPH[[\"salario semanal\"]]\n",
    "x=OcupadosEPH[[\"edad\"]]\n"
   ]
  },
  {
   "cell_type": "code",
   "execution_count": 38,
   "id": "8ba34c1f-c849-4149-8de7-85bcbdce8b1a",
   "metadata": {},
   "outputs": [
    {
     "name": "stdout",
     "output_type": "stream",
     "text": [
      "\n",
      "Intercepto: [11351.25429299]\n",
      "\n",
      "Pendiente: [[263.47816529]]\n"
     ]
    }
   ],
   "source": [
    "model = LinearRegression().fit(x, y)\n",
    "intercepto = model.intercept_\n",
    "print('\\nIntercepto:', intercepto)\n",
    "\n",
    "# La pendiente\n",
    "pendiente = model.coef_\n",
    "print('\\nPendiente:', pendiente)"
   ]
  },
  {
   "cell_type": "code",
   "execution_count": 39,
   "id": "98435c78-646a-44d2-be78-8e6f9663940c",
   "metadata": {},
   "outputs": [
    {
     "data": {
      "text/plain": [
       "[<matplotlib.lines.Line2D at 0x2645da841a0>]"
      ]
     },
     "execution_count": 39,
     "metadata": {},
     "output_type": "execute_result"
    },
    {
     "data": {
      "image/png": "[encoded data removed]",
      "text/plain": [
       "<Figure size 640x480 with 1 Axes>"
      ]
     },
     "metadata": {},
     "output_type": "display_data"
    }
   ],
   "source": [
    "plt.plot(x, y, 'o')\n",
    "plt.plot(x, pendiente*x + intercepto) #Notamos que hay valores extremos que no nos permiten analizar bien."
   ]
  },
  {
   "cell_type": "code",
   "execution_count": 40,
   "id": "49e72cc1-a365-414f-a08b-6d242caed771",
   "metadata": {},
   "outputs": [],
   "source": [
    "# Calcular el percentil 99 del salario semanal\n",
    "percentil_99 = np.percentile(y, 99)\n",
    "\n",
    "mask = y[\"salario semanal\"] < percentil_99\n",
    "\n",
    "x_percentil = x[mask]\n",
    "y_percentil = y[mask]\n",
    "\n"
   ]
  },
  {
   "cell_type": "code",
   "execution_count": 41,
   "id": "626020a0-ad18-4f6e-9cf8-5d359ce5a7ae",
   "metadata": {},
   "outputs": [
    {
     "name": "stdout",
     "output_type": "stream",
     "text": [
      "\n",
      "Pendiente: [[190.82007299]]\n",
      "\n",
      "Intercepto: [12274.37459342]\n"
     ]
    }
   ],
   "source": [
    "model_ajust = LinearRegression().fit(x_percentil, y_percentil)\n",
    "intercepto = model_ajust.intercept_\n",
    "pendiente = model_ajust.coef_\n",
    "\n",
    "print('\\nPendiente:', pendiente)\n",
    "print('\\nIntercepto:', intercepto)"
   ]
  },
  {
   "cell_type": "code",
   "execution_count": 42,
   "id": "7bb20d1c-757b-4111-9321-cd653586cb18",
   "metadata": {},
   "outputs": [
    {
     "data": {
      "text/plain": [
       "[<matplotlib.lines.Line2D at 0x2645db34d70>]"
      ]
     },
     "execution_count": 42,
     "metadata": {},
     "output_type": "execute_result"
    },
    {
     "data": {
      "image/png": "[encoded data removed]",
      "text/plain": [
       "<Figure size 640x480 with 1 Axes>"
      ]
     },
     "metadata": {},
     "output_type": "display_data"
    }
   ],
   "source": [
    "plt.plot(x_percentil, y_percentil, 'o')\n",
    "plt.plot(x_percentil, pendiente*x_percentil + intercepto)"
   ]
  },
  {
   "cell_type": "code",
   "execution_count": 43,
   "id": "d5671677-17aa-4bcd-affd-49020d145756",
   "metadata": {},
   "outputs": [
    {
     "name": "stdout",
     "output_type": "stream",
     "text": [
      "Respuesta predicha:\n",
      " [[25579.07521842]\n",
      " [17938.20842513]\n",
      " [16620.8175987 ]\n",
      " ...\n",
      " [23998.20622671]\n",
      " [25052.11888785]\n",
      " [21363.42457385]]\n",
      "\n",
      "El vector de y:       salario semanal\n",
      "3           60,000.00\n",
      "5              900.00\n",
      "6            3,000.00\n",
      "7           24,000.00\n",
      "12          22,500.00\n",
      "...               ...\n",
      "7176        18,000.00\n",
      "7178         3,000.00\n",
      "7182         8,400.00\n",
      "7194        30,000.00\n",
      "7199         4,500.00\n",
      "\n",
      "[2557 rows x 1 columns]\n",
      "\n",
      "El vector de x:       edad\n",
      "3    54.00\n",
      "5    25.00\n",
      "6    20.00\n",
      "7    55.00\n",
      "12   50.00\n",
      "...    ...\n",
      "7176 52.00\n",
      "7178 56.00\n",
      "7182 48.00\n",
      "7194 52.00\n",
      "7199 38.00\n",
      "\n",
      "[2557 rows x 1 columns]\n"
     ]
    }
   ],
   "source": [
    "# Predicción Y_hat\n",
    "y_pred = model.predict(x_percentil)\n",
    "print('Respuesta predicha:\\n', y_pred)\n",
    "\n",
    "# Recordemos cómo era nuestro vector y\n",
    "print('\\nEl vector de y:', y_percentil)\n",
    "\n",
    "# Recordemos cómo era nuestro vector x\n",
    "print('\\nEl vector de x:', x_percentil)"
   ]
  },
  {
   "cell_type": "code",
   "execution_count": 44,
   "id": "b0b8acaf-9bef-45c4-8919-52a8697d9675",
   "metadata": {},
   "outputs": [
    {
     "name": "stdout",
     "output_type": "stream",
     "text": [
      "Coeficiente de determinación: 0.023673800402002065\n",
      "\n",
      "Resultado alternativo para R2: 0.006829024057270039\n"
     ]
    }
   ],
   "source": [
    "r2 = model_ajust.score(x_percentil, y_percentil)\n",
    "print('Coeficiente de determinación:', r2)\n",
    "\n",
    "# Con la y predicha podemos calcular el R^2 de esta otra forma (Alternativa 2)\n",
    "r2_new = r2_score(y_percentil, y_pred)\n",
    "print(\"\\nResultado alternativo para R2:\", r2_new)"
   ]
  },
  {
   "cell_type": "markdown",
   "id": "b0499b84-2ed0-457c-9230-a21c36c07e77",
   "metadata": {},
   "source": [
    "#### Conclusión: El R2 es muy bajo, explica solo un 2% y el alternativo un 0,6% por lo que usar las edades para predecir los salarios semanales no es algo que nos sirva mucho."
   ]
  },
  {
   "cell_type": "markdown",
   "id": "a9297a7a-2eab-402b-ad2d-10a7a3af57d8",
   "metadata": {},
   "source": [
    "### ii)"
   ]
  },
  {
   "cell_type": "code",
   "execution_count": 47,
   "id": "01f5e1de-47e7-4b30-96c2-56967241dd0c",
   "metadata": {},
   "outputs": [],
   "source": [
    "y=OcupadosEPH[[\"salario semanal\"]]\n",
    "x=OcupadosEPH[[\"edad\", \"edad2\"]]\n",
    "\n",
    "percentil_99 = np.percentile(y, 99)\n",
    "\n",
    "mask = y[\"salario semanal\"] < percentil_99\n",
    "\n",
    "x = x[mask]\n",
    "y = y[mask] #Esta vez no le pondremos percentil para no hacer muy denso los códigos, pero trabajaremos con este percentil durante el punto 2"
   ]
  },
  {
   "cell_type": "code",
   "execution_count": 48,
   "id": "86ebed6e-17b0-4692-acf0-1745623e0d4a",
   "metadata": {},
   "outputs": [
    {
     "name": "stdout",
     "output_type": "stream",
     "text": [
      "Coeficiente de determinación: 0.043468400056206224\n",
      "\n",
      "Intercepto: [-5667.06780354]\n",
      "\n",
      "Coeficientes: [[1143.26108532  -11.28074168]]\n"
     ]
    }
   ],
   "source": [
    "model = LinearRegression().fit(x, y)\n",
    "r2 = model.score(x, y)\n",
    "\n",
    "# Miramos resultados\n",
    "print('Coeficiente de determinación:', r2)\n",
    "print('\\nIntercepto:', model.intercept_)\n",
    "print('\\nCoeficientes:', model.coef_)"
   ]
  },
  {
   "cell_type": "markdown",
   "id": "ce45459a-bf5e-4bc1-bead-09292cab824c",
   "metadata": {},
   "source": [
    "#### Edad y edad al cuadrado no explican bien el modelo, por eso es que el coeficiente de determinación (R2) es 0,04, por lo que no vemos necesario seguir probando sus datos"
   ]
  },
  {
   "cell_type": "code",
   "execution_count": 50,
   "id": "fee6ddf5-1041-4e40-b14c-e36d20edcce5",
   "metadata": {},
   "outputs": [
    {
     "name": "stdout",
     "output_type": "stream",
     "text": [
      "ii\n"
     ]
    }
   ],
   "source": [
    "print(\"ii\")\n"
   ]
  },
  {
   "cell_type": "code",
   "execution_count": 51,
   "id": "3bb43336-8355-429a-8cfa-8110676860de",
   "metadata": {},
   "outputs": [],
   "source": [
    "y=OcupadosEPH[[\"salario semanal\"]]\n",
    "x=OcupadosEPH[[\"edad\", \"edad2\",\"educ\"]]\n",
    "\n",
    "percentil_99 = np.percentile(y, 99)\n",
    "\n",
    "mask = y[\"salario semanal\"] < percentil_99\n",
    "\n",
    "x = x[mask]\n",
    "y = y[mask]"
   ]
  },
  {
   "cell_type": "code",
   "execution_count": 52,
   "id": "c111491f-7fef-489d-96c0-f332f8196083",
   "metadata": {},
   "outputs": [
    {
     "name": "stdout",
     "output_type": "stream",
     "text": [
      "Coeficiente de determinación: 0.04361969164420165\n",
      "\n",
      "Intercepto: [-6021.77120799]\n",
      "\n",
      "Coeficientes: [[1144.26775651  -11.29325852   43.18469464]]\n"
     ]
    }
   ],
   "source": [
    "model = LinearRegression().fit(x, y)\n",
    "r2 = model.score(x, y)\n",
    "\n",
    "# Miramos resultados\n",
    "print('Coeficiente de determinación:', r2)\n",
    "print('\\nIntercepto:', model.intercept_)\n",
    "print('\\nCoeficientes:', model.coef_)"
   ]
  },
  {
   "cell_type": "code",
   "execution_count": 53,
   "id": "4cf0cf6f-58fc-4954-af72-6f04d40a9c50",
   "metadata": {},
   "outputs": [],
   "source": [
    "ch04 = pd.read_csv(\"ch04.csv\")"
   ]
  },
  {
   "cell_type": "code",
   "execution_count": 54,
   "id": "51d1ec25-b108-491a-ad4a-8956d4570524",
   "metadata": {},
   "outputs": [
    {
     "data": {
      "text/html": [
       "<div>\n",
       "<style scoped>\n",
       "    .dataframe tbody tr th:only-of-type {\n",
       "        vertical-align: middle;\n",
       "    }\n",
       "\n",
       "    .dataframe tbody tr th {\n",
       "        vertical-align: top;\n",
       "    }\n",
       "\n",
       "    .dataframe thead th {\n",
       "        text-align: right;\n",
       "    }\n",
       "</style>\n",
       "<table border=\"1\" class=\"dataframe\">\n",
       "  <thead>\n",
       "    <tr style=\"text-align: right;\">\n",
       "      <th></th>\n",
       "      <th>Genero</th>\n",
       "    </tr>\n",
       "  </thead>\n",
       "  <tbody>\n",
       "    <tr>\n",
       "      <th>0</th>\n",
       "      <td>1.00</td>\n",
       "    </tr>\n",
       "    <tr>\n",
       "      <th>1</th>\n",
       "      <td>2.00</td>\n",
       "    </tr>\n",
       "    <tr>\n",
       "      <th>2</th>\n",
       "      <td>2.00</td>\n",
       "    </tr>\n",
       "    <tr>\n",
       "      <th>3</th>\n",
       "      <td>1.00</td>\n",
       "    </tr>\n",
       "    <tr>\n",
       "      <th>4</th>\n",
       "      <td>2.00</td>\n",
       "    </tr>\n",
       "    <tr>\n",
       "      <th>...</th>\n",
       "      <td>...</td>\n",
       "    </tr>\n",
       "    <tr>\n",
       "      <th>14693</th>\n",
       "      <td>2.00</td>\n",
       "    </tr>\n",
       "    <tr>\n",
       "      <th>14694</th>\n",
       "      <td>1.00</td>\n",
       "    </tr>\n",
       "    <tr>\n",
       "      <th>14695</th>\n",
       "      <td>1.00</td>\n",
       "    </tr>\n",
       "    <tr>\n",
       "      <th>14696</th>\n",
       "      <td>1.00</td>\n",
       "    </tr>\n",
       "    <tr>\n",
       "      <th>14697</th>\n",
       "      <td>2.00</td>\n",
       "    </tr>\n",
       "  </tbody>\n",
       "</table>\n",
       "<p>14698 rows × 1 columns</p>\n",
       "</div>"
      ],
      "text/plain": [
       "       Genero\n",
       "0        1.00\n",
       "1        2.00\n",
       "2        2.00\n",
       "3        1.00\n",
       "4        2.00\n",
       "...       ...\n",
       "14693    2.00\n",
       "14694    1.00\n",
       "14695    1.00\n",
       "14696    1.00\n",
       "14697    2.00\n",
       "\n",
       "[14698 rows x 1 columns]"
      ]
     },
     "execution_count": 54,
     "metadata": {},
     "output_type": "execute_result"
    }
   ],
   "source": [
    "ch04"
   ]
  },
  {
   "cell_type": "code",
   "execution_count": 55,
   "id": "b31bda9a-b7a5-4653-8442-98514b3f699e",
   "metadata": {},
   "outputs": [],
   "source": [
    "OcupadosEPH[\"mujer\"] = (ch04[\"Genero\"] == 2).astype(int)"
   ]
  },
  {
   "cell_type": "code",
   "execution_count": 56,
   "id": "f654e983-932a-489a-a406-fd5544d37b8a",
   "metadata": {},
   "outputs": [],
   "source": [
    "y = OcupadosEPH[[\"salario semanal\"]]\n",
    "x = OcupadosEPH[[\"edad\", \"edad2\", \"educ\", \"mujer\"]]"
   ]
  },
  {
   "cell_type": "code",
   "execution_count": 57,
   "id": "78a62dfe-1d1f-4033-9c6f-61fe7c73635b",
   "metadata": {},
   "outputs": [],
   "source": [
    "percentil_99 = np.percentile(y, 99)\n",
    "mask = y[\"salario semanal\"] < percentil_99"
   ]
  },
  {
   "cell_type": "code",
   "execution_count": 58,
   "id": "63eeb4fe-a521-45d5-959d-d5653671b055",
   "metadata": {},
   "outputs": [],
   "source": [
    "x = x[mask]\n",
    "y = y[mask]"
   ]
  },
  {
   "cell_type": "code",
   "execution_count": 59,
   "id": "2cb07752-ba1e-43fb-947d-569708f06116",
   "metadata": {},
   "outputs": [
    {
     "name": "stdout",
     "output_type": "stream",
     "text": [
      "Coeficiente de determinación: 0.07444868308659247\n",
      "\n",
      "Intercepto: [-4438.38424619]\n",
      "\n",
      "Coeficientes: [[ 1195.52560081   -11.88549397    33.41512508 -6010.69950203]]\n"
     ]
    }
   ],
   "source": [
    "model = LinearRegression().fit(x, y)\n",
    "r2 = model.score(x, y)\n",
    "\n",
    "print('Coeficiente de determinación:', r2)\n",
    "print('\\nIntercepto:', model.intercept_)\n",
    "print('\\nCoeficientes:', model.coef_)\n"
   ]
  },
  {
   "cell_type": "code",
   "execution_count": 60,
   "id": "87250272-5203-4c7d-8f39-3030f916266d",
   "metadata": {},
   "outputs": [],
   "source": [
    "#Para hacer la ultima regresion lineal tuvimos que buscar nuevas variables en la eph ya que tanto en el tp2 como en el tp3 no teniamos vaariables creadas para usar, asi que utilizamos la variable saber escribir y leer donde 1=si y 2=no"
   ]
  },
  {
   "cell_type": "code",
   "execution_count": 61,
   "id": "e994b177-adc3-48c0-8683-8fec6fe05d58",
   "metadata": {},
   "outputs": [],
   "source": [
    "varnu = pd.read_csv(\"varnueva.csv\")"
   ]
  },
  {
   "cell_type": "code",
   "execution_count": 62,
   "id": "1fd0a4b4-c6f8-47a2-938f-672b89dadd41",
   "metadata": {},
   "outputs": [
    {
     "data": {
      "text/html": [
       "<div>\n",
       "<style scoped>\n",
       "    .dataframe tbody tr th:only-of-type {\n",
       "        vertical-align: middle;\n",
       "    }\n",
       "\n",
       "    .dataframe tbody tr th {\n",
       "        vertical-align: top;\n",
       "    }\n",
       "\n",
       "    .dataframe thead th {\n",
       "        text-align: right;\n",
       "    }\n",
       "</style>\n",
       "<table border=\"1\" class=\"dataframe\">\n",
       "  <thead>\n",
       "    <tr style=\"text-align: right;\">\n",
       "      <th></th>\n",
       "      <th>sabe escribir</th>\n",
       "    </tr>\n",
       "  </thead>\n",
       "  <tbody>\n",
       "    <tr>\n",
       "      <th>0</th>\n",
       "      <td>1</td>\n",
       "    </tr>\n",
       "    <tr>\n",
       "      <th>1</th>\n",
       "      <td>1</td>\n",
       "    </tr>\n",
       "    <tr>\n",
       "      <th>2</th>\n",
       "      <td>1</td>\n",
       "    </tr>\n",
       "    <tr>\n",
       "      <th>3</th>\n",
       "      <td>1</td>\n",
       "    </tr>\n",
       "    <tr>\n",
       "      <th>4</th>\n",
       "      <td>1</td>\n",
       "    </tr>\n",
       "    <tr>\n",
       "      <th>...</th>\n",
       "      <td>...</td>\n",
       "    </tr>\n",
       "    <tr>\n",
       "      <th>13422</th>\n",
       "      <td>1.0</td>\n",
       "    </tr>\n",
       "    <tr>\n",
       "      <th>13423</th>\n",
       "      <td>1.0</td>\n",
       "    </tr>\n",
       "    <tr>\n",
       "      <th>13424</th>\n",
       "      <td>1.0</td>\n",
       "    </tr>\n",
       "    <tr>\n",
       "      <th>13425</th>\n",
       "      <td>1.0</td>\n",
       "    </tr>\n",
       "    <tr>\n",
       "      <th>13426</th>\n",
       "      <td>1.0</td>\n",
       "    </tr>\n",
       "  </tbody>\n",
       "</table>\n",
       "<p>13427 rows × 1 columns</p>\n",
       "</div>"
      ],
      "text/plain": [
       "      sabe escribir\n",
       "0                 1\n",
       "1                 1\n",
       "2                 1\n",
       "3                 1\n",
       "4                 1\n",
       "...             ...\n",
       "13422           1.0\n",
       "13423           1.0\n",
       "13424           1.0\n",
       "13425           1.0\n",
       "13426           1.0\n",
       "\n",
       "[13427 rows x 1 columns]"
      ]
     },
     "execution_count": 62,
     "metadata": {},
     "output_type": "execute_result"
    }
   ],
   "source": [
    "varnu\n"
   ]
  },
  {
   "cell_type": "code",
   "execution_count": 63,
   "id": "152f0ea2-0e5e-4744-9cd5-df1e113794d6",
   "metadata": {},
   "outputs": [
    {
     "name": "stderr",
     "output_type": "stream",
     "text": [
      "C:\\Users\\Franco\\AppData\\Local\\Temp\\ipykernel_16452\\3320795527.py:5: SettingWithCopyWarning: \n",
      "A value is trying to be set on a copy of a slice from a DataFrame.\n",
      "Try using .loc[row_indexer,col_indexer] = value instead\n",
      "\n",
      "See the caveats in the documentation: https://pandas.pydata.org/pandas-docs/stable/user_guide/indexing.html#returning-a-view-versus-a-copy\n",
      "  varnu[\"sabe escribir\"] = varnu[\"sabe escribir\"].astype(int)\n"
     ]
    }
   ],
   "source": [
    "varnu[\"sabe escribir\"] = pd.to_numeric(varnu[\"sabe escribir\"], errors='coerce')\n",
    "\n",
    "varnu = varnu.dropna(subset=[\"sabe escribir\"])\n",
    "\n",
    "varnu[\"sabe escribir\"] = varnu[\"sabe escribir\"].astype(int)\n",
    "\n",
    "#esto lo hacemos para obtener numeros enteros y no trabajar con decimales "
   ]
  },
  {
   "cell_type": "code",
   "execution_count": 64,
   "id": "528f069d-ea0a-4c3a-adac-c52976993c16",
   "metadata": {},
   "outputs": [
    {
     "data": {
      "text/html": [
       "<div>\n",
       "<style scoped>\n",
       "    .dataframe tbody tr th:only-of-type {\n",
       "        vertical-align: middle;\n",
       "    }\n",
       "\n",
       "    .dataframe tbody tr th {\n",
       "        vertical-align: top;\n",
       "    }\n",
       "\n",
       "    .dataframe thead th {\n",
       "        text-align: right;\n",
       "    }\n",
       "</style>\n",
       "<table border=\"1\" class=\"dataframe\">\n",
       "  <thead>\n",
       "    <tr style=\"text-align: right;\">\n",
       "      <th></th>\n",
       "      <th>sabe escribir</th>\n",
       "    </tr>\n",
       "  </thead>\n",
       "  <tbody>\n",
       "    <tr>\n",
       "      <th>0</th>\n",
       "      <td>1</td>\n",
       "    </tr>\n",
       "    <tr>\n",
       "      <th>1</th>\n",
       "      <td>1</td>\n",
       "    </tr>\n",
       "    <tr>\n",
       "      <th>2</th>\n",
       "      <td>1</td>\n",
       "    </tr>\n",
       "    <tr>\n",
       "      <th>3</th>\n",
       "      <td>1</td>\n",
       "    </tr>\n",
       "    <tr>\n",
       "      <th>4</th>\n",
       "      <td>1</td>\n",
       "    </tr>\n",
       "    <tr>\n",
       "      <th>...</th>\n",
       "      <td>...</td>\n",
       "    </tr>\n",
       "    <tr>\n",
       "      <th>13422</th>\n",
       "      <td>1</td>\n",
       "    </tr>\n",
       "    <tr>\n",
       "      <th>13423</th>\n",
       "      <td>1</td>\n",
       "    </tr>\n",
       "    <tr>\n",
       "      <th>13424</th>\n",
       "      <td>1</td>\n",
       "    </tr>\n",
       "    <tr>\n",
       "      <th>13425</th>\n",
       "      <td>1</td>\n",
       "    </tr>\n",
       "    <tr>\n",
       "      <th>13426</th>\n",
       "      <td>1</td>\n",
       "    </tr>\n",
       "  </tbody>\n",
       "</table>\n",
       "<p>13163 rows × 1 columns</p>\n",
       "</div>"
      ],
      "text/plain": [
       "       sabe escribir\n",
       "0                  1\n",
       "1                  1\n",
       "2                  1\n",
       "3                  1\n",
       "4                  1\n",
       "...              ...\n",
       "13422              1\n",
       "13423              1\n",
       "13424              1\n",
       "13425              1\n",
       "13426              1\n",
       "\n",
       "[13163 rows x 1 columns]"
      ]
     },
     "execution_count": 64,
     "metadata": {},
     "output_type": "execute_result"
    }
   ],
   "source": [
    "varnu"
   ]
  },
  {
   "cell_type": "code",
   "execution_count": 130,
   "id": "291aef04-67da-4430-9da5-987959ff0a25",
   "metadata": {},
   "outputs": [
    {
     "data": {
      "text/html": [
       "<div>\n",
       "<style scoped>\n",
       "    .dataframe tbody tr th:only-of-type {\n",
       "        vertical-align: middle;\n",
       "    }\n",
       "\n",
       "    .dataframe tbody tr th {\n",
       "        vertical-align: top;\n",
       "    }\n",
       "\n",
       "    .dataframe thead th {\n",
       "        text-align: right;\n",
       "    }\n",
       "</style>\n",
       "<table border=\"1\" class=\"dataframe\">\n",
       "  <thead>\n",
       "    <tr style=\"text-align: right;\">\n",
       "      <th></th>\n",
       "      <th>estado civil</th>\n",
       "    </tr>\n",
       "  </thead>\n",
       "  <tbody>\n",
       "    <tr>\n",
       "      <th>0</th>\n",
       "      <td>4</td>\n",
       "    </tr>\n",
       "    <tr>\n",
       "      <th>1</th>\n",
       "      <td>3</td>\n",
       "    </tr>\n",
       "    <tr>\n",
       "      <th>2</th>\n",
       "      <td>4</td>\n",
       "    </tr>\n",
       "    <tr>\n",
       "      <th>3</th>\n",
       "      <td>2</td>\n",
       "    </tr>\n",
       "    <tr>\n",
       "      <th>4</th>\n",
       "      <td>2</td>\n",
       "    </tr>\n",
       "    <tr>\n",
       "      <th>...</th>\n",
       "      <td>...</td>\n",
       "    </tr>\n",
       "    <tr>\n",
       "      <th>14693</th>\n",
       "      <td>3</td>\n",
       "    </tr>\n",
       "    <tr>\n",
       "      <th>14694</th>\n",
       "      <td>5</td>\n",
       "    </tr>\n",
       "    <tr>\n",
       "      <th>14695</th>\n",
       "      <td>5</td>\n",
       "    </tr>\n",
       "    <tr>\n",
       "      <th>14696</th>\n",
       "      <td>5</td>\n",
       "    </tr>\n",
       "    <tr>\n",
       "      <th>14697</th>\n",
       "      <td>5</td>\n",
       "    </tr>\n",
       "  </tbody>\n",
       "</table>\n",
       "<p>14698 rows × 1 columns</p>\n",
       "</div>"
      ],
      "text/plain": [
       "       estado civil\n",
       "0                 4\n",
       "1                 3\n",
       "2                 4\n",
       "3                 2\n",
       "4                 2\n",
       "...             ...\n",
       "14693             3\n",
       "14694             5\n",
       "14695             5\n",
       "14696             5\n",
       "14697             5\n",
       "\n",
       "[14698 rows x 1 columns]"
      ]
     },
     "execution_count": 130,
     "metadata": {},
     "output_type": "execute_result"
    }
   ],
   "source": [
    "estadocivil = pd.read_csv(\"estadocivil.csv\")\n",
    "estadocivil\n"
   ]
  },
  {
   "cell_type": "code",
   "execution_count": 66,
   "id": "f4a9a548-e548-42f2-9714-7a73992d39f6",
   "metadata": {},
   "outputs": [],
   "source": [
    "\n",
    "OcupadosEPH[\"varnu\"] = varnu\n",
    "OcupadosEPH[\"estadocivil\"] = estadocivil\n"
   ]
  },
  {
   "cell_type": "code",
   "execution_count": 67,
   "id": "999422e9-b1a9-41fc-bf8a-5eb951217777",
   "metadata": {},
   "outputs": [
    {
     "name": "stdout",
     "output_type": "stream",
     "text": [
      "\n",
      "Coeficiente de determinación: 0.08042699703675238\n",
      "\n",
      "Intercepto: [9701.89939464]\n",
      "\n",
      "Coeficientes: [[ 1.23908980e+03 -1.22372034e+01  3.36759214e+01 -6.10905073e+03\n",
      "  -1.56844644e+04  2.11401153e+02]]\n"
     ]
    }
   ],
   "source": [
    "\n",
    "y = OcupadosEPH[[\"salario semanal\"]]\n",
    "\n",
    "x = OcupadosEPH[[\"edad\", \"edad2\", \"educ\", \"mujer\", \"varnu\", \"estadocivil\"]]\n",
    "\n",
    "percentil_99 = np.percentile(y, 99)\n",
    "mask = y[\"salario semanal\"] < percentil_99\n",
    "\n",
    "x = x[mask]\n",
    "y = y[mask]\n",
    "\n",
    "model = LinearRegression().fit(x, y)\n",
    "r2 = model.score(x, y)\n",
    "\n",
    "print('\\nCoeficiente de determinación:', r2)\n",
    "print('\\nIntercepto:', model.intercept_)\n",
    "print('\\nCoeficientes:', model.coef_)\n"
   ]
  },
  {
   "cell_type": "code",
   "execution_count": 132,
   "id": "3515798d-0ae5-4e7e-95a1-621bfa8dd45d",
   "metadata": {},
   "outputs": [],
   "source": [
    "import pandas as pd\n",
    "import numpy as np\n",
    "import statsmodels.api as sm\n",
    "from statsmodels.iolib.summary2 import summary_col\n",
    "\n",
    "percentil_99 = np.percentile(OcupadosEPH[\"salario semanal\"], 99)\n",
    "OcupadosEPH = OcupadosEPH[OcupadosEPH[\"salario semanal\"] < percentil_99]\n",
    "\n",
    "y = OcupadosEPH[\"salario semanal\"]\n",
    "\n",
    "X = OcupadosEPH[[\"edad\", \"edad2\", \"educ\", \"mujer\", \"varnu\", \"estadocivil\"]]\n"
   ]
  },
  {
   "cell_type": "code",
   "execution_count": 136,
   "id": "9b05f077-233e-4a20-9fc4-5b46d16bcc58",
   "metadata": {},
   "outputs": [],
   "source": [
    "# Modelo 1: educ\n",
    "X1 = sm.add_constant(OcupadosEPH[[\"educ\"]])\n",
    "model1 = sm.OLS(y, X1).fit()\n",
    "\n",
    "# Modelo 2: edad + edad² + educ\n",
    "X2 = sm.add_constant(OcupadosEPH[[\"edad\", \"edad2\", \"educ\"]])\n",
    "model2 = sm.OLS(y, X2).fit()\n",
    "\n",
    "# Modelo 3: + mujer\n",
    "X3 = sm.add_constant(OcupadosEPH[[\"edad\", \"edad2\", \"educ\", \"mujer\"]])\n",
    "model3 = sm.OLS(y, X3).fit()\n",
    "\n",
    "# Modelo 4: + varnu (saber escribir)\n",
    "X4 = sm.add_constant(OcupadosEPH[[\"edad\", \"edad2\", \"educ\", \"mujer\", \"varnu\"]])\n",
    "model4 = sm.OLS(y, X4).fit()\n",
    "\n",
    "# Modelo 5: + estadocivil\n",
    "X5 = sm.add_constant(X)\n",
    "model5 = sm.OLS(y, X5).fit()\n"
   ]
  },
  {
   "cell_type": "code",
   "execution_count": 142,
   "id": "8876dfba-d0a5-4ad7-b031-393c8a074552",
   "metadata": {},
   "outputs": [
    {
     "name": "stdout",
     "output_type": "stream",
     "text": [
      "\n",
      "===================================================================================\n",
      "                    Modelo 1     Modelo 2    Modelo 3      Modelo 4      Modelo 5  \n",
      "-----------------------------------------------------------------------------------\n",
      "const             19523.332*** -6021.771** -4438.384*   11252.991**   9701.899*    \n",
      "                  (636.001)    (2722.484)  (2684.269)   (4770.210)    (5080.705)   \n",
      "educ              38.684       43.185      33.415       32.836        33.676       \n",
      "                  (69.449)     (67.954)    (66.871)     (66.678)      (66.688)     \n",
      "edad                           1144.268*** 1195.526***  1194.547***   1239.090***  \n",
      "                               (133.215)   (131.194)    (130.816)     (140.125)    \n",
      "edad2                          -11.293***  -11.885***   -11.793***    -12.237***   \n",
      "                               (1.552)     (1.528)      (1.524)       (1.604)      \n",
      "mujer                                      -6010.700*** -6037.170***  -6109.051*** \n",
      "                                           (651.936)    (650.089)     (655.146)    \n",
      "varnu                                                   -15694.665*** -15684.464***\n",
      "                                                        (3949.388)    (3949.570)   \n",
      "estadocivil                                                           211.401      \n",
      "                                                                      (238.287)    \n",
      "R-squared         0.000        0.044       0.074        0.080         0.080        \n",
      "R-squared Adj.    -0.000       0.042       0.073        0.078         0.078        \n",
      "N (observaciones) 2557         2557        2557         2557          2557         \n",
      "R²                0.000        0.044       0.074        0.080         0.080        \n",
      "===================================================================================\n",
      "Standard errors in parentheses.\n",
      "* p<.1, ** p<.05, ***p<.01\n"
     ]
    }
   ],
   "source": [
    "summary = summary_col(\n",
    "    results=[model1, model2, model3, model4, model5],\n",
    "    float_format='%0.3f',\n",
    "    stars=True,\n",
    "    model_names=[\"Modelo 1\", \"Modelo 2\", \"Modelo 3\", \"Modelo 4\", \"Modelo 5\"],\n",
    "    info_dict={'N (observaciones)': lambda x: f\"{int(x.nobs)}\",\n",
    "               'R²': lambda x: f\"{x.rsquared:.3f}\"}\n",
    ")\n",
    "\n",
    "print(summary)\n"
   ]
  },
  {
   "cell_type": "code",
   "execution_count": null,
   "id": "9f71497e-f019-4c21-93a0-1acc13d5a247",
   "metadata": {},
   "outputs": [],
   "source": []
  }
 ],
 "metadata": {
  "kernelspec": {
   "display_name": "Python [conda env:base] *",
   "language": "python",
   "name": "conda-base-py"
  },
  "language_info": {
   "codemirror_mode": {
    "name": "ipython",
    "version": 3
   },
   "file_extension": ".py",
   "mimetype": "text/x-python",
   "name": "python",
   "nbconvert_exporter": "python",
   "pygments_lexer": "ipython3",
   "version": "3.12.7"
  }
 },
 "nbformat": 4,
 "nbformat_minor": 5
}
