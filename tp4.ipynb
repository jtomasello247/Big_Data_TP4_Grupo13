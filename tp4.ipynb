{
 "cells": [
  {
   "cell_type": "code",
   "execution_count": 1,
   "id": "398fba56-3692-4b56-8d6c-b8251426c167",
   "metadata": {},
   "outputs": [],
   "source": [
    "import pandas as pd\n",
    "from sklearn.model_selection import train_test_split\n"
   ]
  },
  {
   "cell_type": "markdown",
   "id": "017a4780-93d2-4984-9118-904116534427",
   "metadata": {},
   "source": [
    "# Punto 1"
   ]
  },
  {
   "cell_type": "code",
   "execution_count": 3,
   "id": "d743b677-48fe-49a9-a3b9-1a6546c28b28",
   "metadata": {},
   "outputs": [],
   "source": [
    "respondieron = pd.read_csv('respondieron.csv')"
   ]
  },
  {
   "cell_type": "code",
   "execution_count": 4,
   "id": "ec45f4f7-bde5-4bd9-a952-b3bbfd72cc65",
   "metadata": {},
   "outputs": [
    {
     "data": {
      "text/plain": [
       "(14647, 2)"
      ]
     },
     "execution_count": 4,
     "metadata": {},
     "output_type": "execute_result"
    }
   ],
   "source": [
    "respondieron.shape"
   ]
  },
  {
   "cell_type": "code",
   "execution_count": 5,
   "id": "2e34cd03-f8ab-4c67-816d-33d009acb92d",
   "metadata": {},
   "outputs": [],
   "source": [
    "norespondieron = pd.read_csv('norespondieron.csv')"
   ]
  },
  {
   "cell_type": "code",
   "execution_count": 6,
   "id": "c4210bef-787e-41f1-965f-b3c5cace225f",
   "metadata": {},
   "outputs": [],
   "source": [
    "respondieronconaños = pd.read_csv('respondieron_con_años.csv')"
   ]
  },
  {
   "cell_type": "code",
   "execution_count": 7,
   "id": "360adbcd-0812-4d3b-96c0-cf997e81c01a",
   "metadata": {},
   "outputs": [
    {
     "data": {
      "text/html": [
       "<div>\n",
       "<style scoped>\n",
       "    .dataframe tbody tr th:only-of-type {\n",
       "        vertical-align: middle;\n",
       "    }\n",
       "\n",
       "    .dataframe tbody tr th {\n",
       "        vertical-align: top;\n",
       "    }\n",
       "\n",
       "    .dataframe thead th {\n",
       "        text-align: right;\n",
       "    }\n",
       "</style>\n",
       "<table border=\"1\" class=\"dataframe\">\n",
       "  <thead>\n",
       "    <tr style=\"text-align: right;\">\n",
       "      <th></th>\n",
       "      <th>cond. de actividad</th>\n",
       "      <th>PEA</th>\n",
       "      <th>ano4</th>\n",
       "    </tr>\n",
       "  </thead>\n",
       "  <tbody>\n",
       "    <tr>\n",
       "      <th>0</th>\n",
       "      <td>3.0</td>\n",
       "      <td>2.0</td>\n",
       "      <td>2004.0</td>\n",
       "    </tr>\n",
       "    <tr>\n",
       "      <th>1</th>\n",
       "      <td>1.0</td>\n",
       "      <td>1.0</td>\n",
       "      <td>2004.0</td>\n",
       "    </tr>\n",
       "    <tr>\n",
       "      <th>2</th>\n",
       "      <td>3.0</td>\n",
       "      <td>2.0</td>\n",
       "      <td>2004.0</td>\n",
       "    </tr>\n",
       "    <tr>\n",
       "      <th>3</th>\n",
       "      <td>1.0</td>\n",
       "      <td>1.0</td>\n",
       "      <td>2004.0</td>\n",
       "    </tr>\n",
       "    <tr>\n",
       "      <th>4</th>\n",
       "      <td>3.0</td>\n",
       "      <td>2.0</td>\n",
       "      <td>2004.0</td>\n",
       "    </tr>\n",
       "    <tr>\n",
       "      <th>...</th>\n",
       "      <td>...</td>\n",
       "      <td>...</td>\n",
       "      <td>...</td>\n",
       "    </tr>\n",
       "    <tr>\n",
       "      <th>14642</th>\n",
       "      <td>3.0</td>\n",
       "      <td>2.0</td>\n",
       "      <td>2024.0</td>\n",
       "    </tr>\n",
       "    <tr>\n",
       "      <th>14643</th>\n",
       "      <td>2.0</td>\n",
       "      <td>1.0</td>\n",
       "      <td>2024.0</td>\n",
       "    </tr>\n",
       "    <tr>\n",
       "      <th>14644</th>\n",
       "      <td>1.0</td>\n",
       "      <td>1.0</td>\n",
       "      <td>2024.0</td>\n",
       "    </tr>\n",
       "    <tr>\n",
       "      <th>14645</th>\n",
       "      <td>1.0</td>\n",
       "      <td>1.0</td>\n",
       "      <td>2024.0</td>\n",
       "    </tr>\n",
       "    <tr>\n",
       "      <th>14646</th>\n",
       "      <td>1.0</td>\n",
       "      <td>1.0</td>\n",
       "      <td>2024.0</td>\n",
       "    </tr>\n",
       "  </tbody>\n",
       "</table>\n",
       "<p>14647 rows × 3 columns</p>\n",
       "</div>"
      ],
      "text/plain": [
       "       cond. de actividad  PEA    ano4\n",
       "0                     3.0  2.0  2004.0\n",
       "1                     1.0  1.0  2004.0\n",
       "2                     3.0  2.0  2004.0\n",
       "3                     1.0  1.0  2004.0\n",
       "4                     3.0  2.0  2004.0\n",
       "...                   ...  ...     ...\n",
       "14642                 3.0  2.0  2024.0\n",
       "14643                 2.0  1.0  2024.0\n",
       "14644                 1.0  1.0  2024.0\n",
       "14645                 1.0  1.0  2024.0\n",
       "14646                 1.0  1.0  2024.0\n",
       "\n",
       "[14647 rows x 3 columns]"
      ]
     },
     "execution_count": 7,
     "metadata": {},
     "output_type": "execute_result"
    }
   ],
   "source": [
    "respondieronconaños"
   ]
  },
  {
   "cell_type": "code",
   "execution_count": 8,
   "id": "e5e6bf3a-ec70-49db-914a-95d9efcddbe4",
   "metadata": {},
   "outputs": [],
   "source": [
    "import pandas as pd\n",
    "import numpy as np\n",
    "from sklearn.model_selection import train_test_split\n"
   ]
  },
  {
   "cell_type": "code",
   "execution_count": 9,
   "id": "9cfc39c8-4e0b-40b6-8b18-a8b75ea55b3b",
   "metadata": {},
   "outputs": [],
   "source": [
    "respondieron[\"desocupado\"] = (respondieronconaños[\"PEA\"] == 1).astype(int)"
   ]
  },
  {
   "cell_type": "code",
   "execution_count": 10,
   "id": "d83b7778-cd14-4441-8f53-75fdba1d6973",
   "metadata": {},
   "outputs": [
    {
     "name": "stdout",
     "output_type": "stream",
     "text": [
      "[2004. 2024.]\n"
     ]
    }
   ],
   "source": [
    "print(respondieronconaños[\"ano4\"].unique()) #estan bien cargados los dos años (2004) y (2024)"
   ]
  },
  {
   "cell_type": "code",
   "execution_count": 11,
   "id": "4ab503a4-1d85-4dd1-bfad-f2f90fd8bfc1",
   "metadata": {},
   "outputs": [],
   "source": [
    "respondieronconaños[\"desocupado\"] = (respondieronconaños[\"PEA\"] == 1).astype(int) \n",
    "#Para cada valor 1 de PEA, la tabla de desocupado devuelve 1, para otro valor devuelve 0. Es un booleano."
   ]
  },
  {
   "cell_type": "code",
   "execution_count": 12,
   "id": "ccbe6706-4b84-4aca-8cda-fca347e6e493",
   "metadata": {},
   "outputs": [
    {
     "name": "stdout",
     "output_type": "stream",
     "text": [
      "\n",
      "Procesando año: 2004.0\n",
      "Año 2004.0:\n",
      "Train shape: (5352, 2), Test shape: (2295, 2)\n",
      "\n",
      "Procesando año: 2024.0\n",
      "Año 2024.0:\n",
      "Train shape: (4900, 2), Test shape: (2100, 2)\n"
     ]
    }
   ],
   "source": [
    "for año in respondieronconaños[\"ano4\"].unique():\n",
    "    print(f\"\\nProcesando año: {año}\")\n",
    "    \n",
    "    df_anual = respondieronconaños[respondieronconaños[\"ano4\"] == año]\n",
    "    \n",
    "    y = df_anual[\"desocupado\"] #Esta será nuestra variable independiente\n",
    "    \n",
    "    X = pd.get_dummies(df_anual[\"PEA\"], prefix=\"PEA\", drop_first=True) #Usamos solo PEA, con valores booleanos como predictor\n",
    "    X = X.astype(int) #Consideramos más comodo trabajar con unos y ceros\n",
    "    X = X.copy() #Esto para evitar warnings y errores\n",
    "    X[\"intercept\"] = 1 #La columna de unos es útil para la ordenada al origen, Beta sub 0\n",
    "    \n",
    "    X_train, X_test, y_train, y_test = train_test_split(X, y, train_size=0.7, random_state=444) #Requerimientos de la consigna\n",
    "    print(f\"Año {año}:\")\n",
    "    print(f\"Train shape: {X_train.shape}, Test shape: {X_test.shape}\")\n",
    "    #Podemos ver ahora la cantidad de filas y columnas que tienen nuestras muestras en cada año."
   ]
  },
  {
   "cell_type": "markdown",
   "id": "5f5e0f63-4d47-48ae-972d-2a8210a05e8d",
   "metadata": {},
   "source": [
    "## Evitamos Multicolinealidad\n",
    "Decidimos eliminar una columna PEA de las dos que generan las dummies, porque ya sabemos que si una es verdadera, la otra es falsa, entonces podemos evitarnos esta relación excluyente que tienen. Tampoco es útil la multicolinealidad para interpretar los coeficientes, por lo que para evitar confusiones es mejor no tenerlo en nuestro modelo. Así que solo tendremos en cuenta PEA 2, que adopta 1 si es Población inactiva, y adopta 0 si es Población economicamente activa (donde se encuentran los desocupados)\n",
    "Por otro lado, por si no se notó, decidimos eliminar Cond. de actividad, debido a que lo consideramos algo ilógico desde lo predictivo, porque estariamos prediciendo nuestra variable objetivo con una columna que incluye directamente la variable objetivo (Multicolinealidad muy alta)"
   ]
  },
  {
   "cell_type": "code",
   "execution_count": 14,
   "id": "cbc97da5-ab6b-47e9-9b0e-c0243f7a4619",
   "metadata": {},
   "outputs": [
    {
     "data": {
      "text/html": [
       "<div>\n",
       "<style scoped>\n",
       "    .dataframe tbody tr th:only-of-type {\n",
       "        vertical-align: middle;\n",
       "    }\n",
       "\n",
       "    .dataframe tbody tr th {\n",
       "        vertical-align: top;\n",
       "    }\n",
       "\n",
       "    .dataframe thead th {\n",
       "        text-align: right;\n",
       "    }\n",
       "</style>\n",
       "<table border=\"1\" class=\"dataframe\">\n",
       "  <thead>\n",
       "    <tr style=\"text-align: right;\">\n",
       "      <th></th>\n",
       "      <th>PEA_2.0</th>\n",
       "      <th>intercept</th>\n",
       "    </tr>\n",
       "  </thead>\n",
       "  <tbody>\n",
       "    <tr>\n",
       "      <th>7647</th>\n",
       "      <td>0</td>\n",
       "      <td>1</td>\n",
       "    </tr>\n",
       "    <tr>\n",
       "      <th>7648</th>\n",
       "      <td>1</td>\n",
       "      <td>1</td>\n",
       "    </tr>\n",
       "    <tr>\n",
       "      <th>7649</th>\n",
       "      <td>1</td>\n",
       "      <td>1</td>\n",
       "    </tr>\n",
       "    <tr>\n",
       "      <th>7650</th>\n",
       "      <td>0</td>\n",
       "      <td>1</td>\n",
       "    </tr>\n",
       "    <tr>\n",
       "      <th>7651</th>\n",
       "      <td>0</td>\n",
       "      <td>1</td>\n",
       "    </tr>\n",
       "    <tr>\n",
       "      <th>...</th>\n",
       "      <td>...</td>\n",
       "      <td>...</td>\n",
       "    </tr>\n",
       "    <tr>\n",
       "      <th>14642</th>\n",
       "      <td>1</td>\n",
       "      <td>1</td>\n",
       "    </tr>\n",
       "    <tr>\n",
       "      <th>14643</th>\n",
       "      <td>0</td>\n",
       "      <td>1</td>\n",
       "    </tr>\n",
       "    <tr>\n",
       "      <th>14644</th>\n",
       "      <td>0</td>\n",
       "      <td>1</td>\n",
       "    </tr>\n",
       "    <tr>\n",
       "      <th>14645</th>\n",
       "      <td>0</td>\n",
       "      <td>1</td>\n",
       "    </tr>\n",
       "    <tr>\n",
       "      <th>14646</th>\n",
       "      <td>0</td>\n",
       "      <td>1</td>\n",
       "    </tr>\n",
       "  </tbody>\n",
       "</table>\n",
       "<p>7000 rows × 2 columns</p>\n",
       "</div>"
      ],
      "text/plain": [
       "       PEA_2.0  intercept\n",
       "7647         0          1\n",
       "7648         1          1\n",
       "7649         1          1\n",
       "7650         0          1\n",
       "7651         0          1\n",
       "...        ...        ...\n",
       "14642        1          1\n",
       "14643        0          1\n",
       "14644        0          1\n",
       "14645        0          1\n",
       "14646        0          1\n",
       "\n",
       "[7000 rows x 2 columns]"
      ]
     },
     "execution_count": 14,
     "metadata": {},
     "output_type": "execute_result"
    }
   ],
   "source": [
    "X"
   ]
  },
  {
   "cell_type": "code",
   "execution_count": 15,
   "id": "e7e10a3a-2c45-49ba-808a-d2f1689bbb0a",
   "metadata": {},
   "outputs": [],
   "source": [
    "common_cols = X_train.columns.intersection(X_test.columns)\n"
   ]
  },
  {
   "cell_type": "code",
   "execution_count": 16,
   "id": "1abca4b5-cb6e-40aa-b8c3-3e3ac4e72408",
   "metadata": {},
   "outputs": [],
   "source": [
    "mean_train = X_train[common_cols].mean()\n",
    "mean_test = X_test[common_cols].mean()"
   ]
  },
  {
   "cell_type": "code",
   "execution_count": 17,
   "id": "9155a7d6-33d3-4f98-a464-f3ca58fdaad8",
   "metadata": {},
   "outputs": [
    {
     "name": "stdout",
     "output_type": "stream",
     "text": [
      "           Media Entrenamiento  Media Testeo  Diferencia Absoluta\n",
      "PEA_2.0               0.487347      0.517143             0.029796\n",
      "intercept             1.000000      1.000000             0.000000\n"
     ]
    }
   ],
   "source": [
    "diff_table = pd.DataFrame({\n",
    "    \"Media Entrenamiento\": mean_train,\n",
    "    \"Media Testeo\": mean_test,\n",
    "    \"Diferencia Absoluta\": (mean_train - mean_test).abs()\n",
    "})\n",
    "diff_table = diff_table.sort_values(\"Diferencia Absoluta\", ascending=False)\n",
    "print(diff_table)"
   ]
  },
  {
   "cell_type": "markdown",
   "id": "22cc21b9-e6db-43fb-ab14-5a52a21f1855",
   "metadata": {},
   "source": [
    "### Conclusión\n",
    "La tabla de diferencia de medias muestra que las medias de las variables explicativas en los conjuntos de entrenamiento y testeo son muy similares. La variable PEA presenta una diferencia absoluta pequeña de aproximadamente 0.03, lo que sugiere una distribución equilibrada."
   ]
  },
  {
   "cell_type": "markdown",
   "id": "61b00b03-15fc-4e96-a0e1-949c31873f17",
   "metadata": {},
   "source": [
    "# Punto 2"
   ]
  },
  {
   "cell_type": "code",
   "execution_count": 20,
   "id": "36966b41-3742-4eee-8703-6185b7ad85eb",
   "metadata": {},
   "outputs": [],
   "source": [
    "import numpy as np\n",
    "from sklearn.linear_model import LinearRegression\n",
    "from sklearn.preprocessing import PolynomialFeatures\n",
    "from sklearn.metrics import r2_score, mean_squared_error, mean_absolute_error\n",
    "import statsmodels.api as sm\n",
    "import matplotlib.pyplot as plt"
   ]
  },
  {
   "cell_type": "code",
   "execution_count": 21,
   "id": "c15f99f3-7622-48bd-bec4-c48eec639b74",
   "metadata": {},
   "outputs": [],
   "source": [
    "edad = pd.read_csv(\"edad.csv\")"
   ]
  },
  {
   "cell_type": "code",
   "execution_count": 22,
   "id": "6dede3a2-d38b-476c-9c06-46232ac14447",
   "metadata": {},
   "outputs": [],
   "source": [
    "edad2 = pd.read_csv(\"edad2.csv\")"
   ]
  },
  {
   "cell_type": "code",
   "execution_count": 23,
   "id": "4d131eda-3190-445b-90bc-5724b4eaa82a",
   "metadata": {},
   "outputs": [],
   "source": [
    "horastrab = pd.read_csv(\"horastrab.csv\")"
   ]
  },
  {
   "cell_type": "code",
   "execution_count": 24,
   "id": "867fed90-d6f2-479d-b7d9-f51facd7b0b2",
   "metadata": {},
   "outputs": [],
   "source": [
    "pd.set_option('display.float_format', '{:,.2f}'.format)\n"
   ]
  },
  {
   "cell_type": "code",
   "execution_count": 25,
   "id": "ba0823f5-d952-4669-8242-d1ef5204c873",
   "metadata": {},
   "outputs": [],
   "source": [
    "salario_semanal = pd.read_csv(\"salario semanal.csv\")\n"
   ]
  },
  {
   "cell_type": "code",
   "execution_count": 26,
   "id": "646d1642-4c95-4614-8a57-7c62afbe173e",
   "metadata": {},
   "outputs": [
    {
     "data": {
      "text/html": [
       "<div>\n",
       "<style scoped>\n",
       "    .dataframe tbody tr th:only-of-type {\n",
       "        vertical-align: middle;\n",
       "    }\n",
       "\n",
       "    .dataframe tbody tr th {\n",
       "        vertical-align: top;\n",
       "    }\n",
       "\n",
       "    .dataframe thead th {\n",
       "        text-align: right;\n",
       "    }\n",
       "</style>\n",
       "<table border=\"1\" class=\"dataframe\">\n",
       "  <thead>\n",
       "    <tr style=\"text-align: right;\">\n",
       "      <th></th>\n",
       "      <th>año</th>\n",
       "      <th>salario semanal</th>\n",
       "    </tr>\n",
       "  </thead>\n",
       "  <tbody>\n",
       "    <tr>\n",
       "      <th>count</th>\n",
       "      <td>5,014.00</td>\n",
       "      <td>5,014.00</td>\n",
       "    </tr>\n",
       "    <tr>\n",
       "      <th>mean</th>\n",
       "      <td>2,012.74</td>\n",
       "      <td>181,379.51</td>\n",
       "    </tr>\n",
       "    <tr>\n",
       "      <th>std</th>\n",
       "      <td>9.92</td>\n",
       "      <td>351,329.81</td>\n",
       "    </tr>\n",
       "    <tr>\n",
       "      <th>min</th>\n",
       "      <td>2,004.00</td>\n",
       "      <td>150.00</td>\n",
       "    </tr>\n",
       "    <tr>\n",
       "      <th>25%</th>\n",
       "      <td>2,004.00</td>\n",
       "      <td>14,100.00</td>\n",
       "    </tr>\n",
       "    <tr>\n",
       "      <th>50%</th>\n",
       "      <td>2,004.00</td>\n",
       "      <td>36,000.00</td>\n",
       "    </tr>\n",
       "    <tr>\n",
       "      <th>75%</th>\n",
       "      <td>2,024.00</td>\n",
       "      <td>250,000.00</td>\n",
       "    </tr>\n",
       "    <tr>\n",
       "      <th>max</th>\n",
       "      <td>2,024.00</td>\n",
       "      <td>8,000,000.00</td>\n",
       "    </tr>\n",
       "  </tbody>\n",
       "</table>\n",
       "</div>"
      ],
      "text/plain": [
       "           año  salario semanal\n",
       "count 5,014.00         5,014.00\n",
       "mean  2,012.74       181,379.51\n",
       "std       9.92       351,329.81\n",
       "min   2,004.00           150.00\n",
       "25%   2,004.00        14,100.00\n",
       "50%   2,004.00        36,000.00\n",
       "75%   2,024.00       250,000.00\n",
       "max   2,024.00     8,000,000.00"
      ]
     },
     "execution_count": 26,
     "metadata": {},
     "output_type": "execute_result"
    }
   ],
   "source": [
    "salario_semanal=salario_semanal[salario_semanal[\"salario semanal\"]>0] #Consideramos irrelevantes los salarios que son 0\n",
    "salario_semanal.describe()"
   ]
  },
  {
   "cell_type": "code",
   "execution_count": 27,
   "id": "f9728079-c7ba-4bc9-a97c-3fa37c35092b",
   "metadata": {},
   "outputs": [],
   "source": [
    "educ = pd.read_csv(\"educ.csv\")"
   ]
  },
  {
   "cell_type": "code",
   "execution_count": 161,
   "id": "cfa1d39b-3934-4b57-b1e6-2a555fe9bdff",
   "metadata": {
    "scrolled": true
   },
   "outputs": [],
   "source": [
    "Ocupados=pd.read_csv(\"Ocupados.csv\")"
   ]
  },
  {
   "cell_type": "code",
   "execution_count": 163,
   "id": "34033b42-ece1-4550-9e41-5cca91d597ca",
   "metadata": {},
   "outputs": [
    {
     "data": {
      "text/html": [
       "<div>\n",
       "<style scoped>\n",
       "    .dataframe tbody tr th:only-of-type {\n",
       "        vertical-align: middle;\n",
       "    }\n",
       "\n",
       "    .dataframe tbody tr th {\n",
       "        vertical-align: top;\n",
       "    }\n",
       "\n",
       "    .dataframe thead th {\n",
       "        text-align: right;\n",
       "    }\n",
       "</style>\n",
       "<table border=\"1\" class=\"dataframe\">\n",
       "  <thead>\n",
       "    <tr style=\"text-align: right;\">\n",
       "      <th></th>\n",
       "      <th>año</th>\n",
       "      <th>estado</th>\n",
       "    </tr>\n",
       "  </thead>\n",
       "  <tbody>\n",
       "    <tr>\n",
       "      <th>0</th>\n",
       "      <td>2,004.00</td>\n",
       "      <td>1.00</td>\n",
       "    </tr>\n",
       "    <tr>\n",
       "      <th>1</th>\n",
       "      <td>2,004.00</td>\n",
       "      <td>1.00</td>\n",
       "    </tr>\n",
       "    <tr>\n",
       "      <th>2</th>\n",
       "      <td>2,004.00</td>\n",
       "      <td>1.00</td>\n",
       "    </tr>\n",
       "    <tr>\n",
       "      <th>3</th>\n",
       "      <td>2,004.00</td>\n",
       "      <td>1.00</td>\n",
       "    </tr>\n",
       "    <tr>\n",
       "      <th>4</th>\n",
       "      <td>2,004.00</td>\n",
       "      <td>1.00</td>\n",
       "    </tr>\n",
       "    <tr>\n",
       "      <th>...</th>\n",
       "      <td>...</td>\n",
       "      <td>...</td>\n",
       "    </tr>\n",
       "    <tr>\n",
       "      <th>23399</th>\n",
       "      <td>2,024.00</td>\n",
       "      <td>1.00</td>\n",
       "    </tr>\n",
       "    <tr>\n",
       "      <th>23400</th>\n",
       "      <td>2,024.00</td>\n",
       "      <td>1.00</td>\n",
       "    </tr>\n",
       "    <tr>\n",
       "      <th>23401</th>\n",
       "      <td>2,024.00</td>\n",
       "      <td>1.00</td>\n",
       "    </tr>\n",
       "    <tr>\n",
       "      <th>23402</th>\n",
       "      <td>2,024.00</td>\n",
       "      <td>1.00</td>\n",
       "    </tr>\n",
       "    <tr>\n",
       "      <th>23403</th>\n",
       "      <td>2,024.00</td>\n",
       "      <td>1.00</td>\n",
       "    </tr>\n",
       "  </tbody>\n",
       "</table>\n",
       "<p>23404 rows × 2 columns</p>\n",
       "</div>"
      ],
      "text/plain": [
       "           año  estado\n",
       "0     2,004.00    1.00\n",
       "1     2,004.00    1.00\n",
       "2     2,004.00    1.00\n",
       "3     2,004.00    1.00\n",
       "4     2,004.00    1.00\n",
       "...        ...     ...\n",
       "23399 2,024.00    1.00\n",
       "23400 2,024.00    1.00\n",
       "23401 2,024.00    1.00\n",
       "23402 2,024.00    1.00\n",
       "23403 2,024.00    1.00\n",
       "\n",
       "[23404 rows x 2 columns]"
      ]
     },
     "execution_count": 163,
     "metadata": {},
     "output_type": "execute_result"
    }
   ],
   "source": [
    "Ocupados"
   ]
  },
  {
   "cell_type": "code",
   "execution_count": 298,
   "id": "f029c261-da06-407d-a42b-7c65fc2c28d4",
   "metadata": {},
   "outputs": [],
   "source": [
    "OcupadosEPH = Ocupados.combine_first(edad).dropna()\n"
   ]
  },
  {
   "cell_type": "code",
   "execution_count": 300,
   "id": "e3f70ff6-689a-4d5b-a941-814147ceb9b2",
   "metadata": {},
   "outputs": [],
   "source": [
    "OcupadosEPH=OcupadosEPH.combine_first(edad2).dropna()"
   ]
  },
  {
   "cell_type": "code",
   "execution_count": 302,
   "id": "f9b0cad4-b897-4b90-914d-13e30a79f8a3",
   "metadata": {},
   "outputs": [],
   "source": [
    "OcupadosEPH = OcupadosEPH.combine_first(educ).dropna()"
   ]
  },
  {
   "cell_type": "code",
   "execution_count": 304,
   "id": "d3297e1e-d533-489f-aeac-fa00c78f727a",
   "metadata": {},
   "outputs": [],
   "source": [
    "OcupadosEPH = OcupadosEPH.combine_first(horastrab).dropna()"
   ]
  },
  {
   "cell_type": "code",
   "execution_count": 306,
   "id": "767a8b35-ec74-425c-a94b-e07dc1d9fcc9",
   "metadata": {},
   "outputs": [],
   "source": [
    "OcupadosEPH = OcupadosEPH.combine_first(salario_semanal).dropna()\n",
    "OcupadosEPH = OcupadosEPH.astype(int)"
   ]
  },
  {
   "cell_type": "markdown",
   "id": "0cb7620a-bc01-49c1-8c49-dfb5d086e172",
   "metadata": {},
   "source": [
    "### i)"
   ]
  },
  {
   "cell_type": "code",
   "execution_count": 308,
   "id": "b7dfa6b9-3329-4ae6-86b7-7cac93dfbf20",
   "metadata": {},
   "outputs": [],
   "source": [
    "y=OcupadosEPH[[\"salario semanal\"]]\n",
    "x=OcupadosEPH[[\"edad\"]]\n"
   ]
  },
  {
   "cell_type": "code",
   "execution_count": 178,
   "id": "8ba34c1f-c849-4149-8de7-85bcbdce8b1a",
   "metadata": {},
   "outputs": [
    {
     "name": "stdout",
     "output_type": "stream",
     "text": [
      "\n",
      "Intercepto: [11351.25429299]\n",
      "\n",
      "Pendiente: [[263.47816529]]\n"
     ]
    }
   ],
   "source": [
    "model = LinearRegression().fit(x, y)\n",
    "intercepto = model.intercept_\n",
    "print('\\nIntercepto:', intercepto)\n",
    "\n",
    "# La pendiente\n",
    "pendiente = model.coef_\n",
    "print('\\nPendiente:', pendiente)"
   ]
  },
  {
   "cell_type": "code",
   "execution_count": 180,
   "id": "3bd7316a-ee6c-4a74-82c2-6cca6238f43d",
   "metadata": {},
   "outputs": [
    {
     "name": "stdout",
     "output_type": "stream",
     "text": [
      "edad   519.83\n",
      "dtype: float64\n"
     ]
    }
   ],
   "source": [
    "model = sm.OLS(y, x)\n",
    "# Ajustamos el modelo\n",
    "results = model.fit()\n",
    "print(results.params)"
   ]
  },
  {
   "cell_type": "code",
   "execution_count": 182,
   "id": "98435c78-646a-44d2-be78-8e6f9663940c",
   "metadata": {},
   "outputs": [
    {
     "data": {
      "text/plain": [
       "[<matplotlib.lines.Line2D at 0x16f1d8803b0>]"
      ]
     },
     "execution_count": 182,
     "metadata": {},
     "output_type": "execute_result"
    },
    {
     "data": {
      "image/png": "[encoded data removed]",
      "text/plain": [
       "<Figure size 640x480 with 1 Axes>"
      ]
     },
     "metadata": {},
     "output_type": "display_data"
    }
   ],
   "source": [
    "plt.plot(x, y, 'o')\n",
    "plt.plot(x, pendiente*x + intercepto) #Notamos que hay valores extremos que no nos permiten analizar bien."
   ]
  },
  {
   "cell_type": "code",
   "execution_count": 312,
   "id": "49e72cc1-a365-414f-a08b-6d242caed771",
   "metadata": {},
   "outputs": [],
   "source": [
    "# Calcular el percentil 99 del salario semanal\n",
    "percentil_99 = np.percentile(y, 99)\n",
    "\n",
    "mask = y[\"salario semanal\"] < percentil_99\n",
    "\n",
    "x_percentil = x[mask]\n",
    "y_percentil = y[mask]\n",
    "\n"
   ]
  },
  {
   "cell_type": "code",
   "execution_count": 186,
   "id": "626020a0-ad18-4f6e-9cf8-5d359ce5a7ae",
   "metadata": {},
   "outputs": [
    {
     "name": "stdout",
     "output_type": "stream",
     "text": [
      "\n",
      "Pendiente: [[190.82007299]]\n",
      "\n",
      "Intercepto: [12274.37459342]\n"
     ]
    }
   ],
   "source": [
    "model_ajust = LinearRegression().fit(x_percentil, y_percentil)\n",
    "intercepto = model_ajust.intercept_\n",
    "pendiente = model_ajust.coef_\n",
    "\n",
    "print('\\nPendiente:', pendiente)\n",
    "print('\\nIntercepto:', intercepto)"
   ]
  },
  {
   "cell_type": "code",
   "execution_count": 188,
   "id": "7bb20d1c-757b-4111-9321-cd653586cb18",
   "metadata": {},
   "outputs": [
    {
     "data": {
      "text/plain": [
       "[<matplotlib.lines.Line2D at 0x16f1db33bf0>]"
      ]
     },
     "execution_count": 188,
     "metadata": {},
     "output_type": "execute_result"
    },
    {
     "data": {
      "image/png": "[encoded data removed]",
      "text/plain": [
       "<Figure size 640x480 with 1 Axes>"
      ]
     },
     "metadata": {},
     "output_type": "display_data"
    }
   ],
   "source": [
    "plt.plot(x_percentil, y_percentil, 'o')\n",
    "plt.plot(x_percentil, pendiente*x_percentil + intercepto) #Ahora si notamos que tenga un mejor sentido\n",
    "#Ahora si usamos una muestra de entrenamiento y una de testeo."
   ]
  },
  {
   "cell_type": "markdown",
   "id": "17060966-9384-416a-aec9-3c17b30b2c54",
   "metadata": {},
   "source": [
    "#### Usamos una muestra de testeo y una de entrenamiento para chequear que tan bueno es prediciendo nuestro modelo"
   ]
  },
  {
   "cell_type": "code",
   "execution_count": 296,
   "id": "0a0bfaeb-5741-4ebc-999a-0aecf4ae1bed",
   "metadata": {},
   "outputs": [
    {
     "name": "stdout",
     "output_type": "stream",
     "text": [
      "                            OLS Regression Results                            \n",
      "==============================================================================\n",
      "Dep. Variable:        salario semanal   R-squared:                       0.026\n",
      "Model:                            OLS   Adj. R-squared:                  0.026\n",
      "Method:                 Least Squares   F-statistic:                     48.27\n",
      "Date:                Fri, 30 May 2025   Prob (F-statistic):           5.19e-12\n",
      "Time:                        01:49:16   Log-Likelihood:                -19998.\n",
      "No. Observations:                1789   AIC:                         4.000e+04\n",
      "Df Residuals:                    1787   BIC:                         4.001e+04\n",
      "Df Model:                           1                                         \n",
      "Covariance Type:            nonrobust                                         \n",
      "==============================================================================\n",
      "                 coef    std err          t      P>|t|      [0.025      0.975]\n",
      "------------------------------------------------------------------------------\n",
      "const       1.198e+04   1262.812      9.486      0.000    9502.764    1.45e+04\n",
      "edad         207.9246     29.929      6.947      0.000     149.226     266.623\n",
      "==============================================================================\n",
      "Omnibus:                      631.137   Durbin-Watson:                   1.971\n",
      "Prob(Omnibus):                  0.000   Jarque-Bera (JB):             2071.188\n",
      "Skew:                           1.776   Prob(JB):                         0.00\n",
      "Kurtosis:                       6.895   Cond. No.                         130.\n",
      "==============================================================================\n",
      "\n",
      "Notes:\n",
      "[1] Standard Errors assume that the covariance matrix of the errors is correctly specified.\n",
      "\n",
      "Coeficientes:\n",
      "const   11,979.51\n",
      "edad       207.92\n",
      "dtype: float64\n",
      "\n",
      "Errores estándar:\n",
      "const   1,262.81\n",
      "edad       29.93\n",
      "dtype: float64\n",
      "\n",
      "P-valores:\n",
      "const   0.00\n",
      "edad    0.00\n",
      "dtype: float64\n",
      "\n",
      "R^2 (train): 0.026299195384914653\n",
      "\n",
      "N observaciones (train): 1789\n",
      "\n",
      "MSE (train): 299699490.15814185\n",
      "MSE (test): 225915067.21203336\n"
     ]
    }
   ],
   "source": [
    "X_train, X_test, y_train, y_test = train_test_split(x_percentil, y_percentil, test_size=0.3, random_state=42)\n",
    "\n",
    "X_train_sm = sm.add_constant(X_train)  \n",
    "X_test_sm = sm.add_constant(X_test)    \n",
    "\n",
    "modelo = sm.OLS(y_train, X_train_sm).fit()\n",
    "print(modelo.summary()) \n",
    "\n",
    "coef = modelo.params\n",
    "std_err = modelo.bse\n",
    "p_values = modelo.pvalues\n",
    "r2_train = modelo.rsquared\n",
    "n_obs = int(modelo.nobs)\n",
    "\n",
    "y_pred_train = modelo.predict(X_train_sm)\n",
    "y_pred_test = modelo.predict(X_test_sm)\n",
    "\n",
    "mse_train = mean_squared_error(y_train, y_pred_train)\n",
    "mse_test = mean_squared_error(y_test, y_pred_test)\n",
    "\n",
    "print('\\nCoeficientes:')\n",
    "print(coef)\n",
    "print('\\nErrores estándar:')\n",
    "print(std_err)\n",
    "print('\\nP-valores:')\n",
    "print(p_values)\n",
    "print('\\nR^2 (train):', r2_train)\n",
    "print('\\nN observaciones (train):', n_obs)\n",
    "print('\\nMSE (train):', mse_train)\n",
    "print('MSE (test):', mse_test)"
   ]
  },
  {
   "cell_type": "markdown",
   "id": "b0499b84-2ed0-457c-9230-a21c36c07e77",
   "metadata": {},
   "source": [
    "#### Conclusión: El R2 de por si es muy bajo, explica solo un 2% y el alternativo un 0,6% por lo que usar las edades para predecir los salarios semanales no es algo que nos sirva mucho. Encima cuando testeamos nos da un R^2 aún más bajo. Por lo que lamentablemente tenemos que decir que nuestro modelo es pésimo prediciendo los salarios semanales de la gente. En otras palabras, edad y edad al cuadrado son pésimos predictores del salario semanal."
   ]
  },
  {
   "cell_type": "markdown",
   "id": "a9297a7a-2eab-402b-ad2d-10a7a3af57d8",
   "metadata": {},
   "source": [
    "### ii)"
   ]
  },
  {
   "cell_type": "code",
   "execution_count": 290,
   "id": "01f5e1de-47e7-4b30-96c2-56967241dd0c",
   "metadata": {},
   "outputs": [],
   "source": [
    "y=OcupadosEPH[[\"salario semanal\"]]\n",
    "x=OcupadosEPH[[\"edad\", \"edad2\"]]\n",
    "\n",
    "percentil_99 = np.percentile(y, 99)\n",
    "\n",
    "mask = y[\"salario semanal\"] < percentil_99\n",
    "\n",
    "x = x[mask]\n",
    "y = y[mask] #Esta vez no le pondremos percentil para no hacer muy denso los códigos, pero trabajaremos con este percentil durante el punto 2"
   ]
  },
  {
   "cell_type": "code",
   "execution_count": 292,
   "id": "e7a42a1b-7234-41d2-9127-df646f5d8a74",
   "metadata": {},
   "outputs": [
    {
     "name": "stdout",
     "output_type": "stream",
     "text": [
      "                            OLS Regression Results                            \n",
      "==============================================================================\n",
      "Dep. Variable:        salario semanal   R-squared:                       0.046\n",
      "Model:                            OLS   Adj. R-squared:                  0.045\n",
      "Method:                 Least Squares   F-statistic:                     42.54\n",
      "Date:                Fri, 30 May 2025   Prob (F-statistic):           9.00e-19\n",
      "Time:                        01:45:46   Log-Likelihood:                -19503.\n",
      "No. Observations:                1771   AIC:                         3.901e+04\n",
      "Df Residuals:                    1768   BIC:                         3.903e+04\n",
      "Df Model:                           2                                         \n",
      "Covariance Type:            nonrobust                                         \n",
      "==============================================================================\n",
      "                 coef    std err          t      P>|t|      [0.025      0.975]\n",
      "------------------------------------------------------------------------------\n",
      "const      -5681.6908   2842.385     -1.999      0.046   -1.13e+04    -106.901\n",
      "edad        1141.6192    142.490      8.012      0.000     862.152    1421.087\n",
      "edad2        -11.7369      1.662     -7.064      0.000     -14.996      -8.478\n",
      "==============================================================================\n",
      "Omnibus:                      480.791   Durbin-Watson:                   1.945\n",
      "Prob(Omnibus):                  0.000   Jarque-Bera (JB):             1156.999\n",
      "Skew:                           1.479   Prob(JB):                    5.77e-252\n",
      "Kurtosis:                       5.631   Cond. No.                     1.72e+04\n",
      "==============================================================================\n",
      "\n",
      "Notes:\n",
      "[1] Standard Errors assume that the covariance matrix of the errors is correctly specified.\n",
      "[2] The condition number is large, 1.72e+04. This might indicate that there are\n",
      "strong multicollinearity or other numerical problems.\n",
      "\n",
      "Coeficientes:\n",
      "const   -5,681.69\n",
      "edad     1,141.62\n",
      "edad2      -11.74\n",
      "dtype: float64\n",
      "\n",
      "Errores estándar:\n",
      "const   2,842.39\n",
      "edad      142.49\n",
      "edad2       1.66\n",
      "dtype: float64\n",
      "\n",
      "P-valores:\n",
      "const   0.05\n",
      "edad    0.00\n",
      "edad2   0.00\n",
      "dtype: float64\n",
      "\n",
      "R^2 (train): 0.04591633665422035\n",
      "\n",
      "N observaciones (train): 1771\n",
      "\n",
      "MSE (train): 215108743.73522514\n",
      "MSE (test): 235427856.49130523\n"
     ]
    }
   ],
   "source": [
    "X_train, X_test, y_train, y_test = train_test_split(x, y, test_size=0.3, random_state=42)\n",
    "\n",
    "X_train_sm = sm.add_constant(X_train)  \n",
    "X_test_sm = sm.add_constant(X_test)    \n",
    "\n",
    "modelo = sm.OLS(y_train, X_train_sm).fit()\n",
    "print(modelo.summary()) \n",
    "\n",
    "coef = modelo.params\n",
    "std_err = modelo.bse\n",
    "p_values = modelo.pvalues\n",
    "r2_train = modelo.rsquared\n",
    "n_obs = int(modelo.nobs)\n",
    "\n",
    "y_pred_train = modelo.predict(X_train_sm)\n",
    "y_pred_test = modelo.predict(X_test_sm)\n",
    "\n",
    "mse_train = mean_squared_error(y_train, y_pred_train)\n",
    "mse_test = mean_squared_error(y_test, y_pred_test)\n",
    "\n",
    "print('\\nCoeficientes:')\n",
    "print(coef)\n",
    "print('\\nErrores estándar:')\n",
    "print(std_err)\n",
    "print('\\nP-valores:')\n",
    "print(p_values)\n",
    "print('\\nR^2 (train):', r2_train)\n",
    "print('\\nN observaciones (train):', n_obs)\n",
    "print('\\nMSE (train):', mse_train)\n",
    "print('MSE (test):', mse_test)"
   ]
  },
  {
   "cell_type": "markdown",
   "id": "ce45459a-bf5e-4bc1-bead-09292cab824c",
   "metadata": {},
   "source": [
    "#### Edad y edad al cuadrado no explican bien el modelo, por eso es que el coeficiente de determinación (R2) es 0,04, y peor aún el de testeo que es de un 2%. Nuestro MSE en ambos casos será terriblemente alto. Por lo que nuevamente nuestro modelo es pésimo para predecir el salario semanal."
   ]
  },
  {
   "cell_type": "markdown",
   "id": "ec27b1d8-0df7-4a8d-8768-918448038b00",
   "metadata": {},
   "source": [
    "### iii)\n"
   ]
  },
  {
   "cell_type": "code",
   "execution_count": 286,
   "id": "3bb43336-8355-429a-8cfa-8110676860de",
   "metadata": {},
   "outputs": [],
   "source": [
    "y=OcupadosEPH[[\"salario semanal\"]]\n",
    "x=OcupadosEPH[[\"edad\", \"edad2\",\"educ\"]]\n",
    "\n",
    "percentil_99 = np.percentile(y, 99)\n",
    "\n",
    "mask = y[\"salario semanal\"] < percentil_99\n",
    "\n",
    "x = x[mask]\n",
    "y = y[mask]"
   ]
  },
  {
   "cell_type": "code",
   "execution_count": 288,
   "id": "18b1ddee-7277-41df-ae04-51dd4661da87",
   "metadata": {},
   "outputs": [
    {
     "name": "stdout",
     "output_type": "stream",
     "text": [
      "                            OLS Regression Results                            \n",
      "==============================================================================\n",
      "Dep. Variable:        salario semanal   R-squared:                       0.046\n",
      "Model:                            OLS   Adj. R-squared:                  0.045\n",
      "Method:                 Least Squares   F-statistic:                     28.64\n",
      "Date:                Fri, 30 May 2025   Prob (F-statistic):           4.45e-18\n",
      "Time:                        01:44:10   Log-Likelihood:                -19502.\n",
      "No. Observations:                1771   AIC:                         3.901e+04\n",
      "Df Residuals:                    1767   BIC:                         3.903e+04\n",
      "Df Model:                           3                                         \n",
      "Covariance Type:            nonrobust                                         \n",
      "==============================================================================\n",
      "                 coef    std err          t      P>|t|      [0.025      0.975]\n",
      "------------------------------------------------------------------------------\n",
      "const      -6206.7933   2900.381     -2.140      0.032   -1.19e+04    -518.254\n",
      "edad        1142.5244    142.501      8.018      0.000     863.037    1422.012\n",
      "edad2        -11.7500      1.662     -7.071      0.000     -15.009      -8.491\n",
      "educ          65.9457     72.393      0.911      0.362     -76.039     207.930\n",
      "==============================================================================\n",
      "Omnibus:                      481.086   Durbin-Watson:                   1.946\n",
      "Prob(Omnibus):                  0.000   Jarque-Bera (JB):             1159.161\n",
      "Skew:                           1.480   Prob(JB):                    1.96e-252\n",
      "Kurtosis:                       5.636   Cond. No.                     1.75e+04\n",
      "==============================================================================\n",
      "\n",
      "Notes:\n",
      "[1] Standard Errors assume that the covariance matrix of the errors is correctly specified.\n",
      "[2] The condition number is large, 1.75e+04. This might indicate that there are\n",
      "strong multicollinearity or other numerical problems.\n",
      "\n",
      "Coeficientes:\n",
      "const   -6,206.79\n",
      "edad     1,142.52\n",
      "edad2      -11.75\n",
      "educ        65.95\n",
      "dtype: float64\n",
      "\n",
      "Errores estándar:\n",
      "const   2,900.38\n",
      "edad      142.50\n",
      "edad2       1.66\n",
      "educ       72.39\n",
      "dtype: float64\n",
      "\n",
      "P-valores:\n",
      "const   0.03\n",
      "edad    0.00\n",
      "edad2   0.00\n",
      "educ    0.36\n",
      "dtype: float64\n",
      "\n",
      "R^2 (train): 0.04636418341539761\n",
      "\n",
      "N observaciones (train): 1771\n",
      "\n",
      "MSE (train): 215007771.71580607\n",
      "MSE (test): 235708323.4968721\n"
     ]
    }
   ],
   "source": [
    "X_train, X_test, y_train, y_test = train_test_split(x, y, test_size=0.3, random_state=42)\n",
    "\n",
    "X_train_sm = sm.add_constant(X_train)  \n",
    "X_test_sm = sm.add_constant(X_test)    \n",
    "\n",
    "modelo = sm.OLS(y_train, X_train_sm).fit()\n",
    "print(modelo.summary()) \n",
    "\n",
    "coef = modelo.params\n",
    "std_err = modelo.bse\n",
    "p_values = modelo.pvalues\n",
    "r2_train = modelo.rsquared\n",
    "n_obs = int(modelo.nobs)\n",
    "\n",
    "# 6️⃣ Calcular MSE en train y test\n",
    "y_pred_train = modelo.predict(X_train_sm)\n",
    "y_pred_test = modelo.predict(X_test_sm)\n",
    "\n",
    "mse_train = mean_squared_error(y_train, y_pred_train)\n",
    "mse_test = mean_squared_error(y_test, y_pred_test)\n",
    "\n",
    "print('\\nCoeficientes:')\n",
    "print(coef)\n",
    "print('\\nErrores estándar:')\n",
    "print(std_err)\n",
    "print('\\nP-valores:')\n",
    "print(p_values)\n",
    "print('\\nR^2 (train):', r2_train)\n",
    "print('\\nN observaciones (train):', n_obs)\n",
    "print('\\nMSE (train):', mse_train)\n",
    "print('MSE (test):', mse_test)"
   ]
  },
  {
   "cell_type": "markdown",
   "id": "c0402e95-f4dd-43d2-8326-34876f5d699e",
   "metadata": {},
   "source": [
    "#### Podemos notar que el R^2 es casi idéntico a cuando solo teniamos edad y edad al cuadrado (aunque por muy poco es superior). Igualmente en la muestra de testeo sigue funcionando mal. Así que este modelo tampoco es bueno prediciendo salario semanal."
   ]
  },
  {
   "cell_type": "markdown",
   "id": "60e96394-3798-4f33-a736-897b3d5ee7e6",
   "metadata": {},
   "source": [
    "### iv)"
   ]
  },
  {
   "cell_type": "code",
   "execution_count": 318,
   "id": "4cf0cf6f-58fc-4954-af72-6f04d40a9c50",
   "metadata": {},
   "outputs": [],
   "source": [
    "ch04 = pd.read_csv(\"ch04.csv\")"
   ]
  },
  {
   "cell_type": "code",
   "execution_count": 320,
   "id": "51d1ec25-b108-491a-ad4a-8956d4570524",
   "metadata": {},
   "outputs": [
    {
     "data": {
      "text/html": [
       "<div>\n",
       "<style scoped>\n",
       "    .dataframe tbody tr th:only-of-type {\n",
       "        vertical-align: middle;\n",
       "    }\n",
       "\n",
       "    .dataframe tbody tr th {\n",
       "        vertical-align: top;\n",
       "    }\n",
       "\n",
       "    .dataframe thead th {\n",
       "        text-align: right;\n",
       "    }\n",
       "</style>\n",
       "<table border=\"1\" class=\"dataframe\">\n",
       "  <thead>\n",
       "    <tr style=\"text-align: right;\">\n",
       "      <th></th>\n",
       "      <th>Genero</th>\n",
       "    </tr>\n",
       "  </thead>\n",
       "  <tbody>\n",
       "    <tr>\n",
       "      <th>0</th>\n",
       "      <td>1.00</td>\n",
       "    </tr>\n",
       "    <tr>\n",
       "      <th>1</th>\n",
       "      <td>2.00</td>\n",
       "    </tr>\n",
       "    <tr>\n",
       "      <th>2</th>\n",
       "      <td>2.00</td>\n",
       "    </tr>\n",
       "    <tr>\n",
       "      <th>3</th>\n",
       "      <td>1.00</td>\n",
       "    </tr>\n",
       "    <tr>\n",
       "      <th>4</th>\n",
       "      <td>2.00</td>\n",
       "    </tr>\n",
       "    <tr>\n",
       "      <th>...</th>\n",
       "      <td>...</td>\n",
       "    </tr>\n",
       "    <tr>\n",
       "      <th>14693</th>\n",
       "      <td>2.00</td>\n",
       "    </tr>\n",
       "    <tr>\n",
       "      <th>14694</th>\n",
       "      <td>1.00</td>\n",
       "    </tr>\n",
       "    <tr>\n",
       "      <th>14695</th>\n",
       "      <td>1.00</td>\n",
       "    </tr>\n",
       "    <tr>\n",
       "      <th>14696</th>\n",
       "      <td>1.00</td>\n",
       "    </tr>\n",
       "    <tr>\n",
       "      <th>14697</th>\n",
       "      <td>2.00</td>\n",
       "    </tr>\n",
       "  </tbody>\n",
       "</table>\n",
       "<p>14698 rows × 1 columns</p>\n",
       "</div>"
      ],
      "text/plain": [
       "       Genero\n",
       "0        1.00\n",
       "1        2.00\n",
       "2        2.00\n",
       "3        1.00\n",
       "4        2.00\n",
       "...       ...\n",
       "14693    2.00\n",
       "14694    1.00\n",
       "14695    1.00\n",
       "14696    1.00\n",
       "14697    2.00\n",
       "\n",
       "[14698 rows x 1 columns]"
      ]
     },
     "execution_count": 320,
     "metadata": {},
     "output_type": "execute_result"
    }
   ],
   "source": [
    "ch04"
   ]
  },
  {
   "cell_type": "code",
   "execution_count": 322,
   "id": "c8e59b34-207e-4383-a199-5ba3758aa5db",
   "metadata": {},
   "outputs": [],
   "source": [
    "mujer=ch04\n",
    "mujer=pd.get_dummies(mujer['Genero'], prefix='Genero', dtype=int)\n",
    "mujer=mujer.drop(\"Genero_1.0\", axis=1)\n",
    "mujer=mujer.rename(columns={\"Genero_2.0\":\"mujer\"})"
   ]
  },
  {
   "cell_type": "code",
   "execution_count": 324,
   "id": "7d85c900-5811-43c1-861f-9a7959af302b",
   "metadata": {},
   "outputs": [],
   "source": [
    "OcupadosEPH=pd.concat([OcupadosEPH,mujer],axis=1)\n",
    "OcupadosEPH=OcupadosEPH.dropna()"
   ]
  },
  {
   "cell_type": "code",
   "execution_count": 330,
   "id": "f654e983-932a-489a-a406-fd5544d37b8a",
   "metadata": {},
   "outputs": [],
   "source": [
    "y = OcupadosEPH[[\"salario semanal\"]]\n",
    "x = OcupadosEPH[[\"edad\", \"edad2\", \"educ\", \"mujer\"]]\n"
   ]
  },
  {
   "cell_type": "code",
   "execution_count": 338,
   "id": "78a62dfe-1d1f-4033-9c6f-61fe7c73635b",
   "metadata": {},
   "outputs": [],
   "source": [
    "percentil_99 = np.percentile(y, 99)\n",
    "mask = y[\"salario semanal\"] < percentil_99"
   ]
  },
  {
   "cell_type": "code",
   "execution_count": 340,
   "id": "63eeb4fe-a521-45d5-959d-d5653671b055",
   "metadata": {},
   "outputs": [],
   "source": [
    "x = x[mask]\n",
    "y = y[mask]"
   ]
  },
  {
   "cell_type": "code",
   "execution_count": 342,
   "id": "1e3f5bd1-f7df-402b-b2d7-cda2bd5987ab",
   "metadata": {},
   "outputs": [
    {
     "name": "stdout",
     "output_type": "stream",
     "text": [
      "                            OLS Regression Results                            \n",
      "==============================================================================\n",
      "Dep. Variable:        salario semanal   R-squared:                       0.074\n",
      "Model:                            OLS   Adj. R-squared:                  0.071\n",
      "Method:                 Least Squares   F-statistic:                     35.05\n",
      "Date:                Fri, 30 May 2025   Prob (F-statistic):           3.35e-28\n",
      "Time:                        02:01:37   Log-Likelihood:                -19477.\n",
      "No. Observations:                1771   AIC:                         3.896e+04\n",
      "Df Residuals:                    1766   BIC:                         3.899e+04\n",
      "Df Model:                           4                                         \n",
      "Covariance Type:            nonrobust                                         \n",
      "==============================================================================\n",
      "                 coef    std err          t      P>|t|      [0.025      0.975]\n",
      "------------------------------------------------------------------------------\n",
      "const      -4739.5463   2866.814     -1.653      0.098   -1.04e+04     883.159\n",
      "edad        1178.7897    140.585      8.385      0.000     903.059    1454.521\n",
      "edad2        -12.1739      1.639     -7.426      0.000     -15.389      -8.959\n",
      "educ          56.6266     71.385      0.793      0.428     -83.382     196.635\n",
      "mujer      -5028.2698    698.559     -7.198      0.000   -6398.360   -3658.180\n",
      "==============================================================================\n",
      "Omnibus:                      507.195   Durbin-Watson:                   1.951\n",
      "Prob(Omnibus):                  0.000   Jarque-Bera (JB):             1301.183\n",
      "Skew:                           1.529   Prob(JB):                    2.83e-283\n",
      "Kurtosis:                       5.878   Cond. No.                     1.76e+04\n",
      "==============================================================================\n",
      "\n",
      "Notes:\n",
      "[1] Standard Errors assume that the covariance matrix of the errors is correctly specified.\n",
      "[2] The condition number is large, 1.76e+04. This might indicate that there are\n",
      "strong multicollinearity or other numerical problems.\n",
      "\n",
      "Coeficientes:\n",
      "const   -4,739.55\n",
      "edad     1,178.79\n",
      "edad2      -12.17\n",
      "educ        56.63\n",
      "mujer   -5,028.27\n",
      "dtype: float64\n",
      "\n",
      "Errores estándar:\n",
      "const   2,866.81\n",
      "edad      140.59\n",
      "edad2       1.64\n",
      "educ       71.39\n",
      "mujer     698.56\n",
      "dtype: float64\n",
      "\n",
      "P-valores:\n",
      "const   0.10\n",
      "edad    0.00\n",
      "edad2   0.00\n",
      "educ    0.43\n",
      "mujer   0.00\n",
      "dtype: float64\n",
      "\n",
      "R^2 (train): 0.07354510575346074\n",
      "\n",
      "N observaciones (train): 1771\n",
      "\n",
      "MSE (train): 208879531.30845886\n",
      "MSE (test): 225611357.45474997\n"
     ]
    }
   ],
   "source": [
    "X_train, X_test, y_train, y_test = train_test_split(x, y, test_size=0.3, random_state=42)\n",
    "\n",
    "X_train_sm = sm.add_constant(X_train)  \n",
    "X_test_sm = sm.add_constant(X_test)    \n",
    "\n",
    "modelo = sm.OLS(y_train, X_train_sm).fit()\n",
    "print(modelo.summary()) \n",
    "\n",
    "coef = modelo.params\n",
    "std_err = modelo.bse\n",
    "p_values = modelo.pvalues\n",
    "r2_train = modelo.rsquared\n",
    "n_obs = int(modelo.nobs)\n",
    "\n",
    "# 6️⃣ Calcular MSE en train y test\n",
    "y_pred_train = modelo.predict(X_train_sm)\n",
    "y_pred_test = modelo.predict(X_test_sm)\n",
    "\n",
    "mse_train = mean_squared_error(y_train, y_pred_train)\n",
    "mse_test = mean_squared_error(y_test, y_pred_test)\n",
    "\n",
    "print('\\nCoeficientes:')\n",
    "print(coef)\n",
    "print('\\nErrores estándar:')\n",
    "print(std_err)\n",
    "print('\\nP-valores:')\n",
    "print(p_values)\n",
    "print('\\nR^2 (train):', r2_train)\n",
    "print('\\nN observaciones (train):', n_obs)\n",
    "print('\\nMSE (train):', mse_train)\n",
    "print('MSE (test):', mse_test)"
   ]
  },
  {
   "cell_type": "markdown",
   "id": "778b8de3-e2b8-4b47-88f6-14e56d429005",
   "metadata": {},
   "source": [
    "#### Hubo una mejoría en este modelo, ahora el R^2 de entrenamiento es del 8% y cuando lo testeamos es del 3%. Obviamente sigue siendo muy malo explicando la varianza del modelo, pero al menos significó un avance."
   ]
  },
  {
   "cell_type": "markdown",
   "id": "c4e3efe7-4702-4d4d-b1c5-9cbc5bc0e429",
   "metadata": {},
   "source": [
    "### v)"
   ]
  },
  {
   "cell_type": "code",
   "execution_count": 220,
   "id": "87250272-5203-4c7d-8f39-3030f916266d",
   "metadata": {},
   "outputs": [],
   "source": [
    "#Para hacer la ultima regresion lineal tuvimos que buscar nuevas variables en la eph ya que tanto en el tp2 como en el tp3 no teniamos vaariables creadas para usar, asi que utilizamos la variable saber escribir y leer donde 1=si y 2=no"
   ]
  },
  {
   "cell_type": "code",
   "execution_count": 221,
   "id": "e994b177-adc3-48c0-8683-8fec6fe05d58",
   "metadata": {},
   "outputs": [],
   "source": [
    "varnu = pd.read_csv(\"varnueva.csv\")"
   ]
  },
  {
   "cell_type": "code",
   "execution_count": 222,
   "id": "1fd0a4b4-c6f8-47a2-938f-672b89dadd41",
   "metadata": {},
   "outputs": [
    {
     "data": {
      "text/html": [
       "<div>\n",
       "<style scoped>\n",
       "    .dataframe tbody tr th:only-of-type {\n",
       "        vertical-align: middle;\n",
       "    }\n",
       "\n",
       "    .dataframe tbody tr th {\n",
       "        vertical-align: top;\n",
       "    }\n",
       "\n",
       "    .dataframe thead th {\n",
       "        text-align: right;\n",
       "    }\n",
       "</style>\n",
       "<table border=\"1\" class=\"dataframe\">\n",
       "  <thead>\n",
       "    <tr style=\"text-align: right;\">\n",
       "      <th></th>\n",
       "      <th>sabe escribir</th>\n",
       "    </tr>\n",
       "  </thead>\n",
       "  <tbody>\n",
       "    <tr>\n",
       "      <th>0</th>\n",
       "      <td>1</td>\n",
       "    </tr>\n",
       "    <tr>\n",
       "      <th>1</th>\n",
       "      <td>1</td>\n",
       "    </tr>\n",
       "    <tr>\n",
       "      <th>2</th>\n",
       "      <td>1</td>\n",
       "    </tr>\n",
       "    <tr>\n",
       "      <th>3</th>\n",
       "      <td>1</td>\n",
       "    </tr>\n",
       "    <tr>\n",
       "      <th>4</th>\n",
       "      <td>1</td>\n",
       "    </tr>\n",
       "    <tr>\n",
       "      <th>...</th>\n",
       "      <td>...</td>\n",
       "    </tr>\n",
       "    <tr>\n",
       "      <th>13422</th>\n",
       "      <td>1.0</td>\n",
       "    </tr>\n",
       "    <tr>\n",
       "      <th>13423</th>\n",
       "      <td>1.0</td>\n",
       "    </tr>\n",
       "    <tr>\n",
       "      <th>13424</th>\n",
       "      <td>1.0</td>\n",
       "    </tr>\n",
       "    <tr>\n",
       "      <th>13425</th>\n",
       "      <td>1.0</td>\n",
       "    </tr>\n",
       "    <tr>\n",
       "      <th>13426</th>\n",
       "      <td>1.0</td>\n",
       "    </tr>\n",
       "  </tbody>\n",
       "</table>\n",
       "<p>13427 rows × 1 columns</p>\n",
       "</div>"
      ],
      "text/plain": [
       "      sabe escribir\n",
       "0                 1\n",
       "1                 1\n",
       "2                 1\n",
       "3                 1\n",
       "4                 1\n",
       "...             ...\n",
       "13422           1.0\n",
       "13423           1.0\n",
       "13424           1.0\n",
       "13425           1.0\n",
       "13426           1.0\n",
       "\n",
       "[13427 rows x 1 columns]"
      ]
     },
     "execution_count": 222,
     "metadata": {},
     "output_type": "execute_result"
    }
   ],
   "source": [
    "varnu"
   ]
  },
  {
   "cell_type": "code",
   "execution_count": 223,
   "id": "152f0ea2-0e5e-4744-9cd5-df1e113794d6",
   "metadata": {},
   "outputs": [
    {
     "name": "stderr",
     "output_type": "stream",
     "text": [
      "C:\\Users\\Juan T\\AppData\\Local\\Temp\\ipykernel_15364\\3320795527.py:5: SettingWithCopyWarning: \n",
      "A value is trying to be set on a copy of a slice from a DataFrame.\n",
      "Try using .loc[row_indexer,col_indexer] = value instead\n",
      "\n",
      "See the caveats in the documentation: https://pandas.pydata.org/pandas-docs/stable/user_guide/indexing.html#returning-a-view-versus-a-copy\n",
      "  varnu[\"sabe escribir\"] = varnu[\"sabe escribir\"].astype(int)\n"
     ]
    }
   ],
   "source": [
    "varnu[\"sabe escribir\"] = pd.to_numeric(varnu[\"sabe escribir\"], errors='coerce')\n",
    "\n",
    "varnu = varnu.dropna(subset=[\"sabe escribir\"])\n",
    "\n",
    "varnu[\"sabe escribir\"] = varnu[\"sabe escribir\"].astype(int)\n",
    "\n",
    "#esto lo hacemos para obtener numeros enteros y no trabajar con decimales "
   ]
  },
  {
   "cell_type": "code",
   "execution_count": 224,
   "id": "528f069d-ea0a-4c3a-adac-c52976993c16",
   "metadata": {},
   "outputs": [],
   "source": [
    "escribe=varnu[(varnu[\"sabe escribir\"]!=9) & (varnu[\"sabe escribir\"]!=3)]\n",
    "dummies_varnu = pd.get_dummies(escribe['sabe escribir'], prefix='sabe escribir', dtype=int)\n",
    "escribe=dummies_varnu.drop(\"sabe escribir_1\", axis=1)"
   ]
  },
  {
   "cell_type": "code",
   "execution_count": 225,
   "id": "291aef04-67da-4430-9da5-987959ff0a25",
   "metadata": {},
   "outputs": [
    {
     "data": {
      "text/html": [
       "<div>\n",
       "<style scoped>\n",
       "    .dataframe tbody tr th:only-of-type {\n",
       "        vertical-align: middle;\n",
       "    }\n",
       "\n",
       "    .dataframe tbody tr th {\n",
       "        vertical-align: top;\n",
       "    }\n",
       "\n",
       "    .dataframe thead th {\n",
       "        text-align: right;\n",
       "    }\n",
       "</style>\n",
       "<table border=\"1\" class=\"dataframe\">\n",
       "  <thead>\n",
       "    <tr style=\"text-align: right;\">\n",
       "      <th></th>\n",
       "      <th>estado civil</th>\n",
       "    </tr>\n",
       "  </thead>\n",
       "  <tbody>\n",
       "    <tr>\n",
       "      <th>0</th>\n",
       "      <td>4</td>\n",
       "    </tr>\n",
       "    <tr>\n",
       "      <th>1</th>\n",
       "      <td>3</td>\n",
       "    </tr>\n",
       "    <tr>\n",
       "      <th>2</th>\n",
       "      <td>4</td>\n",
       "    </tr>\n",
       "    <tr>\n",
       "      <th>3</th>\n",
       "      <td>2</td>\n",
       "    </tr>\n",
       "    <tr>\n",
       "      <th>4</th>\n",
       "      <td>2</td>\n",
       "    </tr>\n",
       "    <tr>\n",
       "      <th>...</th>\n",
       "      <td>...</td>\n",
       "    </tr>\n",
       "    <tr>\n",
       "      <th>14693</th>\n",
       "      <td>3</td>\n",
       "    </tr>\n",
       "    <tr>\n",
       "      <th>14694</th>\n",
       "      <td>5</td>\n",
       "    </tr>\n",
       "    <tr>\n",
       "      <th>14695</th>\n",
       "      <td>5</td>\n",
       "    </tr>\n",
       "    <tr>\n",
       "      <th>14696</th>\n",
       "      <td>5</td>\n",
       "    </tr>\n",
       "    <tr>\n",
       "      <th>14697</th>\n",
       "      <td>5</td>\n",
       "    </tr>\n",
       "  </tbody>\n",
       "</table>\n",
       "<p>14698 rows × 1 columns</p>\n",
       "</div>"
      ],
      "text/plain": [
       "       estado civil\n",
       "0                 4\n",
       "1                 3\n",
       "2                 4\n",
       "3                 2\n",
       "4                 2\n",
       "...             ...\n",
       "14693             3\n",
       "14694             5\n",
       "14695             5\n",
       "14696             5\n",
       "14697             5\n",
       "\n",
       "[14698 rows x 1 columns]"
      ]
     },
     "execution_count": 225,
     "metadata": {},
     "output_type": "execute_result"
    }
   ],
   "source": [
    "estadocivil = pd.read_csv(\"estadocivil.csv\")\n",
    "estadocivil\n"
   ]
  },
  {
   "cell_type": "code",
   "execution_count": 249,
   "id": "077310a7-b9c5-4850-b9e2-6a217c5aaea4",
   "metadata": {},
   "outputs": [],
   "source": [
    "estadocivildummie=pd.get_dummies(estadocivil['estado civil'], prefix='estado civil', dtype=int)\n",
    "estadocivildummie=estadocivildummie.drop(\"estado civil_9\", axis=1) #lo elimino porque son los valores faltantes o gente que no respondió\n",
    "estadocivil=estadocivildummie.drop(\"estado civil_1\", axis=1) #Elimino la columna de casado, para usarla como referencia"
   ]
  },
  {
   "cell_type": "code",
   "execution_count": 250,
   "id": "04c1cedd-27b9-4062-82b0-5d7020d4d7ad",
   "metadata": {},
   "outputs": [
    {
     "data": {
      "text/html": [
       "<div>\n",
       "<style scoped>\n",
       "    .dataframe tbody tr th:only-of-type {\n",
       "        vertical-align: middle;\n",
       "    }\n",
       "\n",
       "    .dataframe tbody tr th {\n",
       "        vertical-align: top;\n",
       "    }\n",
       "\n",
       "    .dataframe thead th {\n",
       "        text-align: right;\n",
       "    }\n",
       "</style>\n",
       "<table border=\"1\" class=\"dataframe\">\n",
       "  <thead>\n",
       "    <tr style=\"text-align: right;\">\n",
       "      <th></th>\n",
       "      <th>estado civil_2</th>\n",
       "      <th>estado civil_3</th>\n",
       "      <th>estado civil_4</th>\n",
       "      <th>estado civil_5</th>\n",
       "    </tr>\n",
       "  </thead>\n",
       "  <tbody>\n",
       "    <tr>\n",
       "      <th>0</th>\n",
       "      <td>0</td>\n",
       "      <td>0</td>\n",
       "      <td>1</td>\n",
       "      <td>0</td>\n",
       "    </tr>\n",
       "    <tr>\n",
       "      <th>1</th>\n",
       "      <td>0</td>\n",
       "      <td>1</td>\n",
       "      <td>0</td>\n",
       "      <td>0</td>\n",
       "    </tr>\n",
       "    <tr>\n",
       "      <th>2</th>\n",
       "      <td>0</td>\n",
       "      <td>0</td>\n",
       "      <td>1</td>\n",
       "      <td>0</td>\n",
       "    </tr>\n",
       "    <tr>\n",
       "      <th>3</th>\n",
       "      <td>1</td>\n",
       "      <td>0</td>\n",
       "      <td>0</td>\n",
       "      <td>0</td>\n",
       "    </tr>\n",
       "    <tr>\n",
       "      <th>4</th>\n",
       "      <td>1</td>\n",
       "      <td>0</td>\n",
       "      <td>0</td>\n",
       "      <td>0</td>\n",
       "    </tr>\n",
       "    <tr>\n",
       "      <th>...</th>\n",
       "      <td>...</td>\n",
       "      <td>...</td>\n",
       "      <td>...</td>\n",
       "      <td>...</td>\n",
       "    </tr>\n",
       "    <tr>\n",
       "      <th>14693</th>\n",
       "      <td>0</td>\n",
       "      <td>1</td>\n",
       "      <td>0</td>\n",
       "      <td>0</td>\n",
       "    </tr>\n",
       "    <tr>\n",
       "      <th>14694</th>\n",
       "      <td>0</td>\n",
       "      <td>0</td>\n",
       "      <td>0</td>\n",
       "      <td>1</td>\n",
       "    </tr>\n",
       "    <tr>\n",
       "      <th>14695</th>\n",
       "      <td>0</td>\n",
       "      <td>0</td>\n",
       "      <td>0</td>\n",
       "      <td>1</td>\n",
       "    </tr>\n",
       "    <tr>\n",
       "      <th>14696</th>\n",
       "      <td>0</td>\n",
       "      <td>0</td>\n",
       "      <td>0</td>\n",
       "      <td>1</td>\n",
       "    </tr>\n",
       "    <tr>\n",
       "      <th>14697</th>\n",
       "      <td>0</td>\n",
       "      <td>0</td>\n",
       "      <td>0</td>\n",
       "      <td>1</td>\n",
       "    </tr>\n",
       "  </tbody>\n",
       "</table>\n",
       "<p>14698 rows × 4 columns</p>\n",
       "</div>"
      ],
      "text/plain": [
       "       estado civil_2  estado civil_3  estado civil_4  estado civil_5\n",
       "0                   0               0               1               0\n",
       "1                   0               1               0               0\n",
       "2                   0               0               1               0\n",
       "3                   1               0               0               0\n",
       "4                   1               0               0               0\n",
       "...               ...             ...             ...             ...\n",
       "14693               0               1               0               0\n",
       "14694               0               0               0               1\n",
       "14695               0               0               0               1\n",
       "14696               0               0               0               1\n",
       "14697               0               0               0               1\n",
       "\n",
       "[14698 rows x 4 columns]"
      ]
     },
     "execution_count": 250,
     "metadata": {},
     "output_type": "execute_result"
    }
   ],
   "source": [
    "estadocivil"
   ]
  },
  {
   "cell_type": "code",
   "execution_count": 268,
   "id": "999422e9-b1a9-41fc-bf8a-5eb951217777",
   "metadata": {},
   "outputs": [],
   "source": [
    "\n",
    "y = OcupadosEPH[[\"salario semanal\"]]\n",
    "x = OcupadosEPH[[\"edad\", \"edad2\", \"educ\", \"mujer\", \"estado civil_2\",\"estado civil_3\",\"estado civil_4\",\"estado civil_5\",\"sabe escribir_2\"]]\n",
    "\n",
    "percentil_99 = np.percentile(y, 99)\n",
    "mask = y[\"salario semanal\"] < percentil_99\n",
    "\n",
    "x = x[mask]\n",
    "y = y[mask]\n"
   ]
  },
  {
   "cell_type": "code",
   "execution_count": 270,
   "id": "6222cfd5-18af-4aa1-a3d6-36771486c41c",
   "metadata": {},
   "outputs": [
    {
     "name": "stdout",
     "output_type": "stream",
     "text": [
      "                            OLS Regression Results                            \n",
      "==============================================================================\n",
      "Dep. Variable:        salario semanal   R-squared:                       0.090\n",
      "Model:                            OLS   Adj. R-squared:                  0.085\n",
      "Method:                 Least Squares   F-statistic:                     19.31\n",
      "Date:                Fri, 30 May 2025   Prob (F-statistic):           4.03e-31\n",
      "Time:                        01:26:11   Log-Likelihood:                -19461.\n",
      "No. Observations:                1771   AIC:                         3.894e+04\n",
      "Df Residuals:                    1761   BIC:                         3.900e+04\n",
      "Df Model:                           9                                         \n",
      "Covariance Type:            nonrobust                                         \n",
      "===================================================================================\n",
      "                      coef    std err          t      P>|t|      [0.025      0.975]\n",
      "-----------------------------------------------------------------------------------\n",
      "const           -4078.9200   3305.610     -1.234      0.217   -1.06e+04    2404.412\n",
      "edad             1047.2429    155.176      6.749      0.000     742.895    1351.591\n",
      "edad2             -11.0087      1.750     -6.292      0.000     -14.440      -7.577\n",
      "educ               58.0497     70.870      0.819      0.413     -80.948     197.047\n",
      "mujer           -4972.2654    709.917     -7.004      0.000   -6364.635   -3579.896\n",
      "estado civil_2   4066.2566    973.659      4.176      0.000    2156.608    5975.906\n",
      "estado civil_3   3042.8102   1521.963      1.999      0.046      57.766    6027.854\n",
      "estado civil_4   2612.8157   2325.596      1.124      0.261   -1948.404    7174.036\n",
      "estado civil_5   1852.7494   1072.427      1.728      0.084    -250.614    3956.113\n",
      "sabe escribir_2  -1.39e+04   3876.988     -3.586      0.000   -2.15e+04   -6297.855\n",
      "==============================================================================\n",
      "Omnibus:                      508.337   Durbin-Watson:                   1.936\n",
      "Prob(Omnibus):                  0.000   Jarque-Bera (JB):             1324.317\n",
      "Skew:                           1.524   Prob(JB):                    2.68e-288\n",
      "Kurtosis:                       5.942   Cond. No.                     2.39e+04\n",
      "==============================================================================\n",
      "\n",
      "Notes:\n",
      "[1] Standard Errors assume that the covariance matrix of the errors is correctly specified.\n",
      "[2] The condition number is large, 2.39e+04. This might indicate that there are\n",
      "strong multicollinearity or other numerical problems.\n",
      "\n",
      "Coeficientes:\n",
      "const              -4,078.92\n",
      "edad                1,047.24\n",
      "edad2                 -11.01\n",
      "educ                   58.05\n",
      "mujer              -4,972.27\n",
      "estado civil_2      4,066.26\n",
      "estado civil_3      3,042.81\n",
      "estado civil_4      2,612.82\n",
      "estado civil_5      1,852.75\n",
      "sabe escribir_2   -13,901.84\n",
      "dtype: float64\n",
      "\n",
      "Errores estándar:\n",
      "const             3,305.61\n",
      "edad                155.18\n",
      "edad2                 1.75\n",
      "educ                 70.87\n",
      "mujer               709.92\n",
      "estado civil_2      973.66\n",
      "estado civil_3    1,521.96\n",
      "estado civil_4    2,325.60\n",
      "estado civil_5    1,072.43\n",
      "sabe escribir_2   3,876.99\n",
      "dtype: float64\n",
      "\n",
      "P-valores:\n",
      "const             0.22\n",
      "edad              0.00\n",
      "edad2             0.00\n",
      "educ              0.41\n",
      "mujer             0.00\n",
      "estado civil_2    0.00\n",
      "estado civil_3    0.05\n",
      "estado civil_4    0.26\n",
      "estado civil_5    0.08\n",
      "sabe escribir_2   0.00\n",
      "dtype: float64\n",
      "\n",
      "R^2 (train): 0.08983454629092125\n",
      "\n",
      "N observaciones (train): 1771\n",
      "\n",
      "MSE (train): 205206896.27153248\n",
      "MSE (test): 220604930.97613293\n"
     ]
    }
   ],
   "source": [
    "import pandas as pd\n",
    "import numpy as np\n",
    "from sklearn.model_selection import train_test_split\n",
    "import statsmodels.api as sm\n",
    "from sklearn.metrics import mean_squared_error\n",
    "\n",
    "# Suponiendo que tienes tus datos preparados como 'x' y 'y':\n",
    "# x = df[['edad', 'educ', 'mujer', ...]]\n",
    "# y = df['salario_semanal']\n",
    "\n",
    "# 1️⃣ Split en train/test\n",
    "X_train, X_test, y_train, y_test = train_test_split(x, y, test_size=0.3, random_state=42)\n",
    "\n",
    "# 2️⃣ Agregar constante (intercepto)\n",
    "X_train_sm = sm.add_constant(X_train)  # Para train\n",
    "X_test_sm = sm.add_constant(X_test)    # Para test\n",
    "\n",
    "# 3️⃣ Ajustar modelo OLS\n",
    "modelo = sm.OLS(y_train, X_train_sm).fit()\n",
    "\n",
    "# 4️⃣ Resultados del modelo\n",
    "print(modelo.summary())  # Muestra la tabla completa (coef, std, p-valor, R2, etc.)\n",
    "\n",
    "# 5️⃣ Extraer info para la tabla personalizada\n",
    "coef = modelo.params\n",
    "std_err = modelo.bse\n",
    "p_values = modelo.pvalues\n",
    "r2_train = modelo.rsquared\n",
    "n_obs = int(modelo.nobs)\n",
    "\n",
    "# 6️⃣ Calcular MSE en train y test\n",
    "y_pred_train = modelo.predict(X_train_sm)\n",
    "y_pred_test = modelo.predict(X_test_sm)\n",
    "\n",
    "mse_train = mean_squared_error(y_train, y_pred_train)\n",
    "mse_test = mean_squared_error(y_test, y_pred_test)\n",
    "\n",
    "print('\\nCoeficientes:')\n",
    "print(coef)\n",
    "print('\\nErrores estándar:')\n",
    "print(std_err)\n",
    "print('\\nP-valores:')\n",
    "print(p_values)\n",
    "print('\\nR^2 (train):', r2_train)\n",
    "print('\\nN observaciones (train):', n_obs)\n",
    "print('\\nMSE (train):', mse_train)\n",
    "print('MSE (test):', mse_test)\n"
   ]
  },
  {
   "cell_type": "markdown",
   "id": "7b459d35-d471-4ef8-b1fb-305455312244",
   "metadata": {},
   "source": [
    "#### Finalmente nos dió un R^2 de casi un 9% en la muestra de entrenamiento y casi un 4% en la muestra de testeo, siendo así el valor más alto que logramos con estas variables para explicar la variación del salario semanal. El MSE en ambos caso sigue siendo exageradamente alto, porque obviamente le estamos errando por mucho al predecir con estos predictores."
   ]
  },
  {
   "cell_type": "markdown",
   "id": "749e5a31-62af-4644-a178-1a37993bf971",
   "metadata": {},
   "source": [
    "## Punto 3"
   ]
  },
  {
   "cell_type": "code",
   "execution_count": 213,
   "id": "31c4cdd1-7138-4b71-a97c-9e5e9509ecb3",
   "metadata": {},
   "outputs": [],
   "source": [
    "x = OcupadosEPH[[\"edad\"]]\n",
    "y = OcupadosEPH[[\"salario semanal\"]]\n",
    "\n",
    "x_train, x_test, y_train, y_test = train_test_split(x, y, test_size=0.3, random_state=42)\n",
    "\n",
    "modelo1 = LinearRegression().fit(x_train, y_train)\n",
    "y_pred1 = modelo1.predict(x_test)\n",
    "\n",
    "mse1 = mean_squared_error(y_test, y_pred1)\n",
    "rmse1 = np.sqrt(mse1)\n",
    "mae1 = mean_absolute_error(y_test, y_pred1)\n"
   ]
  },
  {
   "cell_type": "code",
   "execution_count": 215,
   "id": "f06a7449-d734-4f2d-9bd6-fbc168da7d5a",
   "metadata": {},
   "outputs": [
    {
     "name": "stdout",
     "output_type": "stream",
     "text": [
      "Modelo 1 solo edad\n",
      "MSE test: 225915067.2120333\n",
      "RMSE test: 15030.471290416455\n",
      "MAE test: 11053.955312902059\n"
     ]
    }
   ],
   "source": [
    "print(\"Modelo 1 solo edad\")\n",
    "print(\"MSE test:\", mse1)\n",
    "print(\"RMSE test:\", rmse1)\n",
    "print(\"MAE test:\", mae1)"
   ]
  },
  {
   "cell_type": "code",
   "execution_count": 217,
   "id": "989efef1-3cc9-4371-ab32-744d19990f86",
   "metadata": {},
   "outputs": [
    {
     "name": "stdout",
     "output_type": "stream",
     "text": [
      "\n",
      "Modelo 2 (edad, edad2)\n",
      "MSE test: 221875782.2411282\n",
      "RMSE test: 14895.495367429987\n",
      "MAE test: 10958.21015100053\n"
     ]
    }
   ],
   "source": [
    "x2 = OcupadosEPH[[\"edad\", \"edad2\"]]\n",
    "\n",
    "x2_train, x2_test, _, _ = train_test_split(x2, y, test_size=0.3, random_state=42)\n",
    "\n",
    "modelo2 = LinearRegression().fit(x2_train, y_train)\n",
    "y_pred2 = modelo2.predict(x2_test)\n",
    "\n",
    "print(\"\\nModelo 2 (edad, edad2)\")\n",
    "print(\"MSE test:\", mean_squared_error(y_test, y_pred2))\n",
    "print(\"RMSE test:\", np.sqrt(mean_squared_error(y_test, y_pred2)))\n",
    "print(\"MAE test:\", mean_absolute_error(y_test, y_pred2))\n"
   ]
  },
  {
   "cell_type": "code",
   "execution_count": 219,
   "id": "029a47ff-7caa-4d26-8d57-0b213a00ec76",
   "metadata": {},
   "outputs": [
    {
     "name": "stdout",
     "output_type": "stream",
     "text": [
      "\n",
      "Modelo 3 (edad, edad2, educ)\n",
      "MSE test: 222634922.9787309\n",
      "RMSE test: 14920.955833281289\n",
      "MAE test: 10978.338001211421\n"
     ]
    }
   ],
   "source": [
    "x3 = OcupadosEPH[[\"edad\", \"edad2\", \"educ\"]]\n",
    "\n",
    "x3_train, x3_test, _, _ = train_test_split(x3, y, test_size=0.3, random_state=42)\n",
    "\n",
    "modelo3 = LinearRegression().fit(x3_train, y_train)\n",
    "y_pred3 = modelo3.predict(x3_test)\n",
    "\n",
    "print(\"\\nModelo 3 (edad, edad2, educ)\")\n",
    "print(\"MSE test:\", mean_squared_error(y_test, y_pred3))\n",
    "print(\"RMSE test:\", np.sqrt(mean_squared_error(y_test, y_pred3)))\n",
    "print(\"MAE test:\", mean_absolute_error(y_test, y_pred3))\n"
   ]
  },
  {
   "cell_type": "code",
   "execution_count": 158,
   "id": "444a00b2-f0d4-4ecf-8f8a-c78990dd1af4",
   "metadata": {},
   "outputs": [
    {
     "name": "stdout",
     "output_type": "stream",
     "text": [
      "\n",
      "Modelo 4 (edad, edad2, educ, mujer)\n",
      "MSE test: 219684081.69338587\n",
      "RMSE test: 14821.74354431306\n",
      "MAE test: 10923.187594085814\n"
     ]
    }
   ],
   "source": [
    "x4 = OcupadosEPH[[\"edad\", \"edad2\", \"educ\", \"mujer\"]]\n",
    "\n",
    "x4_train, x4_test, _, _ = train_test_split(x4, y, test_size=0.3, random_state=42)\n",
    "\n",
    "modelo4 = LinearRegression().fit(x4_train, y_train)\n",
    "y_pred4 = modelo4.predict(x4_test)\n",
    "\n",
    "print(\"\\nModelo 4 (edad, edad2, educ, mujer)\")\n",
    "print(\"MSE test:\", mean_squared_error(y_test, y_pred4))\n",
    "print(\"RMSE test:\", np.sqrt(mean_squared_error(y_test, y_pred4)))\n",
    "print(\"MAE test:\", mean_absolute_error(y_test, y_pred4))\n"
   ]
  },
  {
   "cell_type": "code",
   "execution_count": 227,
   "id": "679ba631-d802-4295-ae67-e19e68e64170",
   "metadata": {},
   "outputs": [
    {
     "name": "stdout",
     "output_type": "stream",
     "text": [
      "\n",
      "Modelo 5 (edad, edad2, educ, mujer, varnu, estadocivil)\n",
      "MSE test: 0.19858845521112656\n",
      "RMSE test: 0.4456326460338454\n",
      "MAE test: 0.39699415741832184\n"
     ]
    }
   ],
   "source": [
    "x5 = OcupadosEPH[[\"edad\", \"edad2\", \"educ\", \"mujer\", \"estado civil_2\",\"estado civil_3\",\"estado civil_4\",\"estado civil_5\",\"sabe escribir_2\"]]\n",
    "\n",
    "x5_train, x5_test, _, _ = train_test_split(x5, y, test_size=0.3, random_state=42)\n",
    "\n",
    "modelo5 = LinearRegression().fit(x5_train, y_train)\n",
    "y_pred5 = modelo5.predict(x5_test)\n",
    "\n",
    "print(\"\\nModelo 5 (edad, edad2, educ, mujer, sabe_escribir2, estadocivil)\")\n",
    "print(\"MSE test:\", mean_squared_error(y_test, y_pred5))\n",
    "print(\"RMSE test:\", np.sqrt(mean_squared_error(y_test, y_pred5)))\n",
    "print(\"MAE test:\", mean_absolute_error(y_test, y_pred5))\n"
   ]
  },
  {
   "cell_type": "code",
   "execution_count": 229,
   "id": "6e25d265-5ff3-4c3e-9de0-7f9ca931785c",
   "metadata": {},
   "outputs": [],
   "source": [
    "datos = {\n",
    "    'Modelo': ['Modelo 1', 'Modelo 2', 'Modelo 3', 'Modelo 4', 'Modelo 5'],\n",
    "    'MSE test': [225915067.21, 221875782.24, 222634922.97, 219684081.69,  218155133.77],\n",
    "    'RMSE test': [15030.47, 14895.49, 14920.95, 14821.74, 14770.07],\n",
    "    'MAE test': [11053.95, 10958.21, 10978.33, 10923.18, 10872.58]\n",
    "}\n"
   ]
  },
  {
   "cell_type": "code",
   "execution_count": 231,
   "id": "9b8a53ac-2cf7-4f53-b33b-6ec33fa662a3",
   "metadata": {},
   "outputs": [],
   "source": [
    "tabla_metricas = pd.DataFrame(datos)\n"
   ]
  },
  {
   "cell_type": "code",
   "execution_count": 233,
   "id": "a7e47273-6ae1-4a4c-b2b1-a7086c86d0ea",
   "metadata": {},
   "outputs": [
    {
     "name": "stdout",
     "output_type": "stream",
     "text": [
      "     Modelo       MSE test  RMSE test  MAE test\n",
      "0  Modelo 1 225,915,067.21  15,030.47 11,053.95\n",
      "1  Modelo 2 221,875,782.24  14,895.49 10,958.21\n",
      "2  Modelo 3 222,634,922.97  14,920.95 10,978.33\n",
      "3  Modelo 4 219,684,081.69  14,821.74 10,923.18\n",
      "4  Modelo 5 218,155,133.77  14,770.07 10,872.58\n"
     ]
    }
   ],
   "source": [
    "print(tabla_metricas)\n"
   ]
  },
  {
   "cell_type": "markdown",
   "id": "70235c35-a68c-4b43-b6ce-19a4a71507b0",
   "metadata": {},
   "source": [
    "## Punto 5"
   ]
  },
  {
   "cell_type": "code",
   "execution_count": 235,
   "id": "8029b3f0-98e7-4575-a949-6386370d994d",
   "metadata": {},
   "outputs": [],
   "source": [
    "from sklearn.model_selection import train_test_split\n",
    "from sklearn.linear_model import LogisticRegression\n",
    "from sklearn.neighbors import KNeighborsClassifier\n",
    "from sklearn.metrics import confusion_matrix, roc_curve, roc_auc_score, accuracy_score\n",
    "import matplotlib.pyplot as plt\n",
    "import seaborn as sns\n",
    "import numpy as np\n"
   ]
  },
  {
   "cell_type": "code",
   "execution_count": 239,
   "id": "67076ef9-346e-4a7b-8943-263d2eb86abb",
   "metadata": {},
   "outputs": [
    {
     "name": "stdout",
     "output_type": "stream",
     "text": [
      "Index(['año', 'edad', 'edad2', 'educ', 'estado', 'horastrab',\n",
      "       'salario semanal', 'mujer', 'estado civil_2', 'estado civil_3',\n",
      "       'estado civil_4', 'estado civil_5', 'sabe escribir_2',\n",
      "       'salario_mayor_10000'],\n",
      "      dtype='object')\n"
     ]
    }
   ],
   "source": [
    "print(OcupadosEPH.columns)\n"
   ]
  },
  {
   "cell_type": "code",
   "execution_count": 241,
   "id": "a48d3d97-0824-4cab-b549-c92688dba8f8",
   "metadata": {},
   "outputs": [
    {
     "name": "stdout",
     "output_type": "stream",
     "text": [
      "[   150.    240.    300.    450.    600.    900.    960.   1050.   1200.\n",
      "   1260.   1440.   1500.   1800.   1860.   2100.   2160.   2250.   2400.\n",
      "   2700.   2760.   3000.   3060.   3300.   3420.   3600.   3660.   3750.\n",
      "   3900.   3960.   4200.   4320.   4350.   4500.   4560.   4800.   4860.\n",
      "   5100.   5370.   5400.   5460.   5700.   5940.   6000.   6060.   6300.\n",
      "   6480.   6600.   6660.   6900.   7200.   7500.   7650.   7800.   7920.\n",
      "   8010.   8040.   8100.   8400.   8700.   9000.   9060.   9300.   9600.\n",
      "   9900.   9960.  10200.  10500.  10800.  10920.  11100.  11400.  11460.\n",
      "  11700.  11970.  12000.  12060.  12150.  12270.  12600.  12900.  13200.\n",
      "  13500.  13560.  13800.  13860.  14100.  14130.  14400.  15000.  15060.\n",
      "  15120.  15270.  15360.  15600.  15750.  15900.  16200.  16500.  16560.\n",
      "  16800.  16860.  16920.  17100.  17190.  17310.  17400.  17910.  18000.\n",
      "  18060.  18270.  18300.  18420.  18480.  18600.  18720.  18900.  19200.\n",
      "  19260.  19500.  19800.  20100.  20190.  20400.  20460.  20490.  20550.\n",
      "  21000.  21060.  21270.  21300.  21600.  21660.  21750.  21900.  22500.\n",
      "  22770.  22800.  22950.  23100.  23400.  23490.  23700.  23970.  24000.\n",
      "  24060.  24420.  24900.  25200.  25350.  25500.  25710.  25770.  25800.\n",
      "  25860.  25950.  26100.  26400.  27000.  27060.  27300.  27450.  27600.\n",
      "  28080.  28200.  28470.  28500.  28560.  28800.  29100.  29400.  29850.\n",
      "  30000.  30060.  30600.  31350.  31500.  31650.  31800.  32100.  32340.\n",
      "  32400.  32760.  33000.  33120.  33300.  33420.  33900.  33960.  34500.\n",
      "  34560.  34800.  35400.  35580.  36000.  36060.  36270.  36300.  37200.\n",
      "  37500.  38400.  39000.  39060.  40200.  40500.  42000.  42060.  42900.\n",
      "  43170.  43500.  45000.  45060.  46500.  47100.  47700.  48000.  48600.\n",
      "  49800.  50820.  51000.  51900.  52200.  52500.  54000.  56100.  57000.\n",
      "  57060.  57600.  58200.  58500.  60000.  60060.  60900.  61500.  63000.\n",
      "  63240.  65700.  66000.  66060.  69000.  72000.  75000.  75060.  75090.\n",
      "  78000.  81360.  82500.  84000.  84900.  87000.  90000.  93000.  96000.\n",
      " 100200. 102000. 105000.]\n"
     ]
    }
   ],
   "source": [
    "print(np.unique(y))"
   ]
  },
  {
   "cell_type": "code",
   "execution_count": 243,
   "id": "d425e1f8-369e-4532-8d2b-5bf57b936410",
   "metadata": {},
   "outputs": [
    {
     "name": "stderr",
     "output_type": "stream",
     "text": [
      "C:\\Users\\kendr\\AppData\\Local\\Temp\\ipykernel_17656\\1837577603.py:1: SettingWithCopyWarning: \n",
      "A value is trying to be set on a copy of a slice from a DataFrame.\n",
      "Try using .loc[row_indexer,col_indexer] = value instead\n",
      "\n",
      "See the caveats in the documentation: https://pandas.pydata.org/pandas-docs/stable/user_guide/indexing.html#returning-a-view-versus-a-copy\n",
      "  OcupadosEPH['salario_mayor_10000'] = (OcupadosEPH[\"salario semanal\"] > 10000).astype(int)\n",
      "C:\\Users\\kendr\\anaconda3\\Lib\\site-packages\\sklearn\\linear_model\\_logistic.py:469: ConvergenceWarning: lbfgs failed to converge (status=1):\n",
      "STOP: TOTAL NO. of ITERATIONS REACHED LIMIT.\n",
      "\n",
      "Increase the number of iterations (max_iter) or scale the data as shown in:\n",
      "    https://scikit-learn.org/stable/modules/preprocessing.html\n",
      "Please also refer to the documentation for alternative solver options:\n",
      "    https://scikit-learn.org/stable/modules/linear_model.html#logistic-regression\n",
      "  n_iter_i = _check_optimize_result(\n"
     ]
    },
    {
     "name": "stdout",
     "output_type": "stream",
     "text": [
      "=== Regresión Logística ===\n",
      "Matriz de confusión:\n",
      "[[ 40 194]\n",
      " [ 37 497]]\n",
      "Accuracy: 0.69921875\n",
      "AUC: 0.6576194820576844\n",
      "\n",
      "=== KNN (K=5) ===\n",
      "Matriz de confusión:\n",
      "[[ 67 167]\n",
      " [ 93 441]]\n",
      "Accuracy: 0.6614583333333334\n",
      "AUC: 0.558852716156087\n"
     ]
    },
    {
     "data": {
      "image/png": "[encoded data removed]",
      "text/plain": [
       "<Figure size 640x480 with 1 Axes>"
      ]
     },
     "metadata": {},
     "output_type": "display_data"
    }
   ],
   "source": [
    "OcupadosEPH['salario_mayor_10000'] = (OcupadosEPH[\"salario semanal\"] > 10000).astype(int)\n",
    "\n",
    "\n",
    "X = OcupadosEPH[[\"edad\", \"edad2\", \"educ\", \"mujer\", \"estado civil_2\",\"estado civil_3\",\"estado civil_4\",\"estado civil_5\",\"sabe escribir_2\"]]  # Agregá más si existen\n",
    "y = OcupadosEPH[\"salario_mayor_10000\"]\n",
    "\n",
    "\n",
    "X_train, X_test, y_train, y_test = train_test_split(X, y, test_size=0.3, random_state=42)\n",
    "\n",
    "\n",
    "logit = LogisticRegression(max_iter=1000)\n",
    "logit.fit(X_train, y_train)\n",
    "y_pred_logit = logit.predict(X_test)\n",
    "y_proba_logit = logit.predict_proba(X_test)[:, 1]  # Probabilidad para la clase 1\n",
    "\n",
    "\n",
    "knn = KNeighborsClassifier(n_neighbors=5)\n",
    "knn.fit(X_train, y_train)\n",
    "y_pred_knn = knn.predict(X_test)\n",
    "y_proba_knn = knn.predict_proba(X_test)[:, 1]\n",
    "\n",
    "\n",
    "print(\"=== Regresión Logística ===\")\n",
    "print(\"Matriz de confusión:\")\n",
    "print(confusion_matrix(y_test, y_pred_logit))\n",
    "print(\"Accuracy:\", accuracy_score(y_test, y_pred_logit))\n",
    "print(\"AUC:\", roc_auc_score(y_test, y_proba_logit))\n",
    "\n",
    "fpr_logit, tpr_logit, _ = roc_curve(y_test, y_proba_logit)\n",
    "plt.plot(fpr_logit, tpr_logit, label=\"Logit (AUC = {:.2f})\".format(roc_auc_score(y_test, y_proba_logit)))\n",
    "\n",
    "\n",
    "print(\"\\n=== KNN (K=5) ===\")\n",
    "print(\"Matriz de confusión:\")\n",
    "print(confusion_matrix(y_test, y_pred_knn))\n",
    "print(\"Accuracy:\", accuracy_score(y_test, y_pred_knn))\n",
    "print(\"AUC:\", roc_auc_score(y_test, y_proba_knn))\n",
    "\n",
    "fpr_knn, tpr_knn, _ = roc_curve(y_test, y_proba_knn)\n",
    "plt.plot(fpr_knn, tpr_knn, label=\"KNN (AUC = {:.2f})\".format(roc_auc_score(y_test, y_proba_knn)))\n",
    "\n",
    "\n",
    "plt.plot([0, 1], [0, 1], 'k--')\n",
    "plt.xlabel(\"False Positive Rate\")\n",
    "plt.ylabel(\"True Positive Rate\")\n",
    "plt.title(\"Curva ROC\")\n",
    "plt.legend()\n",
    "plt.grid()\n",
    "plt.show()"
   ]
  },
  {
   "cell_type": "code",
   "execution_count": 276,
   "id": "361749b0-7939-4d4c-a542-1e7c4c777dc0",
   "metadata": {},
   "outputs": [
    {
     "name": "stderr",
     "output_type": "stream",
     "text": [
      "C:\\Users\\kendr\\anaconda3\\Lib\\site-packages\\sklearn\\linear_model\\_logistic.py:469: ConvergenceWarning: lbfgs failed to converge (status=1):\n",
      "STOP: TOTAL NO. of ITERATIONS REACHED LIMIT.\n",
      "\n",
      "Increase the number of iterations (max_iter) or scale the data as shown in:\n",
      "    https://scikit-learn.org/stable/modules/preprocessing.html\n",
      "Please also refer to the documentation for alternative solver options:\n",
      "    https://scikit-learn.org/stable/modules/linear_model.html#logistic-regression\n",
      "  n_iter_i = _check_optimize_result(\n"
     ]
    },
    {
     "data": {
      "text/html": [
       "<style>#sk-container-id-1 {\n",
       "  /* Definition of color scheme common for light and dark mode */\n",
       "  --sklearn-color-text: black;\n",
       "  --sklearn-color-line: gray;\n",
       "  /* Definition of color scheme for unfitted estimators */\n",
       "  --sklearn-color-unfitted-level-0: #fff5e6;\n",
       "  --sklearn-color-unfitted-level-1: #f6e4d2;\n",
       "  --sklearn-color-unfitted-level-2: #ffe0b3;\n",
       "  --sklearn-color-unfitted-level-3: chocolate;\n",
       "  /* Definition of color scheme for fitted estimators */\n",
       "  --sklearn-color-fitted-level-0: #f0f8ff;\n",
       "  --sklearn-color-fitted-level-1: #d4ebff;\n",
       "  --sklearn-color-fitted-level-2: #b3dbfd;\n",
       "  --sklearn-color-fitted-level-3: cornflowerblue;\n",
       "\n",
       "  /* Specific color for light theme */\n",
       "  --sklearn-color-text-on-default-background: var(--sg-text-color, var(--theme-code-foreground, var(--jp-content-font-color1, black)));\n",
       "  --sklearn-color-background: var(--sg-background-color, var(--theme-background, var(--jp-layout-color0, white)));\n",
       "  --sklearn-color-border-box: var(--sg-text-color, var(--theme-code-foreground, var(--jp-content-font-color1, black)));\n",
       "  --sklearn-color-icon: #696969;\n",
       "\n",
       "  @media (prefers-color-scheme: dark) {\n",
       "    /* Redefinition of color scheme for dark theme */\n",
       "    --sklearn-color-text-on-default-background: var(--sg-text-color, var(--theme-code-foreground, var(--jp-content-font-color1, white)));\n",
       "    --sklearn-color-background: var(--sg-background-color, var(--theme-background, var(--jp-layout-color0, #111)));\n",
       "    --sklearn-color-border-box: var(--sg-text-color, var(--theme-code-foreground, var(--jp-content-font-color1, white)));\n",
       "    --sklearn-color-icon: #878787;\n",
       "  }\n",
       "}\n",
       "\n",
       "#sk-container-id-1 {\n",
       "  color: var(--sklearn-color-text);\n",
       "}\n",
       "\n",
       "#sk-container-id-1 pre {\n",
       "  padding: 0;\n",
       "}\n",
       "\n",
       "#sk-container-id-1 input.sk-hidden--visually {\n",
       "  border: 0;\n",
       "  clip: rect(1px 1px 1px 1px);\n",
       "  clip: rect(1px, 1px, 1px, 1px);\n",
       "  height: 1px;\n",
       "  margin: -1px;\n",
       "  overflow: hidden;\n",
       "  padding: 0;\n",
       "  position: absolute;\n",
       "  width: 1px;\n",
       "}\n",
       "\n",
       "#sk-container-id-1 div.sk-dashed-wrapped {\n",
       "  border: 1px dashed var(--sklearn-color-line);\n",
       "  margin: 0 0.4em 0.5em 0.4em;\n",
       "  box-sizing: border-box;\n",
       "  padding-bottom: 0.4em;\n",
       "  background-color: var(--sklearn-color-background);\n",
       "}\n",
       "\n",
       "#sk-container-id-1 div.sk-container {\n",
       "  /* jupyter's `normalize.less` sets `[hidden] { display: none; }`\n",
       "     but bootstrap.min.css set `[hidden] { display: none !important; }`\n",
       "     so we also need the `!important` here to be able to override the\n",
       "     default hidden behavior on the sphinx rendered scikit-learn.org.\n",
       "     See: https://github.com/scikit-learn/scikit-learn/issues/21755 */\n",
       "  display: inline-block !important;\n",
       "  position: relative;\n",
       "}\n",
       "\n",
       "#sk-container-id-1 div.sk-text-repr-fallback {\n",
       "  display: none;\n",
       "}\n",
       "\n",
       "div.sk-parallel-item,\n",
       "div.sk-serial,\n",
       "div.sk-item {\n",
       "  /* draw centered vertical line to link estimators */\n",
       "  background-image: linear-gradient(var(--sklearn-color-text-on-default-background), var(--sklearn-color-text-on-default-background));\n",
       "  background-size: 2px 100%;\n",
       "  background-repeat: no-repeat;\n",
       "  background-position: center center;\n",
       "}\n",
       "\n",
       "/* Parallel-specific style estimator block */\n",
       "\n",
       "#sk-container-id-1 div.sk-parallel-item::after {\n",
       "  content: \"\";\n",
       "  width: 100%;\n",
       "  border-bottom: 2px solid var(--sklearn-color-text-on-default-background);\n",
       "  flex-grow: 1;\n",
       "}\n",
       "\n",
       "#sk-container-id-1 div.sk-parallel {\n",
       "  display: flex;\n",
       "  align-items: stretch;\n",
       "  justify-content: center;\n",
       "  background-color: var(--sklearn-color-background);\n",
       "  position: relative;\n",
       "}\n",
       "\n",
       "#sk-container-id-1 div.sk-parallel-item {\n",
       "  display: flex;\n",
       "  flex-direction: column;\n",
       "}\n",
       "\n",
       "#sk-container-id-1 div.sk-parallel-item:first-child::after {\n",
       "  align-self: flex-end;\n",
       "  width: 50%;\n",
       "}\n",
       "\n",
       "#sk-container-id-1 div.sk-parallel-item:last-child::after {\n",
       "  align-self: flex-start;\n",
       "  width: 50%;\n",
       "}\n",
       "\n",
       "#sk-container-id-1 div.sk-parallel-item:only-child::after {\n",
       "  width: 0;\n",
       "}\n",
       "\n",
       "/* Serial-specific style estimator block */\n",
       "\n",
       "#sk-container-id-1 div.sk-serial {\n",
       "  display: flex;\n",
       "  flex-direction: column;\n",
       "  align-items: center;\n",
       "  background-color: var(--sklearn-color-background);\n",
       "  padding-right: 1em;\n",
       "  padding-left: 1em;\n",
       "}\n",
       "\n",
       "\n",
       "/* Toggleable style: style used for estimator/Pipeline/ColumnTransformer box that is\n",
       "clickable and can be expanded/collapsed.\n",
       "- Pipeline and ColumnTransformer use this feature and define the default style\n",
       "- Estimators will overwrite some part of the style using the `sk-estimator` class\n",
       "*/\n",
       "\n",
       "/* Pipeline and ColumnTransformer style (default) */\n",
       "\n",
       "#sk-container-id-1 div.sk-toggleable {\n",
       "  /* Default theme specific background. It is overwritten whether we have a\n",
       "  specific estimator or a Pipeline/ColumnTransformer */\n",
       "  background-color: var(--sklearn-color-background);\n",
       "}\n",
       "\n",
       "/* Toggleable label */\n",
       "#sk-container-id-1 label.sk-toggleable__label {\n",
       "  cursor: pointer;\n",
       "  display: block;\n",
       "  width: 100%;\n",
       "  margin-bottom: 0;\n",
       "  padding: 0.5em;\n",
       "  box-sizing: border-box;\n",
       "  text-align: center;\n",
       "}\n",
       "\n",
       "#sk-container-id-1 label.sk-toggleable__label-arrow:before {\n",
       "  /* Arrow on the left of the label */\n",
       "  content: \"▸\";\n",
       "  float: left;\n",
       "  margin-right: 0.25em;\n",
       "  color: var(--sklearn-color-icon);\n",
       "}\n",
       "\n",
       "#sk-container-id-1 label.sk-toggleable__label-arrow:hover:before {\n",
       "  color: var(--sklearn-color-text);\n",
       "}\n",
       "\n",
       "/* Toggleable content - dropdown */\n",
       "\n",
       "#sk-container-id-1 div.sk-toggleable__content {\n",
       "  max-height: 0;\n",
       "  max-width: 0;\n",
       "  overflow: hidden;\n",
       "  text-align: left;\n",
       "  /* unfitted */\n",
       "  background-color: var(--sklearn-color-unfitted-level-0);\n",
       "}\n",
       "\n",
       "#sk-container-id-1 div.sk-toggleable__content.fitted {\n",
       "  /* fitted */\n",
       "  background-color: var(--sklearn-color-fitted-level-0);\n",
       "}\n",
       "\n",
       "#sk-container-id-1 div.sk-toggleable__content pre {\n",
       "  margin: 0.2em;\n",
       "  border-radius: 0.25em;\n",
       "  color: var(--sklearn-color-text);\n",
       "  /* unfitted */\n",
       "  background-color: var(--sklearn-color-unfitted-level-0);\n",
       "}\n",
       "\n",
       "#sk-container-id-1 div.sk-toggleable__content.fitted pre {\n",
       "  /* unfitted */\n",
       "  background-color: var(--sklearn-color-fitted-level-0);\n",
       "}\n",
       "\n",
       "#sk-container-id-1 input.sk-toggleable__control:checked~div.sk-toggleable__content {\n",
       "  /* Expand drop-down */\n",
       "  max-height: 200px;\n",
       "  max-width: 100%;\n",
       "  overflow: auto;\n",
       "}\n",
       "\n",
       "#sk-container-id-1 input.sk-toggleable__control:checked~label.sk-toggleable__label-arrow:before {\n",
       "  content: \"▾\";\n",
       "}\n",
       "\n",
       "/* Pipeline/ColumnTransformer-specific style */\n",
       "\n",
       "#sk-container-id-1 div.sk-label input.sk-toggleable__control:checked~label.sk-toggleable__label {\n",
       "  color: var(--sklearn-color-text);\n",
       "  background-color: var(--sklearn-color-unfitted-level-2);\n",
       "}\n",
       "\n",
       "#sk-container-id-1 div.sk-label.fitted input.sk-toggleable__control:checked~label.sk-toggleable__label {\n",
       "  background-color: var(--sklearn-color-fitted-level-2);\n",
       "}\n",
       "\n",
       "/* Estimator-specific style */\n",
       "\n",
       "/* Colorize estimator box */\n",
       "#sk-container-id-1 div.sk-estimator input.sk-toggleable__control:checked~label.sk-toggleable__label {\n",
       "  /* unfitted */\n",
       "  background-color: var(--sklearn-color-unfitted-level-2);\n",
       "}\n",
       "\n",
       "#sk-container-id-1 div.sk-estimator.fitted input.sk-toggleable__control:checked~label.sk-toggleable__label {\n",
       "  /* fitted */\n",
       "  background-color: var(--sklearn-color-fitted-level-2);\n",
       "}\n",
       "\n",
       "#sk-container-id-1 div.sk-label label.sk-toggleable__label,\n",
       "#sk-container-id-1 div.sk-label label {\n",
       "  /* The background is the default theme color */\n",
       "  color: var(--sklearn-color-text-on-default-background);\n",
       "}\n",
       "\n",
       "/* On hover, darken the color of the background */\n",
       "#sk-container-id-1 div.sk-label:hover label.sk-toggleable__label {\n",
       "  color: var(--sklearn-color-text);\n",
       "  background-color: var(--sklearn-color-unfitted-level-2);\n",
       "}\n",
       "\n",
       "/* Label box, darken color on hover, fitted */\n",
       "#sk-container-id-1 div.sk-label.fitted:hover label.sk-toggleable__label.fitted {\n",
       "  color: var(--sklearn-color-text);\n",
       "  background-color: var(--sklearn-color-fitted-level-2);\n",
       "}\n",
       "\n",
       "/* Estimator label */\n",
       "\n",
       "#sk-container-id-1 div.sk-label label {\n",
       "  font-family: monospace;\n",
       "  font-weight: bold;\n",
       "  display: inline-block;\n",
       "  line-height: 1.2em;\n",
       "}\n",
       "\n",
       "#sk-container-id-1 div.sk-label-container {\n",
       "  text-align: center;\n",
       "}\n",
       "\n",
       "/* Estimator-specific */\n",
       "#sk-container-id-1 div.sk-estimator {\n",
       "  font-family: monospace;\n",
       "  border: 1px dotted var(--sklearn-color-border-box);\n",
       "  border-radius: 0.25em;\n",
       "  box-sizing: border-box;\n",
       "  margin-bottom: 0.5em;\n",
       "  /* unfitted */\n",
       "  background-color: var(--sklearn-color-unfitted-level-0);\n",
       "}\n",
       "\n",
       "#sk-container-id-1 div.sk-estimator.fitted {\n",
       "  /* fitted */\n",
       "  background-color: var(--sklearn-color-fitted-level-0);\n",
       "}\n",
       "\n",
       "/* on hover */\n",
       "#sk-container-id-1 div.sk-estimator:hover {\n",
       "  /* unfitted */\n",
       "  background-color: var(--sklearn-color-unfitted-level-2);\n",
       "}\n",
       "\n",
       "#sk-container-id-1 div.sk-estimator.fitted:hover {\n",
       "  /* fitted */\n",
       "  background-color: var(--sklearn-color-fitted-level-2);\n",
       "}\n",
       "\n",
       "/* Specification for estimator info (e.g. \"i\" and \"?\") */\n",
       "\n",
       "/* Common style for \"i\" and \"?\" */\n",
       "\n",
       ".sk-estimator-doc-link,\n",
       "a:link.sk-estimator-doc-link,\n",
       "a:visited.sk-estimator-doc-link {\n",
       "  float: right;\n",
       "  font-size: smaller;\n",
       "  line-height: 1em;\n",
       "  font-family: monospace;\n",
       "  background-color: var(--sklearn-color-background);\n",
       "  border-radius: 1em;\n",
       "  height: 1em;\n",
       "  width: 1em;\n",
       "  text-decoration: none !important;\n",
       "  margin-left: 1ex;\n",
       "  /* unfitted */\n",
       "  border: var(--sklearn-color-unfitted-level-1) 1pt solid;\n",
       "  color: var(--sklearn-color-unfitted-level-1);\n",
       "}\n",
       "\n",
       ".sk-estimator-doc-link.fitted,\n",
       "a:link.sk-estimator-doc-link.fitted,\n",
       "a:visited.sk-estimator-doc-link.fitted {\n",
       "  /* fitted */\n",
       "  border: var(--sklearn-color-fitted-level-1) 1pt solid;\n",
       "  color: var(--sklearn-color-fitted-level-1);\n",
       "}\n",
       "\n",
       "/* On hover */\n",
       "div.sk-estimator:hover .sk-estimator-doc-link:hover,\n",
       ".sk-estimator-doc-link:hover,\n",
       "div.sk-label-container:hover .sk-estimator-doc-link:hover,\n",
       ".sk-estimator-doc-link:hover {\n",
       "  /* unfitted */\n",
       "  background-color: var(--sklearn-color-unfitted-level-3);\n",
       "  color: var(--sklearn-color-background);\n",
       "  text-decoration: none;\n",
       "}\n",
       "\n",
       "div.sk-estimator.fitted:hover .sk-estimator-doc-link.fitted:hover,\n",
       ".sk-estimator-doc-link.fitted:hover,\n",
       "div.sk-label-container:hover .sk-estimator-doc-link.fitted:hover,\n",
       ".sk-estimator-doc-link.fitted:hover {\n",
       "  /* fitted */\n",
       "  background-color: var(--sklearn-color-fitted-level-3);\n",
       "  color: var(--sklearn-color-background);\n",
       "  text-decoration: none;\n",
       "}\n",
       "\n",
       "/* Span, style for the box shown on hovering the info icon */\n",
       ".sk-estimator-doc-link span {\n",
       "  display: none;\n",
       "  z-index: 9999;\n",
       "  position: relative;\n",
       "  font-weight: normal;\n",
       "  right: .2ex;\n",
       "  padding: .5ex;\n",
       "  margin: .5ex;\n",
       "  width: min-content;\n",
       "  min-width: 20ex;\n",
       "  max-width: 50ex;\n",
       "  color: var(--sklearn-color-text);\n",
       "  box-shadow: 2pt 2pt 4pt #999;\n",
       "  /* unfitted */\n",
       "  background: var(--sklearn-color-unfitted-level-0);\n",
       "  border: .5pt solid var(--sklearn-color-unfitted-level-3);\n",
       "}\n",
       "\n",
       ".sk-estimator-doc-link.fitted span {\n",
       "  /* fitted */\n",
       "  background: var(--sklearn-color-fitted-level-0);\n",
       "  border: var(--sklearn-color-fitted-level-3);\n",
       "}\n",
       "\n",
       ".sk-estimator-doc-link:hover span {\n",
       "  display: block;\n",
       "}\n",
       "\n",
       "/* \"?\"-specific style due to the `<a>` HTML tag */\n",
       "\n",
       "#sk-container-id-1 a.estimator_doc_link {\n",
       "  float: right;\n",
       "  font-size: 1rem;\n",
       "  line-height: 1em;\n",
       "  font-family: monospace;\n",
       "  background-color: var(--sklearn-color-background);\n",
       "  border-radius: 1rem;\n",
       "  height: 1rem;\n",
       "  width: 1rem;\n",
       "  text-decoration: none;\n",
       "  /* unfitted */\n",
       "  color: var(--sklearn-color-unfitted-level-1);\n",
       "  border: var(--sklearn-color-unfitted-level-1) 1pt solid;\n",
       "}\n",
       "\n",
       "#sk-container-id-1 a.estimator_doc_link.fitted {\n",
       "  /* fitted */\n",
       "  border: var(--sklearn-color-fitted-level-1) 1pt solid;\n",
       "  color: var(--sklearn-color-fitted-level-1);\n",
       "}\n",
       "\n",
       "/* On hover */\n",
       "#sk-container-id-1 a.estimator_doc_link:hover {\n",
       "  /* unfitted */\n",
       "  background-color: var(--sklearn-color-unfitted-level-3);\n",
       "  color: var(--sklearn-color-background);\n",
       "  text-decoration: none;\n",
       "}\n",
       "\n",
       "#sk-container-id-1 a.estimator_doc_link.fitted:hover {\n",
       "  /* fitted */\n",
       "  background-color: var(--sklearn-color-fitted-level-3);\n",
       "}\n",
       "</style><div id=\"sk-container-id-1\" class=\"sk-top-container\"><div class=\"sk-text-repr-fallback\"><pre>KNeighborsClassifier()</pre><b>In a Jupyter environment, please rerun this cell to show the HTML representation or trust the notebook. <br />On GitHub, the HTML representation is unable to render, please try loading this page with nbviewer.org.</b></div><div class=\"sk-container\" hidden><div class=\"sk-item\"><div class=\"sk-estimator fitted sk-toggleable\"><input class=\"sk-toggleable__control sk-hidden--visually\" id=\"sk-estimator-id-1\" type=\"checkbox\" checked><label for=\"sk-estimator-id-1\" class=\"sk-toggleable__label fitted sk-toggleable__label-arrow fitted\">&nbsp;&nbsp;KNeighborsClassifier<a class=\"sk-estimator-doc-link fitted\" rel=\"noreferrer\" target=\"_blank\" href=\"https://scikit-learn.org/1.5/modules/generated/sklearn.neighbors.KNeighborsClassifier.html\">?<span>Documentation for KNeighborsClassifier</span></a><span class=\"sk-estimator-doc-link fitted\">i<span>Fitted</span></span></label><div class=\"sk-toggleable__content fitted\"><pre>KNeighborsClassifier()</pre></div> </div></div></div></div>"
      ],
      "text/plain": [
       "KNeighborsClassifier()"
      ]
     },
     "execution_count": 276,
     "metadata": {},
     "output_type": "execute_result"
    }
   ],
   "source": [
    "from sklearn.linear_model import LogisticRegression\n",
    "from sklearn.ensemble import RandomForestClassifier\n",
    "from sklearn.neighbors import KNeighborsClassifier\n",
    "\n",
    "# Entrenar modelos\n",
    "logreg = LogisticRegression(max_iter=1000)\n",
    "rf = RandomForestClassifier(random_state=42)\n",
    "knn = KNeighborsClassifier()\n",
    "\n",
    "logreg.fit(X_train, y_train)\n",
    "rf.fit(X_train, y_train)\n",
    "knn.fit(X_train, y_train)\n"
   ]
  },
  {
   "cell_type": "code",
   "execution_count": 278,
   "id": "b691a7bd-1280-4061-9f76-54f52044d849",
   "metadata": {},
   "outputs": [],
   "source": [
    "from sklearn.metrics import accuracy_score, precision_score, recall_score, f1_score, roc_auc_score\n",
    "\n",
    "def evaluar_modelo(modelo, X_test, y_test):\n",
    "    y_pred = modelo.predict(X_test)\n",
    "    \n",
    "    try:\n",
    "        y_prob = modelo.predict_proba(X_test)[:, 1]\n",
    "        auc = roc_auc_score(y_test, y_prob)\n",
    "    except:\n",
    "        auc = None\n",
    "\n",
    "    return {\n",
    "        'Accuracy': accuracy_score(y_test, y_pred),\n",
    "        'Precision': precision_score(y_test, y_pred),\n",
    "        'Recall': recall_score(y_test, y_pred),\n",
    "        'F1-score': f1_score(y_test, y_pred),\n",
    "        'AUC-ROC': auc\n",
    "    }\n"
   ]
  },
  {
   "cell_type": "code",
   "execution_count": 280,
   "id": "3bdd5be8-32a6-402b-bd0b-99cd52b6cfc4",
   "metadata": {},
   "outputs": [
    {
     "name": "stdout",
     "output_type": "stream",
     "text": [
      "                     Accuracy  Precision  Recall  F1-score  AUC-ROC\n",
      "Logistic Regression      0.70       0.72    0.93      0.81     0.66\n",
      "Random Forest            0.66       0.74    0.79      0.76     0.61\n",
      "KNN                      0.66       0.73    0.83      0.77     0.56\n"
     ]
    }
   ],
   "source": [
    "resultados = {\n",
    "    'Logistic Regression': evaluar_modelo(logreg, X_test, y_test),\n",
    "    'Random Forest': evaluar_modelo(rf, X_test, y_test),\n",
    "    'KNN': evaluar_modelo(knn, X_test, y_test)\n",
    "}\n",
    "\n",
    "import pandas as pd\n",
    "\n",
    "df_resultados = pd.DataFrame(resultados).T\n",
    "print(df_resultados)\n"
   ]
  },
  {
   "cell_type": "code",
   "execution_count": null,
   "id": "b1f97184-ca6c-4da0-b47f-205589643c00",
   "metadata": {},
   "outputs": [],
   "source": []
  },
  {
   "cell_type": "code",
   "execution_count": 253,
   "id": "9483498e-45f4-476a-ba9d-05d62fcf5631",
   "metadata": {},
   "outputs": [
    {
     "name": "stdout",
     "output_type": "stream",
     "text": [
      "punto 6\n"
     ]
    }
   ],
   "source": [
    "print (\"punto 6\")"
   ]
  },
  {
   "cell_type": "code",
   "execution_count": 264,
   "id": "c363550c-4b95-490b-84f6-53ddaeafe64f",
   "metadata": {},
   "outputs": [],
   "source": [
    "features = ['edad', 'edad2', 'educ', 'mujer', 'estado civil_2', 'estado civil_3', 'estado civil_4', 'estado civil_5', 'sabe escribir_2']\n",
    "\n"
   ]
  },
  {
   "cell_type": "code",
   "execution_count": 290,
   "id": "5069a8be-18ca-423b-9916-be56fb7a6399",
   "metadata": {},
   "outputs": [
    {
     "name": "stdout",
     "output_type": "stream",
     "text": [
      "['cond. de actividad', 'ano4', 'sexo', 'edad', 'estado civil', 'seguro médico', 'nivel educativo', 'categoria inactivo', 'ipcf']\n"
     ]
    }
   ],
   "source": [
    "print(norespondieron.columns.tolist())\n"
   ]
  },
  {
   "cell_type": "code",
   "execution_count": 292,
   "id": "ee65e33a-6f67-4a74-b6ab-7930561d3f37",
   "metadata": {},
   "outputs": [],
   "source": [
    "norespondieron['mujer'] = (norespondieron['sexo'] == 'Mujer').astype(int)\n"
   ]
  },
  {
   "cell_type": "code",
   "execution_count": 294,
   "id": "172efbe5-3d60-4f5a-a3f5-784d7482f2c8",
   "metadata": {},
   "outputs": [],
   "source": [
    "# Ejemplo de mapeo (ajustalo según tu código original)\n",
    "mapa_educ = {\n",
    "    'Sin instrucción': 0,\n",
    "    'Primaria incompleta': 1,\n",
    "    'Primaria completa': 2,\n",
    "    'Secundaria incompleta': 3,\n",
    "    'Secundaria completa': 4,\n",
    "    'Terciario/Universitario incompleto': 5,\n",
    "    'Terciario/Universitario completo': 6\n",
    "}\n",
    "norespondieron['educ'] = norespondieron['nivel educativo'].map(mapa_educ)\n"
   ]
  },
  {
   "cell_type": "code",
   "execution_count": null,
   "id": "6620a22a-47fc-4224-8932-6598e1a4418f",
   "metadata": {},
   "outputs": [],
   "source": []
  }
 ],
 "metadata": {
  "kernelspec": {
   "display_name": "Python [conda env:base] *",
   "language": "python",
   "name": "conda-base-py"
  },
  "language_info": {
   "codemirror_mode": {
    "name": "ipython",
    "version": 3
   },
   "file_extension": ".py",
   "mimetype": "text/x-python",
   "name": "python",
   "nbconvert_exporter": "python",
   "pygments_lexer": "ipython3",
   "version": "3.12.7"
  }
 },
 "nbformat": 4,
 "nbformat_minor": 5
}
