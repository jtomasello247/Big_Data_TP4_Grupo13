{
 "cells": [
  {
   "cell_type": "code",
   "execution_count": 7,
   "id": "398fba56-3692-4b56-8d6c-b8251426c167",
   "metadata": {},
   "outputs": [],
   "source": [
    "import pandas as pd\n",
    "from sklearn.model_selection import train_test_split\n"
   ]
  },
  {
   "cell_type": "markdown",
   "id": "017a4780-93d2-4984-9118-904116534427",
   "metadata": {},
   "source": [
    "# Punto 1"
   ]
  },
  {
   "cell_type": "code",
   "execution_count": 9,
   "id": "d743b677-48fe-49a9-a3b9-1a6546c28b28",
   "metadata": {},
   "outputs": [],
   "source": [
    "respondieron = pd.read_csv('respondieron.csv')"
   ]
  },
  {
   "cell_type": "code",
   "execution_count": 10,
   "id": "ec45f4f7-bde5-4bd9-a952-b3bbfd72cc65",
   "metadata": {},
   "outputs": [
    {
     "data": {
      "text/plain": [
       "(14647, 2)"
      ]
     },
     "execution_count": 10,
     "metadata": {},
     "output_type": "execute_result"
    }
   ],
   "source": [
    "respondieron.shape"
   ]
  },
  {
   "cell_type": "code",
   "execution_count": 11,
   "id": "2e34cd03-f8ab-4c67-816d-33d009acb92d",
   "metadata": {},
   "outputs": [],
   "source": [
    "norespondieron = pd.read_csv('norespondieron.csv')"
   ]
  },
  {
   "cell_type": "code",
   "execution_count": 12,
   "id": "c4210bef-787e-41f1-965f-b3c5cace225f",
   "metadata": {},
   "outputs": [],
   "source": [
    "respondieronconaños = pd.read_csv('respondieron_con_años.csv')"
   ]
  },
  {
   "cell_type": "code",
   "execution_count": 13,
   "id": "360adbcd-0812-4d3b-96c0-cf997e81c01a",
   "metadata": {},
   "outputs": [
    {
     "data": {
      "text/html": [
       "<div>\n",
       "<style scoped>\n",
       "    .dataframe tbody tr th:only-of-type {\n",
       "        vertical-align: middle;\n",
       "    }\n",
       "\n",
       "    .dataframe tbody tr th {\n",
       "        vertical-align: top;\n",
       "    }\n",
       "\n",
       "    .dataframe thead th {\n",
       "        text-align: right;\n",
       "    }\n",
       "</style>\n",
       "<table border=\"1\" class=\"dataframe\">\n",
       "  <thead>\n",
       "    <tr style=\"text-align: right;\">\n",
       "      <th></th>\n",
       "      <th>cond. de actividad</th>\n",
       "      <th>PEA</th>\n",
       "      <th>ano4</th>\n",
       "    </tr>\n",
       "  </thead>\n",
       "  <tbody>\n",
       "    <tr>\n",
       "      <th>0</th>\n",
       "      <td>3.0</td>\n",
       "      <td>2.0</td>\n",
       "      <td>2004.0</td>\n",
       "    </tr>\n",
       "    <tr>\n",
       "      <th>1</th>\n",
       "      <td>1.0</td>\n",
       "      <td>1.0</td>\n",
       "      <td>2004.0</td>\n",
       "    </tr>\n",
       "    <tr>\n",
       "      <th>2</th>\n",
       "      <td>3.0</td>\n",
       "      <td>2.0</td>\n",
       "      <td>2004.0</td>\n",
       "    </tr>\n",
       "    <tr>\n",
       "      <th>3</th>\n",
       "      <td>1.0</td>\n",
       "      <td>1.0</td>\n",
       "      <td>2004.0</td>\n",
       "    </tr>\n",
       "    <tr>\n",
       "      <th>4</th>\n",
       "      <td>3.0</td>\n",
       "      <td>2.0</td>\n",
       "      <td>2004.0</td>\n",
       "    </tr>\n",
       "    <tr>\n",
       "      <th>...</th>\n",
       "      <td>...</td>\n",
       "      <td>...</td>\n",
       "      <td>...</td>\n",
       "    </tr>\n",
       "    <tr>\n",
       "      <th>14642</th>\n",
       "      <td>3.0</td>\n",
       "      <td>2.0</td>\n",
       "      <td>2024.0</td>\n",
       "    </tr>\n",
       "    <tr>\n",
       "      <th>14643</th>\n",
       "      <td>2.0</td>\n",
       "      <td>1.0</td>\n",
       "      <td>2024.0</td>\n",
       "    </tr>\n",
       "    <tr>\n",
       "      <th>14644</th>\n",
       "      <td>1.0</td>\n",
       "      <td>1.0</td>\n",
       "      <td>2024.0</td>\n",
       "    </tr>\n",
       "    <tr>\n",
       "      <th>14645</th>\n",
       "      <td>1.0</td>\n",
       "      <td>1.0</td>\n",
       "      <td>2024.0</td>\n",
       "    </tr>\n",
       "    <tr>\n",
       "      <th>14646</th>\n",
       "      <td>1.0</td>\n",
       "      <td>1.0</td>\n",
       "      <td>2024.0</td>\n",
       "    </tr>\n",
       "  </tbody>\n",
       "</table>\n",
       "<p>14647 rows × 3 columns</p>\n",
       "</div>"
      ],
      "text/plain": [
       "       cond. de actividad  PEA    ano4\n",
       "0                     3.0  2.0  2004.0\n",
       "1                     1.0  1.0  2004.0\n",
       "2                     3.0  2.0  2004.0\n",
       "3                     1.0  1.0  2004.0\n",
       "4                     3.0  2.0  2004.0\n",
       "...                   ...  ...     ...\n",
       "14642                 3.0  2.0  2024.0\n",
       "14643                 2.0  1.0  2024.0\n",
       "14644                 1.0  1.0  2024.0\n",
       "14645                 1.0  1.0  2024.0\n",
       "14646                 1.0  1.0  2024.0\n",
       "\n",
       "[14647 rows x 3 columns]"
      ]
     },
     "execution_count": 13,
     "metadata": {},
     "output_type": "execute_result"
    }
   ],
   "source": [
    "respondieronconaños"
   ]
  },
  {
   "cell_type": "code",
   "execution_count": 14,
   "id": "e5e6bf3a-ec70-49db-914a-95d9efcddbe4",
   "metadata": {},
   "outputs": [],
   "source": [
    "import pandas as pd\n",
    "import numpy as np\n",
    "from sklearn.model_selection import train_test_split\n"
   ]
  },
  {
   "cell_type": "code",
   "execution_count": 15,
   "id": "9cfc39c8-4e0b-40b6-8b18-a8b75ea55b3b",
   "metadata": {},
   "outputs": [],
   "source": [
    "respondieron[\"desocupado\"] = (respondieronconaños[\"PEA\"] == 1).astype(int)"
   ]
  },
  {
   "cell_type": "code",
   "execution_count": 16,
   "id": "d83b7778-cd14-4441-8f53-75fdba1d6973",
   "metadata": {},
   "outputs": [
    {
     "name": "stdout",
     "output_type": "stream",
     "text": [
      "[2004. 2024.]\n"
     ]
    }
   ],
   "source": [
    "print(respondieronconaños[\"ano4\"].unique()) #estan bien cargados los dos años (2004) y (2024)"
   ]
  },
  {
   "cell_type": "code",
   "execution_count": 35,
   "id": "4ab503a4-1d85-4dd1-bfad-f2f90fd8bfc1",
   "metadata": {},
   "outputs": [],
   "source": [
    "respondieronconaños[\"desocupado\"] = (respondieronconaños[\"PEA\"] == 1).astype(int) \n",
    "#Para cada valor 1 de PEA, la tabla de desocupado devuelve 1, para otro valor devuelve 0. Es un booleano."
   ]
  },
  {
   "cell_type": "code",
   "execution_count": 37,
   "id": "ccbe6706-4b84-4aca-8cda-fca347e6e493",
   "metadata": {},
   "outputs": [
    {
     "name": "stdout",
     "output_type": "stream",
     "text": [
      "\n",
      "Procesando año: 2004.0\n",
      "Año 2004.0:\n",
      "Train shape: (5352, 2), Test shape: (2295, 2)\n",
      "\n",
      "Procesando año: 2024.0\n",
      "Año 2024.0:\n",
      "Train shape: (4900, 2), Test shape: (2100, 2)\n"
     ]
    }
   ],
   "source": [
    "for año in respondieronconaños[\"ano4\"].unique():\n",
    "    print(f\"\\nProcesando año: {año}\")\n",
    "    \n",
    "    df_anual = respondieronconaños[respondieronconaños[\"ano4\"] == año]\n",
    "    \n",
    "    y = df_anual[\"desocupado\"] #Esta será nuestra variable independiente\n",
    "    \n",
    "    X = pd.get_dummies(df_anual[\"PEA\"], prefix=\"PEA\", drop_first=True) #Usamos solo PEA, con valores booleanos como predictor\n",
    "    X = X.astype(int) #Consideramos más comodo trabajar con unos y ceros\n",
    "    X = X.copy() #Esto para evitar warnings y errores\n",
    "    X[\"intercept\"] = 1 #La columna de unos es útil para la ordenada al origen, Beta sub 0\n",
    "    \n",
    "    X_train, X_test, y_train, y_test = train_test_split(X, y, train_size=0.7, random_state=444) #Requerimientos de la consigna\n",
    "    print(f\"Año {año}:\")\n",
    "    print(f\"Train shape: {X_train.shape}, Test shape: {X_test.shape}\")\n",
    "    #Podemos ver ahora la cantidad de filas y columnas que tienen nuestras muestras en cada año."
   ]
  },
  {
   "cell_type": "markdown",
   "id": "5f5e0f63-4d47-48ae-972d-2a8210a05e8d",
   "metadata": {},
   "source": [
    "## Evitamos Multicolinealidad\n",
    "Decidimos eliminar una columna PEA de las dos que generan las dummies, porque ya sabemos que si una es verdadera, la otra es falsa, entonces podemos evitarnos esta relación excluyente que tienen. Tampoco es útil la multicolinealidad para interpretar los coeficientes, por lo que para evitar confusiones es mejor no tenerlo en nuestro modelo. Así que solo tendremos en cuenta PEA 2, que adopta 1 si es Población inactiva, y adopta 0 si es Población economicamente activa (donde se encuentran los desocupados)\n",
    "Por otro lado, por si no se notó, decidimos eliminar Cond. de actividad, debido a que lo consideramos algo ilógico desde lo predictivo, porque estariamos prediciendo nuestra variable objetivo con una columna que incluye directamente la variable objetivo (Multicolinealidad muy alta)"
   ]
  },
  {
   "cell_type": "code",
   "execution_count": 40,
   "id": "cbc97da5-ab6b-47e9-9b0e-c0243f7a4619",
   "metadata": {},
   "outputs": [
    {
     "data": {
      "text/html": [
       "<div>\n",
       "<style scoped>\n",
       "    .dataframe tbody tr th:only-of-type {\n",
       "        vertical-align: middle;\n",
       "    }\n",
       "\n",
       "    .dataframe tbody tr th {\n",
       "        vertical-align: top;\n",
       "    }\n",
       "\n",
       "    .dataframe thead th {\n",
       "        text-align: right;\n",
       "    }\n",
       "</style>\n",
       "<table border=\"1\" class=\"dataframe\">\n",
       "  <thead>\n",
       "    <tr style=\"text-align: right;\">\n",
       "      <th></th>\n",
       "      <th>PEA_2.0</th>\n",
       "      <th>intercept</th>\n",
       "    </tr>\n",
       "  </thead>\n",
       "  <tbody>\n",
       "    <tr>\n",
       "      <th>7647</th>\n",
       "      <td>0</td>\n",
       "      <td>1</td>\n",
       "    </tr>\n",
       "    <tr>\n",
       "      <th>7648</th>\n",
       "      <td>1</td>\n",
       "      <td>1</td>\n",
       "    </tr>\n",
       "    <tr>\n",
       "      <th>7649</th>\n",
       "      <td>1</td>\n",
       "      <td>1</td>\n",
       "    </tr>\n",
       "    <tr>\n",
       "      <th>7650</th>\n",
       "      <td>0</td>\n",
       "      <td>1</td>\n",
       "    </tr>\n",
       "    <tr>\n",
       "      <th>7651</th>\n",
       "      <td>0</td>\n",
       "      <td>1</td>\n",
       "    </tr>\n",
       "    <tr>\n",
       "      <th>...</th>\n",
       "      <td>...</td>\n",
       "      <td>...</td>\n",
       "    </tr>\n",
       "    <tr>\n",
       "      <th>14642</th>\n",
       "      <td>1</td>\n",
       "      <td>1</td>\n",
       "    </tr>\n",
       "    <tr>\n",
       "      <th>14643</th>\n",
       "      <td>0</td>\n",
       "      <td>1</td>\n",
       "    </tr>\n",
       "    <tr>\n",
       "      <th>14644</th>\n",
       "      <td>0</td>\n",
       "      <td>1</td>\n",
       "    </tr>\n",
       "    <tr>\n",
       "      <th>14645</th>\n",
       "      <td>0</td>\n",
       "      <td>1</td>\n",
       "    </tr>\n",
       "    <tr>\n",
       "      <th>14646</th>\n",
       "      <td>0</td>\n",
       "      <td>1</td>\n",
       "    </tr>\n",
       "  </tbody>\n",
       "</table>\n",
       "<p>7000 rows × 2 columns</p>\n",
       "</div>"
      ],
      "text/plain": [
       "       PEA_2.0  intercept\n",
       "7647         0          1\n",
       "7648         1          1\n",
       "7649         1          1\n",
       "7650         0          1\n",
       "7651         0          1\n",
       "...        ...        ...\n",
       "14642        1          1\n",
       "14643        0          1\n",
       "14644        0          1\n",
       "14645        0          1\n",
       "14646        0          1\n",
       "\n",
       "[7000 rows x 2 columns]"
      ]
     },
     "execution_count": 40,
     "metadata": {},
     "output_type": "execute_result"
    }
   ],
   "source": [
    "X"
   ]
  },
  {
   "cell_type": "code",
   "execution_count": 42,
   "id": "e7e10a3a-2c45-49ba-808a-d2f1689bbb0a",
   "metadata": {},
   "outputs": [],
   "source": [
    "common_cols = X_train.columns.intersection(X_test.columns)\n"
   ]
  },
  {
   "cell_type": "code",
   "execution_count": 44,
   "id": "1abca4b5-cb6e-40aa-b8c3-3e3ac4e72408",
   "metadata": {},
   "outputs": [],
   "source": [
    "mean_train = X_train[common_cols].mean()\n",
    "mean_test = X_test[common_cols].mean()"
   ]
  },
  {
   "cell_type": "code",
   "execution_count": 46,
   "id": "9155a7d6-33d3-4f98-a464-f3ca58fdaad8",
   "metadata": {},
   "outputs": [
    {
     "name": "stdout",
     "output_type": "stream",
     "text": [
      "           Media Entrenamiento  Media Testeo  Diferencia Absoluta\n",
      "PEA_2.0               0.487347      0.517143             0.029796\n",
      "intercept             1.000000      1.000000             0.000000\n"
     ]
    }
   ],
   "source": [
    "diff_table = pd.DataFrame({\n",
    "    \"Media Entrenamiento\": mean_train,\n",
    "    \"Media Testeo\": mean_test,\n",
    "    \"Diferencia Absoluta\": (mean_train - mean_test).abs()\n",
    "})\n",
    "diff_table = diff_table.sort_values(\"Diferencia Absoluta\", ascending=False)\n",
    "print(diff_table)"
   ]
  },
  {
   "cell_type": "markdown",
   "id": "22cc21b9-e6db-43fb-ab14-5a52a21f1855",
   "metadata": {},
   "source": [
    "### Conclusión\n",
    "La tabla de diferencia de medias muestra que las medias de las variables explicativas en los conjuntos de entrenamiento y testeo son muy similares. La variable PEA presenta una diferencia absoluta pequeña de aproximadamente 0.03, lo que sugiere una distribución equilibrada."
   ]
  },
  {
   "cell_type": "markdown",
   "id": "61b00b03-15fc-4e96-a0e1-949c31873f17",
   "metadata": {},
   "source": [
    "# Punto 2"
   ]
  },
  {
   "cell_type": "code",
   "execution_count": 100,
   "id": "c15f99f3-7622-48bd-bec4-c48eec639b74",
   "metadata": {},
   "outputs": [],
   "source": [
    "edad = pd.read_csv(\"edad.csv\")"
   ]
  },
  {
   "cell_type": "code",
   "execution_count": 102,
   "id": "6dede3a2-d38b-476c-9c06-46232ac14447",
   "metadata": {},
   "outputs": [],
   "source": [
    "edad2 = pd.read_csv(\"edad2.csv\")"
   ]
  },
  {
   "cell_type": "code",
   "execution_count": 104,
   "id": "4d131eda-3190-445b-90bc-5724b4eaa82a",
   "metadata": {},
   "outputs": [],
   "source": [
    "horastrab = pd.read_csv(\"horastrab.csv\")"
   ]
  },
  {
   "cell_type": "code",
   "execution_count": 106,
   "id": "ba0823f5-d952-4669-8242-d1ef5204c873",
   "metadata": {},
   "outputs": [],
   "source": [
    "salario_semanal = pd.read_csv(\"salario semanal.csv\")"
   ]
  },
  {
   "cell_type": "code",
   "execution_count": 108,
   "id": "f9728079-c7ba-4bc9-a97c-3fa37c35092b",
   "metadata": {},
   "outputs": [],
   "source": [
    "educ = pd.read_csv(\"educ.csv\")"
   ]
  },
  {
   "cell_type": "code",
   "execution_count": 110,
   "id": "cfa1d39b-3934-4b57-b1e6-2a555fe9bdff",
   "metadata": {
    "scrolled": true
   },
   "outputs": [],
   "source": [
    "Ocupados=pd.read_csv(\"Ocupados.csv\")"
   ]
  },
  {
   "cell_type": "code",
   "execution_count": 112,
   "id": "f029c261-da06-407d-a42b-7c65fc2c28d4",
   "metadata": {},
   "outputs": [],
   "source": [
    "OcupadosEPH = Ocupados.combine_first(edad).dropna()\n"
   ]
  },
  {
   "cell_type": "code",
   "execution_count": 114,
   "id": "e3f70ff6-689a-4d5b-a941-814147ceb9b2",
   "metadata": {},
   "outputs": [],
   "source": [
    "OcupadosEPH=OcupadosEPH.combine_first(edad2).dropna()"
   ]
  },
  {
   "cell_type": "code",
   "execution_count": 116,
   "id": "f9b0cad4-b897-4b90-914d-13e30a79f8a3",
   "metadata": {},
   "outputs": [],
   "source": [
    "OcupadosEPH = OcupadosEPH.combine_first(educ).dropna()"
   ]
  },
  {
   "cell_type": "code",
   "execution_count": 118,
   "id": "d3297e1e-d533-489f-aeac-fa00c78f727a",
   "metadata": {},
   "outputs": [],
   "source": [
    "OcupadosEPH = OcupadosEPH.combine_first(horastrab).dropna()"
   ]
  },
  {
   "cell_type": "code",
   "execution_count": 120,
   "id": "767a8b35-ec74-425c-a94b-e07dc1d9fcc9",
   "metadata": {},
   "outputs": [
    {
     "data": {
      "text/html": [
       "<div>\n",
       "<style scoped>\n",
       "    .dataframe tbody tr th:only-of-type {\n",
       "        vertical-align: middle;\n",
       "    }\n",
       "\n",
       "    .dataframe tbody tr th {\n",
       "        vertical-align: top;\n",
       "    }\n",
       "\n",
       "    .dataframe thead th {\n",
       "        text-align: right;\n",
       "    }\n",
       "</style>\n",
       "<table border=\"1\" class=\"dataframe\">\n",
       "  <thead>\n",
       "    <tr style=\"text-align: right;\">\n",
       "      <th></th>\n",
       "      <th>año</th>\n",
       "      <th>edad</th>\n",
       "      <th>edad2</th>\n",
       "      <th>educ</th>\n",
       "      <th>estado</th>\n",
       "      <th>horastrab</th>\n",
       "      <th>salario semanal</th>\n",
       "    </tr>\n",
       "  </thead>\n",
       "  <tbody>\n",
       "    <tr>\n",
       "      <th>0</th>\n",
       "      <td>2004.0</td>\n",
       "      <td>79.0</td>\n",
       "      <td>6241.0</td>\n",
       "      <td>10.0</td>\n",
       "      <td>1.0</td>\n",
       "      <td>0.0</td>\n",
       "      <td>0.0</td>\n",
       "    </tr>\n",
       "    <tr>\n",
       "      <th>1</th>\n",
       "      <td>2004.0</td>\n",
       "      <td>67.0</td>\n",
       "      <td>4489.0</td>\n",
       "      <td>16.0</td>\n",
       "      <td>1.0</td>\n",
       "      <td>0.0</td>\n",
       "      <td>0.0</td>\n",
       "    </tr>\n",
       "    <tr>\n",
       "      <th>2</th>\n",
       "      <td>2004.0</td>\n",
       "      <td>74.0</td>\n",
       "      <td>5476.0</td>\n",
       "      <td>14.0</td>\n",
       "      <td>1.0</td>\n",
       "      <td>0.0</td>\n",
       "      <td>0.0</td>\n",
       "    </tr>\n",
       "    <tr>\n",
       "      <th>3</th>\n",
       "      <td>2004.0</td>\n",
       "      <td>54.0</td>\n",
       "      <td>2916.0</td>\n",
       "      <td>10.0</td>\n",
       "      <td>1.0</td>\n",
       "      <td>59.0</td>\n",
       "      <td>60000.0</td>\n",
       "    </tr>\n",
       "    <tr>\n",
       "      <th>4</th>\n",
       "      <td>2004.0</td>\n",
       "      <td>51.0</td>\n",
       "      <td>2601.0</td>\n",
       "      <td>9.0</td>\n",
       "      <td>1.0</td>\n",
       "      <td>0.0</td>\n",
       "      <td>0.0</td>\n",
       "    </tr>\n",
       "    <tr>\n",
       "      <th>...</th>\n",
       "      <td>...</td>\n",
       "      <td>...</td>\n",
       "      <td>...</td>\n",
       "      <td>...</td>\n",
       "      <td>...</td>\n",
       "      <td>...</td>\n",
       "      <td>...</td>\n",
       "    </tr>\n",
       "    <tr>\n",
       "      <th>7195</th>\n",
       "      <td>2024.0</td>\n",
       "      <td>54.0</td>\n",
       "      <td>2916.0</td>\n",
       "      <td>7.0</td>\n",
       "      <td>1.0</td>\n",
       "      <td>40.0</td>\n",
       "      <td>0.0</td>\n",
       "    </tr>\n",
       "    <tr>\n",
       "      <th>7196</th>\n",
       "      <td>2024.0</td>\n",
       "      <td>24.0</td>\n",
       "      <td>576.0</td>\n",
       "      <td>9.0</td>\n",
       "      <td>1.0</td>\n",
       "      <td>0.0</td>\n",
       "      <td>0.0</td>\n",
       "    </tr>\n",
       "    <tr>\n",
       "      <th>7197</th>\n",
       "      <td>2024.0</td>\n",
       "      <td>20.0</td>\n",
       "      <td>400.0</td>\n",
       "      <td>10.0</td>\n",
       "      <td>1.0</td>\n",
       "      <td>0.0</td>\n",
       "      <td>0.0</td>\n",
       "    </tr>\n",
       "    <tr>\n",
       "      <th>7198</th>\n",
       "      <td>2024.0</td>\n",
       "      <td>1.0</td>\n",
       "      <td>1.0</td>\n",
       "      <td>7.0</td>\n",
       "      <td>1.0</td>\n",
       "      <td>0.0</td>\n",
       "      <td>0.0</td>\n",
       "    </tr>\n",
       "    <tr>\n",
       "      <th>7199</th>\n",
       "      <td>2024.0</td>\n",
       "      <td>38.0</td>\n",
       "      <td>1444.0</td>\n",
       "      <td>14.0</td>\n",
       "      <td>1.0</td>\n",
       "      <td>0.0</td>\n",
       "      <td>4500.0</td>\n",
       "    </tr>\n",
       "  </tbody>\n",
       "</table>\n",
       "<p>7013 rows × 7 columns</p>\n",
       "</div>"
      ],
      "text/plain": [
       "         año  edad   edad2  educ  estado  horastrab  salario semanal\n",
       "0     2004.0  79.0  6241.0  10.0     1.0        0.0              0.0\n",
       "1     2004.0  67.0  4489.0  16.0     1.0        0.0              0.0\n",
       "2     2004.0  74.0  5476.0  14.0     1.0        0.0              0.0\n",
       "3     2004.0  54.0  2916.0  10.0     1.0       59.0          60000.0\n",
       "4     2004.0  51.0  2601.0   9.0     1.0        0.0              0.0\n",
       "...      ...   ...     ...   ...     ...        ...              ...\n",
       "7195  2024.0  54.0  2916.0   7.0     1.0       40.0              0.0\n",
       "7196  2024.0  24.0   576.0   9.0     1.0        0.0              0.0\n",
       "7197  2024.0  20.0   400.0  10.0     1.0        0.0              0.0\n",
       "7198  2024.0   1.0     1.0   7.0     1.0        0.0              0.0\n",
       "7199  2024.0  38.0  1444.0  14.0     1.0        0.0           4500.0\n",
       "\n",
       "[7013 rows x 7 columns]"
      ]
     },
     "execution_count": 120,
     "metadata": {},
     "output_type": "execute_result"
    }
   ],
   "source": [
    "OcupadosEPH = OcupadosEPH.combine_first(salario_semanal).dropna()\n",
    "OcupadosEPH"
   ]
  },
  {
   "cell_type": "code",
   "execution_count": 70,
   "id": "b15a7411-42b4-4449-b2da-ed50ba611e59",
   "metadata": {},
   "outputs": [],
   "source": [
    "import statsmodels.api as sm"
   ]
  },
  {
   "cell_type": "code",
   "execution_count": 72,
   "id": "4a92b40b-f7f5-4ffb-b35f-82b5c380009c",
   "metadata": {},
   "outputs": [],
   "source": [
    "from sklearn.model_selection import train_test_split\n",
    "\n",
    "\n",
    "X_train, X_test, y_train, y_test = train_test_split(X, y, test_size=0.3, random_state=42)\n",
    "\n",
    "\n",
    "df_train = X_train.copy()\n",
    "df_train[\"salario_semanal\"] = y_train\n"
   ]
  },
  {
   "cell_type": "code",
   "execution_count": 74,
   "id": "49e8c9ac-8a51-4185-ba27-3db503702e54",
   "metadata": {},
   "outputs": [
    {
     "name": "stdout",
     "output_type": "stream",
     "text": [
      "\n",
      "Procesando año: 2004.0\n"
     ]
    },
    {
     "ename": "ValueError",
     "evalue": "Found input variables with inconsistent numbers of samples: [14699, 14698]",
     "output_type": "error",
     "traceback": [
      "\u001b[1;31m---------------------------------------------------------------------------\u001b[0m",
      "\u001b[1;31mValueError\u001b[0m                                Traceback (most recent call last)",
      "Cell \u001b[1;32mIn[74], line 11\u001b[0m\n\u001b[0;32m      8\u001b[0m X \u001b[38;5;241m=\u001b[39m X\u001b[38;5;241m.\u001b[39mcopy() \u001b[38;5;66;03m#Esto para evitar warnings y errores\u001b[39;00m\n\u001b[0;32m      9\u001b[0m X[\u001b[38;5;124m\"\u001b[39m\u001b[38;5;124mintercept\u001b[39m\u001b[38;5;124m\"\u001b[39m] \u001b[38;5;241m=\u001b[39m \u001b[38;5;241m1\u001b[39m \u001b[38;5;66;03m#La columna de unos es útil para la ordenada al origen, Beta sub 0\u001b[39;00m\n\u001b[1;32m---> 11\u001b[0m X_train, X_test, y_train, y_test \u001b[38;5;241m=\u001b[39m train_test_split(X, y, train_size\u001b[38;5;241m=\u001b[39m\u001b[38;5;241m0.7\u001b[39m, random_state\u001b[38;5;241m=\u001b[39m\u001b[38;5;241m444\u001b[39m) \u001b[38;5;66;03m#Requerimientos de la consigna\u001b[39;00m\n\u001b[0;32m     12\u001b[0m \u001b[38;5;28mprint\u001b[39m(\u001b[38;5;124mf\u001b[39m\u001b[38;5;124m\"\u001b[39m\u001b[38;5;124mAño \u001b[39m\u001b[38;5;132;01m{\u001b[39;00maño\u001b[38;5;132;01m}\u001b[39;00m\u001b[38;5;124m:\u001b[39m\u001b[38;5;124m\"\u001b[39m)\n\u001b[0;32m     13\u001b[0m \u001b[38;5;28mprint\u001b[39m(\u001b[38;5;124mf\u001b[39m\u001b[38;5;124m\"\u001b[39m\u001b[38;5;124mTrain shape: \u001b[39m\u001b[38;5;132;01m{\u001b[39;00mX_train\u001b[38;5;241m.\u001b[39mshape\u001b[38;5;132;01m}\u001b[39;00m\u001b[38;5;124m, Test shape: \u001b[39m\u001b[38;5;132;01m{\u001b[39;00mX_test\u001b[38;5;241m.\u001b[39mshape\u001b[38;5;132;01m}\u001b[39;00m\u001b[38;5;124m\"\u001b[39m)\n",
      "File \u001b[1;32mF:\\Anaconda\\Lib\\site-packages\\sklearn\\utils\\_param_validation.py:213\u001b[0m, in \u001b[0;36mvalidate_params.<locals>.decorator.<locals>.wrapper\u001b[1;34m(*args, **kwargs)\u001b[0m\n\u001b[0;32m    207\u001b[0m \u001b[38;5;28;01mtry\u001b[39;00m:\n\u001b[0;32m    208\u001b[0m     \u001b[38;5;28;01mwith\u001b[39;00m config_context(\n\u001b[0;32m    209\u001b[0m         skip_parameter_validation\u001b[38;5;241m=\u001b[39m(\n\u001b[0;32m    210\u001b[0m             prefer_skip_nested_validation \u001b[38;5;129;01mor\u001b[39;00m global_skip_validation\n\u001b[0;32m    211\u001b[0m         )\n\u001b[0;32m    212\u001b[0m     ):\n\u001b[1;32m--> 213\u001b[0m         \u001b[38;5;28;01mreturn\u001b[39;00m func(\u001b[38;5;241m*\u001b[39margs, \u001b[38;5;241m*\u001b[39m\u001b[38;5;241m*\u001b[39mkwargs)\n\u001b[0;32m    214\u001b[0m \u001b[38;5;28;01mexcept\u001b[39;00m InvalidParameterError \u001b[38;5;28;01mas\u001b[39;00m e:\n\u001b[0;32m    215\u001b[0m     \u001b[38;5;66;03m# When the function is just a wrapper around an estimator, we allow\u001b[39;00m\n\u001b[0;32m    216\u001b[0m     \u001b[38;5;66;03m# the function to delegate validation to the estimator, but we replace\u001b[39;00m\n\u001b[0;32m    217\u001b[0m     \u001b[38;5;66;03m# the name of the estimator by the name of the function in the error\u001b[39;00m\n\u001b[0;32m    218\u001b[0m     \u001b[38;5;66;03m# message to avoid confusion.\u001b[39;00m\n\u001b[0;32m    219\u001b[0m     msg \u001b[38;5;241m=\u001b[39m re\u001b[38;5;241m.\u001b[39msub(\n\u001b[0;32m    220\u001b[0m         \u001b[38;5;124mr\u001b[39m\u001b[38;5;124m\"\u001b[39m\u001b[38;5;124mparameter of \u001b[39m\u001b[38;5;124m\\\u001b[39m\u001b[38;5;124mw+ must be\u001b[39m\u001b[38;5;124m\"\u001b[39m,\n\u001b[0;32m    221\u001b[0m         \u001b[38;5;124mf\u001b[39m\u001b[38;5;124m\"\u001b[39m\u001b[38;5;124mparameter of \u001b[39m\u001b[38;5;132;01m{\u001b[39;00mfunc\u001b[38;5;241m.\u001b[39m\u001b[38;5;18m__qualname__\u001b[39m\u001b[38;5;132;01m}\u001b[39;00m\u001b[38;5;124m must be\u001b[39m\u001b[38;5;124m\"\u001b[39m,\n\u001b[0;32m    222\u001b[0m         \u001b[38;5;28mstr\u001b[39m(e),\n\u001b[0;32m    223\u001b[0m     )\n",
      "File \u001b[1;32mF:\\Anaconda\\Lib\\site-packages\\sklearn\\model_selection\\_split.py:2777\u001b[0m, in \u001b[0;36mtrain_test_split\u001b[1;34m(test_size, train_size, random_state, shuffle, stratify, *arrays)\u001b[0m\n\u001b[0;32m   2774\u001b[0m \u001b[38;5;28;01mif\u001b[39;00m n_arrays \u001b[38;5;241m==\u001b[39m \u001b[38;5;241m0\u001b[39m:\n\u001b[0;32m   2775\u001b[0m     \u001b[38;5;28;01mraise\u001b[39;00m \u001b[38;5;167;01mValueError\u001b[39;00m(\u001b[38;5;124m\"\u001b[39m\u001b[38;5;124mAt least one array required as input\u001b[39m\u001b[38;5;124m\"\u001b[39m)\n\u001b[1;32m-> 2777\u001b[0m arrays \u001b[38;5;241m=\u001b[39m indexable(\u001b[38;5;241m*\u001b[39marrays)\n\u001b[0;32m   2779\u001b[0m n_samples \u001b[38;5;241m=\u001b[39m _num_samples(arrays[\u001b[38;5;241m0\u001b[39m])\n\u001b[0;32m   2780\u001b[0m n_train, n_test \u001b[38;5;241m=\u001b[39m _validate_shuffle_split(\n\u001b[0;32m   2781\u001b[0m     n_samples, test_size, train_size, default_test_size\u001b[38;5;241m=\u001b[39m\u001b[38;5;241m0.25\u001b[39m\n\u001b[0;32m   2782\u001b[0m )\n",
      "File \u001b[1;32mF:\\Anaconda\\Lib\\site-packages\\sklearn\\utils\\validation.py:514\u001b[0m, in \u001b[0;36mindexable\u001b[1;34m(*iterables)\u001b[0m\n\u001b[0;32m    484\u001b[0m \u001b[38;5;250m\u001b[39m\u001b[38;5;124;03m\"\"\"Make arrays indexable for cross-validation.\u001b[39;00m\n\u001b[0;32m    485\u001b[0m \n\u001b[0;32m    486\u001b[0m \u001b[38;5;124;03mChecks consistent length, passes through None, and ensures that everything\u001b[39;00m\n\u001b[1;32m   (...)\u001b[0m\n\u001b[0;32m    510\u001b[0m \u001b[38;5;124;03m[[1, 2, 3], array([2, 3, 4]), None, <3x1 sparse matrix ...>]\u001b[39;00m\n\u001b[0;32m    511\u001b[0m \u001b[38;5;124;03m\"\"\"\u001b[39;00m\n\u001b[0;32m    513\u001b[0m result \u001b[38;5;241m=\u001b[39m [_make_indexable(X) \u001b[38;5;28;01mfor\u001b[39;00m X \u001b[38;5;129;01min\u001b[39;00m iterables]\n\u001b[1;32m--> 514\u001b[0m check_consistent_length(\u001b[38;5;241m*\u001b[39mresult)\n\u001b[0;32m    515\u001b[0m \u001b[38;5;28;01mreturn\u001b[39;00m result\n",
      "File \u001b[1;32mF:\\Anaconda\\Lib\\site-packages\\sklearn\\utils\\validation.py:457\u001b[0m, in \u001b[0;36mcheck_consistent_length\u001b[1;34m(*arrays)\u001b[0m\n\u001b[0;32m    455\u001b[0m uniques \u001b[38;5;241m=\u001b[39m np\u001b[38;5;241m.\u001b[39munique(lengths)\n\u001b[0;32m    456\u001b[0m \u001b[38;5;28;01mif\u001b[39;00m \u001b[38;5;28mlen\u001b[39m(uniques) \u001b[38;5;241m>\u001b[39m \u001b[38;5;241m1\u001b[39m:\n\u001b[1;32m--> 457\u001b[0m     \u001b[38;5;28;01mraise\u001b[39;00m \u001b[38;5;167;01mValueError\u001b[39;00m(\n\u001b[0;32m    458\u001b[0m         \u001b[38;5;124m\"\u001b[39m\u001b[38;5;124mFound input variables with inconsistent numbers of samples: \u001b[39m\u001b[38;5;132;01m%r\u001b[39;00m\u001b[38;5;124m\"\u001b[39m\n\u001b[0;32m    459\u001b[0m         \u001b[38;5;241m%\u001b[39m [\u001b[38;5;28mint\u001b[39m(l) \u001b[38;5;28;01mfor\u001b[39;00m l \u001b[38;5;129;01min\u001b[39;00m lengths]\n\u001b[0;32m    460\u001b[0m     )\n",
      "\u001b[1;31mValueError\u001b[0m: Found input variables with inconsistent numbers of samples: [14699, 14698]"
     ]
    }
   ],
   "source": [
    "for año in salario_semanal[\"año\"].unique():\n",
    "    print(f\"\\nProcesando año: {año}\")\n",
    "    \n",
    "    y = salario_semanal[[\"salario semanal\"]] #Esta será nuestra variable independiente\n",
    "    \n",
    "    X = edad[\"edad\"] #Predictor/es\n",
    "    X = X.astype(int) \n",
    "    X = X.copy() #Esto para evitar warnings y errores\n",
    "    X[\"intercept\"] = 1 #La columna de unos es útil para la ordenada al origen, Beta sub 0\n",
    "    \n",
    "    X_train, X_test, y_train, y_test = train_test_split(X, y, train_size=0.7, random_state=444) #Requerimientos de la consigna\n",
    "    print(f\"Año {año}:\")\n",
    "    print(f\"Train shape: {X_train.shape}, Test shape: {X_test.shape}\")\n",
    "    #Podemos ver ahora la cantidad de filas y columnas que tienen nuestras muestras en cada año."
   ]
  },
  {
   "cell_type": "code",
   "execution_count": null,
   "id": "86ebed6e-17b0-4692-acf0-1745623e0d4a",
   "metadata": {},
   "outputs": [],
   "source": []
  }
 ],
 "metadata": {
  "kernelspec": {
   "display_name": "Python [conda env:base] *",
   "language": "python",
   "name": "conda-base-py"
  },
  "language_info": {
   "codemirror_mode": {
    "name": "ipython",
    "version": 3
   },
   "file_extension": ".py",
   "mimetype": "text/x-python",
   "name": "python",
   "nbconvert_exporter": "python",
   "pygments_lexer": "ipython3",
   "version": "3.12.7"
  }
 },
 "nbformat": 4,
 "nbformat_minor": 5
}
